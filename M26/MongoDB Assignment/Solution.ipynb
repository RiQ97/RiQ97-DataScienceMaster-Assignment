{
 "cells": [
  {
   "cell_type": "markdown",
   "metadata": {},
   "source": [
    "Q1. What is MongoDB? Explain non-relational databases in short. In which scenarios it is preferred to use MongoDB over SQL databases?\n",
    "\n",
    "A1. MongoDB is a popular open-source, document-oriented NoSQL database that stores data in flexible, JSON-like documents. It is designed to handle large volumes of data and can scale easily with sharding and replication.\n",
    "\n",
    "Non-relational databases, or NoSQL databases, do not use a traditional table-based relational database structure. Instead, they use various data models, including document, key-value, graph, and column-family. These databases are typically schema-less, allowing for flexible and scalable data storage.\n",
    "\n",
    "These are the scenarios to prefer MongoDB Over SQL Databases:-\n",
    "\n",
    "1. Flexible Schema: When the data structure is not fixed and can evolve over time.\n",
    "2. High Volume of Data: For applications requiring large-scale data storage and high write and read throughput.\n",
    "3. Horizontal Scalability: When horizontal scaling across multiple servers is needed.\n",
    "4. Complex Data Types: When storing complex data types like arrays and nested objects."
   ]
  },
  {
   "cell_type": "markdown",
   "metadata": {},
   "source": [
    "Q2. State and Explain the features of MongoDB.\n",
    "\n",
    "A2. The prominent features of mongodb are as follow:-\n",
    "1. Document-Oriented Storage: Stores data in JSON-like documents, providing a flexible schema.\n",
    "2. Scalability: Supports horizontal scaling with sharding.\n",
    "3. Replication: Provides high availability with replica sets.\n",
    "4. Indexing: Supports various types of indexes to improve query performance.\n",
    "5. Aggregation: Offers powerful aggregation framework for data analysis and transformation.\n",
    "6. Ad Hoc Queries: Supports dynamic queries, allowing for a wide range of query possibilities.\n",
    "7. Load Balancing: Distributes data across multiple servers for balanced load and fault tolerance.\n",
    "8. High Performance: Designed for high throughput and low latency."
   ]
  },
  {
   "cell_type": "markdown",
   "metadata": {},
   "source": [
    "Q3. Write a code to connect MongoDB to Python. Also, create a database and a collection in MongoDB."
   ]
  },
  {
   "cell_type": "code",
   "execution_count": 1,
   "metadata": {},
   "outputs": [
    {
     "name": "stdout",
     "output_type": "stream",
     "text": [
      "Database and Collection created successfully.\n"
     ]
    }
   ],
   "source": [
    "#A3.\n",
    "from pymongo import MongoClient\n",
    "\n",
    "# Connect to MongoDB\n",
    "client = MongoClient('localhost', 27017)\n",
    "\n",
    "# Create a database\n",
    "db = client['mydatabase']\n",
    "\n",
    "# Create a collection\n",
    "collection = db['mycollection']\n",
    "\n",
    "print(\"Database and Collection created successfully.\")\n"
   ]
  },
  {
   "cell_type": "markdown",
   "metadata": {},
   "source": [
    "Q4. Using the database and the collection created in question number 3, write a code to insert one record, and insert many records. Use the find() and find_one() methods to print the inserted record."
   ]
  },
  {
   "cell_type": "code",
   "execution_count": null,
   "metadata": {},
   "outputs": [],
   "source": [
    "#A4.\n",
    "from pymongo import MongoClient\n",
    "client = MongoClient('localhost', 27017)\n",
    "db = client['mydatabase']\n",
    "collection = db['mycollection']\n",
    "\n",
    "record = {\"name\": \"Raj\", \"age\": 27, \"city\": \"New Patna\"}\n",
    "collection.insert_one(record)\n",
    "\n",
    "records = [\n",
    "    {\"name\": \"Alice\", \"age\": 25, \"city\": \"Varanasi\"},\n",
    "    {\"name\": \"Bob\", \"age\": 22, \"city\": \"Delhi\"},\n",
    "    {\"name\": \"Charlie\", \"age\": 28, \"city\": \"Kolkata\"}\n",
    "]\n",
    "collection.insert_many(records)\n",
    "\n",
    "print(\"Find one:\", collection.find_one({\"name\": \"Raj\"}))\n",
    "\n",
    "print(\"Find all:\")\n",
    "for doc in collection.find():\n",
    "    print(doc)"
   ]
  },
  {
   "cell_type": "markdown",
   "metadata": {},
   "source": [
    "Q5. Explain how you can use the find() method to query the MongoDB database. Write a simple code to demonstrate this.\n",
    "\n",
    "A5. The find() method is used to query the MongoDB database. It returns a cursor to the documents that match the query criteria."
   ]
  },
  {
   "cell_type": "code",
   "execution_count": null,
   "metadata": {},
   "outputs": [],
   "source": [
    "from pymongo import MongoClient\n",
    "\n",
    "client = MongoClient('localhost', 27017)\n",
    "db = client['mydatabase']\n",
    "collection = db['mycollection']\n",
    "\n",
    "records = [\n",
    "    {\"name\": \"John\", \"age\": 30, \"city\": \"New Patna\"},\n",
    "    {\"name\": \"Alice\", \"age\": 25, \"city\": \"Varanasi\"},\n",
    "    {\"name\": \"Bob\", \"age\": 22, \"city\": \"Delhi\"},\n",
    "    {\"name\": \"Charlie\", \"age\": 28, \"city\": \"Kolkata\"}\n",
    "]\n",
    "collection.insert_many(records)\n",
    "\n",
    "query = {\"age\": {\"$gt\": 25}}  \n",
    "results = collection.find(query)\n",
    "\n",
    "print(\"Query results:\")\n",
    "for doc in results:\n",
    "    print(doc)"
   ]
  },
  {
   "cell_type": "markdown",
   "metadata": {},
   "source": [
    "Q6. Explain the sort() method. Give an example to demonstrate sorting in MongoDB.\n",
    "\n",
    "A6. The sort() method is used to sort the results of a query in either ascending (1) or descending (-1) order.\n"
   ]
  },
  {
   "cell_type": "code",
   "execution_count": null,
   "metadata": {},
   "outputs": [],
   "source": [
    "from pymongo import MongoClient\n",
    "client = MongoClient('localhost', 27017)\n",
    "db = client['mydatabase']\n",
    "collection = db['mycollection']\n",
    "\n",
    "records = [\n",
    "    {\"name\": \"John\", \"age\": 30, \"city\": \"New Patna\"},\n",
    "    {\"name\": \"Alice\", \"age\": 25, \"city\": \"Varanasi\"},\n",
    "    {\"name\": \"Bob\", \"age\": 22, \"city\": \"Delhi\"},\n",
    "    {\"name\": \"Charlie\", \"age\": 28, \"city\": \"Kolkata\"}\n",
    "]\n",
    "collection.insert_many(records)\n",
    "sorted_results = collection.find().sort(\"age\", 1)\n",
    "\n",
    "print(\"Sorted results:\")\n",
    "for doc in sorted_results:\n",
    "    print(doc)"
   ]
  },
  {
   "cell_type": "markdown",
   "metadata": {},
   "source": [
    "\n",
    "Q7. Explain why delete_one(), delete_many(), and drop() is used.\n",
    "\n",
    "A7. These are one of the important function in python to work with mongodb.\n",
    "\n",
    "1. delete_one(): Deletes a single document that matches the specified filter.\n",
    "\n",
    "Ex- collection.delete_one({\"name\": \"Raj\"})\n",
    "\n",
    "2. delete_many(): Deletes all documents that match the specified filter.\n",
    "\n",
    "Ex- collection.delete_many({\"age\": {\"$gt\": 25}})\n",
    "\n",
    "3. drop(): Deletes the entire collection, including all documents and indexes.\n",
    "\n",
    "Ex- collection.drop()"
   ]
  }
 ],
 "metadata": {
  "kernelspec": {
   "display_name": "Python 3",
   "language": "python",
   "name": "python3"
  },
  "language_info": {
   "codemirror_mode": {
    "name": "ipython",
    "version": 3
   },
   "file_extension": ".py",
   "mimetype": "text/x-python",
   "name": "python",
   "nbconvert_exporter": "python",
   "pygments_lexer": "ipython3",
   "version": "3.12.4"
  }
 },
 "nbformat": 4,
 "nbformat_minor": 2
}

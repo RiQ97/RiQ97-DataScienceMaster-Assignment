{
 "cells": [
  {
   "cell_type": "markdown",
   "metadata": {},
   "source": [
    "### Q1. What are the three measures of central tendency?\n",
    "\n",
    "A1. The three measures of central tendency are:\n",
    "1. **Mean**\n",
    "2. **Median**\n",
    "3. **Mode**\n",
    "\n",
    "### Q2. What is the difference between the mean, median, and mode? How are they used to measure the central tendency of a dataset?\n",
    "\n",
    "A2.\n",
    "- **Mean**: The mean is the arithmetic average of a dataset, calculated by adding all the values and dividing by the number of values. It is used to measure the central tendency when the data is symmetrically distributed without outliers.\n",
    "\n",
    "- **Median**: The median is the middle value when a dataset is ordered from smallest to largest. If the number of values is even, the median is the average of the two middle numbers. It is used to measure the central tendency for skewed distributions or when outliers are present.\n",
    "\n",
    "- **Mode**: The mode is the value that appears most frequently in a dataset. There can be more than one mode if multiple values have the highest frequency. It is used to measure the central tendency for categorical data or to identify the most common value in a dataset.\n",
    "\n",
    "### Q3. Measure the three measures of central tendency for the given height data:\n",
    "[178,177,176,177,178.2,178,175,179,180,175,178.9,176.2,177,172.5,178,176.5]\n"
   ]
  },
  {
   "cell_type": "code",
   "execution_count": 8,
   "metadata": {},
   "outputs": [
    {
     "name": "stdout",
     "output_type": "stream",
     "text": [
      "Mean: 177.01875\n",
      "Median: 177.0\n",
      "Mode: 178\n"
     ]
    }
   ],
   "source": [
    "#A3.\n",
    "import statistics\n",
    "import numpy as np\n",
    "\n",
    "# Given height data\n",
    "height_data = [178, 177, 176, 177, 178.2, 178, 175, 179, 180, 175, 178.9, 176.2, 177, 172.5, 178, 176.5]\n",
    "\n",
    "# Mean\n",
    "mean_height = np.mean(height_data)\n",
    "\n",
    "# Median\n",
    "median_height = np.median(height_data)\n",
    "\n",
    "# Mode\n",
    "mode_height = statistics.mode(height_data)\n",
    "\n",
    "print(f\"Mean: {mean_height}\")\n",
    "print(f\"Median: {median_height}\")\n",
    "print(f\"Mode: {mode_height}\")\n"
   ]
  },
  {
   "cell_type": "markdown",
   "metadata": {},
   "source": [
    "### Q4. Find the standard deviation for the given data:\n",
    "[178,177,176,177,178.2,178,175,179,180,175,178.9,176.2,177,172.5,178,176.5]"
   ]
  },
  {
   "cell_type": "code",
   "execution_count": 9,
   "metadata": {},
   "outputs": [
    {
     "data": {
      "text/plain": [
       "np.float64(1.7885814036548633)"
      ]
     },
     "execution_count": 9,
     "metadata": {},
     "output_type": "execute_result"
    }
   ],
   "source": [
    "#A4.\n",
    "import numpy as np\n",
    "\n",
    "data = [178, 177, 176, 177, 178.2, 178, 175, 179, 180, 175, 178.9, 176.2, 177, 172.5, 178, 176.5]\n",
    "\n",
    "std_deviation = np.std(data)\n",
    "\n",
    "std_deviation"
   ]
  },
  {
   "cell_type": "markdown",
   "metadata": {},
   "source": [
    "### Q5. How are measures of dispersion such as range, variance, and standard deviation used to describe the spread of a dataset? Provide an example.\n",
    "\n",
    "A5. \n",
    "- **Range**: The difference between the maximum and minimum values in a dataset. It provides a quick sense of the spread but is sensitive to outliers.\n",
    "  Example: For the data [2, 5, 8, 10], the range is \\(10 - 2 = 8\\).\n",
    "\n",
    "- **Variance**: The average of the squared differences from the mean. It gives more weight to outliers and provides a measure of how data points spread out from the mean.\n",
    "  Example: For the data [2, 5, 8, 10], the variance can be calculated using \\(\\frac{\\sum (x - \\bar{x})^2}{n}\\).\n",
    "\n",
    "- **Standard Deviation**: The square root of the variance. It is in the same units as the data and provides a measure of the average distance of each data point from the mean.\n",
    "  Example: For the data [2, 5, 8, 10], the standard deviation is the square root of the variance.\n",
    "\n",
    "### Q6. What is a Venn diagram?\n",
    "\n",
    "A6. A **Venn diagram** is a diagram that shows all possible logical relations between a finite collection of different sets. They are used to illustrate the relationships and intersections between sets.\n",
    "\n",
    "### Q7. For the two given sets A = {2, 3, 4, 5, 6, 7} & B = {0, 2, 6, 8, 10}, find:\n",
    "(i) A intersection B\n",
    "(ii) A union B\n",
    "\n",
    "A7. (i) {2,6}\n",
    "(ii) {0, 2, 3, 4, 5, 6, 7, 8, 10}\n",
    "\n",
    "### Q8. What do you understand about skewness in data?\n",
    "\n",
    "A8. Skewness refers to the asymmetry of the distribution of values in a dataset. It indicates whether the data points are skewed to the left (negative skew) or to the right (positive skew).\n",
    "\n",
    "### Q9. If data is right-skewed, what will be the position of the median with respect to the mean?\n",
    "\n",
    "A9. If data is right-skewed, the mean will be greater than the median. This is because the long tail on the right side pulls the mean towards higher values.\n",
    "\n",
    "### Q10. Explain the difference between covariance and correlation. How are these measures used in statistical analysis?\n",
    "\n",
    "A10. **Covariance**: Measures the degree to which two variables change together. It can be positive (both variables increase together) or negative (one variable increases as the other decreases).\n",
    "**Correlation**: Standardizes covariance to a value between -1 and 1, providing a measure of the strength and direction of the relationship between two variables. \n",
    "\n",
    "Correlation is used to assess the strength and direction of a linear relationship between variables, while covariance gives the direction but not the strength.\n",
    "\n",
    "### Q11. What is the formula for calculating the sample mean? Provide an example calculation for a dataset.\n",
    "\n",
    "A11. The formula for the sample mean is:\n",
    "\n",
    "\\[\n",
    "\\text{Sample Mean} (\\bar{x}) = \\frac{1}{n} \\sum_{i=1}^{n} x_i\n",
    "\\]\n",
    "\n",
    "Where:\n",
    "- \\( \\bar{x} \\) is the sample mean.\n",
    "- \\( n \\) is the number of observations in the sample.\n",
    "- \\( x_i \\) represents each individual observation.\n",
    "\n",
    "Example\n"
   ]
  },
  {
   "cell_type": "code",
   "execution_count": 10,
   "metadata": {},
   "outputs": [
    {
     "name": "stdout",
     "output_type": "stream",
     "text": [
      "Sample Mean: 19.8\n"
     ]
    }
   ],
   "source": [
    "# Sample dataset\n",
    "data = [12, 15, 20, 22, 30]\n",
    "\n",
    "# Calculate the sample mean\n",
    "sample_mean = sum(data) / len(data)\n",
    "\n",
    "# Print the result\n",
    "print(\"Sample Mean:\", sample_mean)"
   ]
  },
  {
   "cell_type": "markdown",
   "metadata": {},
   "source": [
    "\n",
    "### Q12. For a normal distribution data, what is the relationship between its measure of central tendency?\n",
    "\n",
    "A12. For a normal distribution, the mean, median, and mode are all equal. This is because the distribution is perfectly symmetrical around its center.\n",
    "\n",
    "### Q13. How is covariance different from correlation?\n",
    "\n",
    "A13. **Covariance**: Measures the degree to which two variables change together. It is not standardized and can take any value. Positive covariance indicates that the variables tend to increase together, while negative covariance indicates that one variable tends to increase as the other decreases.\n",
    "**Correlation**: Measures the strength and direction of a linear relationship between two variables. It is standardized to range between -1 and 1, where -1 indicates a perfect negative linear relationship, 0 indicates no linear relationship, and 1 indicates a perfect positive linear relationship. Correlation is a scaled version of covariance.\n",
    "\n",
    "### Q14. How do outliers affect measures of central tendency and dispersion? Provide an example.\n",
    "\n",
    "A14. Outliers can significantly affect measures of central tendency and dispersion:\n",
    "\n",
    "- **Mean**: Outliers can skew the mean, making it higher or lower than the central value of the bulk of the data. For example, in the dataset [1, 2, 3, 4, 100], the mean is 22, which does not represent the central tendency of most data points.\n",
    "\n",
    "- **Median**: Outliers have little effect on the median because it is based on the middle value. For the same dataset [1, 2, 3, 4, 100], the median is 3.\n",
    "\n",
    "- **Mode**: Outliers generally do not affect the mode, as it is the most frequent value. For the dataset [1, 1, 2, 3, 100], the mode is 1.\n",
    "\n",
    "- **Range**: Outliers increase the range, making it less representative of the spread of the majority of the data. For the dataset [1, 2, 3, 4, 100], the range is 99.\n",
    "\n",
    "- **Variance and Standard Deviation**: Outliers increase these measures, indicating greater dispersion. For the dataset [1, 2, 3, 4, 100], the variance and standard deviation are much higher compared to a dataset without the outlier.\n"
   ]
  }
 ],
 "metadata": {
  "kernelspec": {
   "display_name": "Python 3",
   "language": "python",
   "name": "python3"
  },
  "language_info": {
   "codemirror_mode": {
    "name": "ipython",
    "version": 3
   },
   "file_extension": ".py",
   "mimetype": "text/x-python",
   "name": "python",
   "nbconvert_exporter": "python",
   "pygments_lexer": "ipython3",
   "version": "3.12.4"
  }
 },
 "nbformat": 4,
 "nbformat_minor": 2
}

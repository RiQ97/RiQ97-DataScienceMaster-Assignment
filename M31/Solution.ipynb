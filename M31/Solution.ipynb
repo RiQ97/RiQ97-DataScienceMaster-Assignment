{
 "cells": [
  {
   "cell_type": "code",
   "execution_count": 1,
   "metadata": {},
   "outputs": [
    {
     "name": "stdout",
     "output_type": "stream",
     "text": [
      "Data has been saved to youtube_videos.csv\n"
     ]
    }
   ],
   "source": [
    "from selenium import webdriver\n",
    "from selenium.webdriver.common.by import By\n",
    "import time\n",
    "import csv\n",
    "\n",
    "# Set up the Selenium WebDriver (Make sure to have the appropriate driver installed)\n",
    "driver = webdriver.Chrome()  # or use webdriver.Firefox(), depending on your browser\n",
    "\n",
    "# Open the YouTube channel's video page\n",
    "driver.get(\"https://www.youtube.com/@PW-Foundation/videos\")\n",
    "\n",
    "# Allow the page to load\n",
    "time.sleep(5)\n",
    "driver.execute_script(\"window.scrollTo(0, 1000);\")\n",
    "time.sleep(2)\n",
    "\n",
    "# Extract video URLs, thumbnail URLs, titles, views, and posting times\n",
    "videos = driver.find_elements(By.XPATH, '//*[@id=\"video-title\"]')[:5]\n",
    "videos_v = driver.find_elements(By.XPATH, '//*[@id=\"video-title-link\"]')[:5]\n",
    "thumbnails = driver.find_elements(By.XPATH, '//*[@id=\"thumbnail\"]/yt-image/img')[:5]\n",
    "views = driver.find_elements(By.XPATH, '//*[@id=\"metadata-line\"]/span[1]')[:5]\n",
    "posted_times = driver.find_elements(By.XPATH, '//*[@id=\"metadata-line\"]/span[2]')[:5]\n",
    "\n",
    "video_urls = [video.get_attribute('href') for video in videos_v]\n",
    "thumbnail_urls = [thumbnail.get_attribute('src') for thumbnail in thumbnails]\n",
    "titles = [video.get_attribute('aria-label') for video in videos]\n",
    "view_counts = [view.text for view in views]\n",
    "time_posted = [posted.text for posted in posted_times]\n",
    "\n",
    "# Save the data to a CSV file\n",
    "with open('youtube_videos.csv', 'w', newline='', encoding='utf-8') as file:\n",
    "    writer = csv.writer(file)\n",
    "    writer.writerow([\"Video URL\", \"Thumbnail URL\", \"Title\", \"Views\", \"Posted Time\"])\n",
    "    for i in range(5):\n",
    "        writer.writerow([video_urls[i], thumbnail_urls[i], titles[i], view_counts[i], time_posted[i]])\n",
    "\n",
    "# Close the driver\n",
    "driver.quit()\n",
    "\n",
    "print(\"Data has been saved to youtube_videos.csv\")\n"
   ]
  }
 ],
 "metadata": {
  "kernelspec": {
   "display_name": "Python 3",
   "language": "python",
   "name": "python3"
  },
  "language_info": {
   "codemirror_mode": {
    "name": "ipython",
    "version": 3
   },
   "file_extension": ".py",
   "mimetype": "text/x-python",
   "name": "python",
   "nbconvert_exporter": "python",
   "pygments_lexer": "ipython3",
   "version": "3.12.5"
  }
 },
 "nbformat": 4,
 "nbformat_minor": 2
}

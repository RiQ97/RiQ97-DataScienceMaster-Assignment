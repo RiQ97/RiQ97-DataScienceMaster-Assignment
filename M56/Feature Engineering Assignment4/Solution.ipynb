{
 "cells": [
  {
   "cell_type": "markdown",
   "metadata": {},
   "source": [
    "### Q1: What is data encoding? How is it useful in data science?\n",
    "\n",
    "A1. **Data Encoding** is the process of converting categorical data into a numerical format so that machine learning algorithms can process it. Categorical data often contains labels or categories that need to be transformed into a numerical form to be included in the model. This process is essential in data science as many machine learning algorithms require numerical input.\n",
    "\n",
    "### Q2: What is nominal encoding? Provide an example of how you would use it in a real-world scenario.\n",
    "\n",
    "A2. **Nominal Encoding** (also known as label encoding) assigns a unique integer to each category in a categorical feature. It is useful when there is no ordinal relationship between the categories.\n"
   ]
  },
  {
   "cell_type": "code",
   "execution_count": 1,
   "metadata": {},
   "outputs": [
    {
     "name": "stdout",
     "output_type": "stream",
     "text": [
      "   Color  Color_Encoded\n",
      "0    Red              2\n",
      "1   Blue              0\n",
      "2  Green              1\n",
      "3   Blue              0\n",
      "4    Red              2\n"
     ]
    }
   ],
   "source": [
    "\n",
    "import pandas as pd\n",
    "from sklearn.preprocessing import LabelEncoder\n",
    "\n",
    "# Sample data\n",
    "data = pd.DataFrame({'Color': ['Red', 'Blue', 'Green', 'Blue', 'Red']})\n",
    "\n",
    "# Applying Label Encoding\n",
    "encoder = LabelEncoder()\n",
    "data['Color_Encoded'] = encoder.fit_transform(data['Color'])\n",
    "\n",
    "print(data)\n"
   ]
  },
  {
   "cell_type": "markdown",
   "metadata": {},
   "source": [
    "\n",
    "\n",
    "### Q3: In what situations is nominal encoding preferred over one-hot encoding? Provide a practical example.\n",
    "\n",
    "A3. Nominal encoding is preferred over one-hot encoding when the categorical feature has a large number of categories. One-hot encoding would create too many columns, leading to a sparse matrix and increased computational complexity.\n",
    "\n",
    "**Example:**\n",
    "\n",
    "For a feature representing zip codes, using one-hot encoding would create thousands of columns, while nominal encoding would only create one column with unique integers for each zip code.\n",
    "\n",
    "### Q4: Suppose you have a dataset containing categorical data with 5 unique values. Which encoding technique would you use to transform this data into a format suitable for machine learning algorithms? Explain why you made this choice.\n",
    "\n",
    "A4. **One-Hot Encoding** would be the preferred choice because it avoids the potential ordinal relationship problem introduced by nominal encoding. It ensures that the model does not assume any inherent order in the categories.\n"
   ]
  },
  {
   "cell_type": "code",
   "execution_count": 3,
   "metadata": {},
   "outputs": [
    {
     "name": "stdout",
     "output_type": "stream",
     "text": [
      "   Category_A  Category_B  Category_C\n",
      "0         1.0         0.0         0.0\n",
      "1         0.0         1.0         0.0\n",
      "2         0.0         0.0         1.0\n",
      "3         1.0         0.0         0.0\n",
      "4         0.0         1.0         0.0\n"
     ]
    }
   ],
   "source": [
    "import pandas as pd\n",
    "from sklearn.preprocessing import OneHotEncoder\n",
    "\n",
    "data = pd.DataFrame({'Category': ['A', 'B', 'C', 'A', 'B']})\n",
    "\n",
    "# Applying One-Hot Encoding\n",
    "encoder = OneHotEncoder(sparse_output=False)\n",
    "encoded_data = encoder.fit_transform(data[['Category']])\n",
    "\n",
    "encoded_df = pd.DataFrame(encoded_data, columns=encoder.get_feature_names_out(['Category']))\n",
    "print(encoded_df)"
   ]
  },
  {
   "cell_type": "markdown",
   "metadata": {},
   "source": [
    "### Q5: In a machine learning project, you have a dataset with 1000 rows and 5 columns. Two of the columns are categorical, and the remaining three columns are numerical. If you were to use nominal encoding to transform the categorical data, how many new columns would be created? Show your calculations.\n",
    "\n",
    "A5. If using nominal encoding for 2 categorical columns, each column would be transformed into a single new column with integer values.\n",
    "\n",
    "- Original columns: 3 numerical + 2 categorical = 5 columns\n",
    "- After nominal encoding: 3 numerical + 2 nominally encoded = 5 columns\n",
    "\n",
    "No new columns are created; the 2 categorical columns are transformed into 2 numerical columns.\n",
    "\n",
    "### Q6: You are working with a dataset containing information about different types of animals, including their species, habitat, and diet. Which encoding technique would you use to transform the categorical data into a format suitable for machine learning algorithms? Justify your answer.\n",
    "\n",
    "A6. **One-Hot Encoding** would be suitable for encoding species, habitat, and diet because these categories do not have any ordinal relationship. One-hot encoding ensures that each category is treated independently by the machine learning algorithm.\n"
   ]
  },
  {
   "cell_type": "code",
   "execution_count": 5,
   "metadata": {},
   "outputs": [
    {
     "name": "stdout",
     "output_type": "stream",
     "text": [
      "   Species_Bird  Species_Cat  Species_Dog  Habitat_Air  Habitat_Land  \\\n",
      "0           0.0          0.0          1.0          0.0           1.0   \n",
      "1           0.0          1.0          0.0          0.0           1.0   \n",
      "2           1.0          0.0          0.0          1.0           0.0   \n",
      "\n",
      "   Diet_Carnivore  Diet_Herbivore  \n",
      "0             1.0             0.0  \n",
      "1             1.0             0.0  \n",
      "2             0.0             1.0  \n"
     ]
    }
   ],
   "source": [
    "\n",
    "import pandas as pd\n",
    "from sklearn.preprocessing import OneHotEncoder\n",
    "\n",
    "data = pd.DataFrame({\n",
    "    'Species': ['Dog', 'Cat', 'Bird'],\n",
    "    'Habitat': ['Land', 'Land', 'Air'],\n",
    "    'Diet': ['Carnivore', 'Carnivore', 'Herbivore']\n",
    "})\n",
    "\n",
    "# Applying One-Hot Encoding\n",
    "encoder = OneHotEncoder(sparse_output=False)\n",
    "encoded_data = encoder.fit_transform(data[['Species', 'Habitat', 'Diet']])\n",
    "\n",
    "encoded_df = pd.DataFrame(encoded_data, columns=encoder.get_feature_names_out(['Species', 'Habitat', 'Diet']))\n",
    "print(encoded_df)"
   ]
  },
  {
   "cell_type": "markdown",
   "metadata": {},
   "source": [
    "### Q7: You are working on a project that involves predicting customer churn for a telecommunications company. You have a dataset with 5 features, including the customer's gender, age, contract type, monthly charges, and tenure. Which encoding technique(s) would you use to transform the categorical data into numerical data? Provide a step-by-step explanation of how you would implement the encoding.\n",
    "\n",
    "A7.\n",
    "1. **Identify categorical features**: Gender, Contract Type\n",
    "2. **Apply Label Encoding** for gender since it has only two categories.\n",
    "3. **Apply One-Hot Encoding** for contract type since it may have more than two categories."
   ]
  },
  {
   "cell_type": "code",
   "execution_count": 6,
   "metadata": {},
   "outputs": [
    {
     "name": "stdout",
     "output_type": "stream",
     "text": [
      "   Age  MonthlyCharges  Tenure  Gender_Encoded  ContractType_Month-to-Month  \\\n",
      "0   34           56.95       1               1                          1.0   \n",
      "1   22           53.85      34               0                          0.0   \n",
      "2   45           42.30      56               0                          0.0   \n",
      "3   37           70.50      12               1                          1.0   \n",
      "\n",
      "   ContractType_One year  ContractType_Two year  \n",
      "0                    0.0                    0.0  \n",
      "1                    1.0                    0.0  \n",
      "2                    0.0                    1.0  \n",
      "3                    0.0                    0.0  \n"
     ]
    }
   ],
   "source": [
    "\n",
    "import pandas as pd\n",
    "from sklearn.preprocessing import LabelEncoder, OneHotEncoder\n",
    "\n",
    "# Sample data\n",
    "data = pd.DataFrame({\n",
    "    'Gender': ['Male', 'Female', 'Female', 'Male'],\n",
    "    'Age': [34, 22, 45, 37],\n",
    "    'ContractType': ['Month-to-Month', 'One year', 'Two year', 'Month-to-Month'],\n",
    "    'MonthlyCharges': [56.95, 53.85, 42.30, 70.50],\n",
    "    'Tenure': [1, 34, 56, 12]\n",
    "})\n",
    "\n",
    "# Apply Label Encoding to Gender\n",
    "label_encoder = LabelEncoder()\n",
    "data['Gender_Encoded'] = label_encoder.fit_transform(data['Gender'])\n",
    "\n",
    "# Apply One-Hot Encoding to ContractType\n",
    "one_hot_encoder = OneHotEncoder(sparse_output=False)\n",
    "contract_type_encoded = one_hot_encoder.fit_transform(data[['ContractType']])\n",
    "contract_type_df = pd.DataFrame(contract_type_encoded, columns=one_hot_encoder.get_feature_names_out(['ContractType']))\n",
    "\n",
    "# Combine all the encoded features\n",
    "data = pd.concat([data, contract_type_df], axis=1)\n",
    "\n",
    "# Drop the original categorical columns\n",
    "data.drop(['Gender', 'ContractType'], axis=1, inplace=True)\n",
    "\n",
    "print(data)"
   ]
  }
 ],
 "metadata": {
  "kernelspec": {
   "display_name": "Python 3",
   "language": "python",
   "name": "python3"
  },
  "language_info": {
   "codemirror_mode": {
    "name": "ipython",
    "version": 3
   },
   "file_extension": ".py",
   "mimetype": "text/x-python",
   "name": "python",
   "nbconvert_exporter": "python",
   "pygments_lexer": "ipython3",
   "version": "3.12.4"
  }
 },
 "nbformat": 4,
 "nbformat_minor": 2
}

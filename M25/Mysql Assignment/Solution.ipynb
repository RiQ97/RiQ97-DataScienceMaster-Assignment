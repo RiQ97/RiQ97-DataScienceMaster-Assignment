{
 "cells": [
  {
   "cell_type": "markdown",
   "metadata": {},
   "source": [
    "Q1. What is a database? Differentiate between SQL and NoSQL databases.\n",
    "\n",
    "A1. A database is an organized collection of structured information or data, typically stored electronically in a computer system. Databases are managed by Database Management Systems (DBMS), which allow for the storage, retrieval, updating, and management of data.\n",
    "\n",
    "SQL Databases:\n",
    "\n",
    "Relational databases.\n",
    "Use Structured Query Language (SQL) for defining and manipulating data.\n",
    "Schema-based: requires a predefined schema before storing data.\n",
    "ACID (Atomicity, Consistency, Isolation, Durability) compliance for transaction management.\n",
    "Examples: MySQL, PostgreSQL, Oracle, MS SQL Server.\n",
    "\n",
    "NoSQL Databases:\n",
    "\n",
    "Non-relational databases.\n",
    "Use various data models: document, key-value, graph, column-family.\n",
    "Schema-less: data can be stored without a predefined schema.\n",
    "Typically designed for distributed data stores for large-scale data needs.\n",
    "Examples: MongoDB (document), Redis (key-value), Cassandra (column-family), Neo4j (graph).\n"
   ]
  },
  {
   "cell_type": "markdown",
   "metadata": {},
   "source": [
    "Q2. What is DDL? Explain why CREATE, DROP, ALTER, and TRUNCATE are used with an example.\n",
    "\n",
    "A2. DDL or Data Definition Language statements are used to define and modify database structures such as tables, indexes, and schema. DDL statements do not manipulate data within tables.\n",
    "\n",
    "1. CREATE: Used to create new database objects such as tables, indexes, and databases.\n",
    "\n",
    "Ex-\n",
    "CREATE TABLE employees (\n",
    "    id INT PRIMARY KEY,\n",
    "    name VARCHAR(100),\n",
    "    position VARCHAR(50)\n",
    ");\n",
    "\n",
    "2. DROP: Used to delete existing database objects.\n",
    "\n",
    "Ex-\n",
    "DROP TABLE employees;\n",
    "\n",
    "3. ALTER: Used to modify existing database objects.\n",
    "\n",
    "Ex-\n",
    "ALTER TABLE employees ADD COLUMN salary DECIMAL(10, 2);\n",
    "\n",
    "4. TRUNCATE: Used to remove all records from a table but keep the table structure for future use.\n",
    "\n",
    "Ex-\n",
    "TRUNCATE TABLE employees;\n"
   ]
  },
  {
   "cell_type": "markdown",
   "metadata": {},
   "source": [
    "Q3. What is DML? Explain INSERT, UPDATE, and DELETE with an example.\n",
    "\n",
    "A3. DML or Data Manipulation Language statements are used to manipulate the data stored in the database. It includes operations such as INSERT, UPDATE, and DELETE.\n",
    "\n",
    "1. INSERT: Adds new records to a table.\n",
    "\n",
    "Ex- INSERT INTO employees (id, name, position, salary) VALUES (1, 'Alice', 'Manager', 60000.00);\n",
    "\n",
    "2. UPDATE: Modifies existing records in a table.\n",
    "\n",
    "Ex- UPDATE employees SET salary = 65000.00 WHERE id = 1;\n",
    "\n",
    "3. DELETE: Removes records from a table.\n",
    "\n",
    "Ex- DELETE FROM employees WHERE id = 1;\n"
   ]
  },
  {
   "cell_type": "markdown",
   "metadata": {},
   "source": [
    "Q4. What is DQL? Explain SELECT with an example.\n",
    "\n",
    "A4. DQL (Data Query Language): DQL statements are used to query the database and retrieve data from one or more tables. The primary DQL statement is SELECT.\n",
    "\n",
    "SELECT: Retrieves data from one or more tables.\n",
    "\n",
    "SELECT name, position, salary FROM employees WHERE salary > 50000.00;\n",
    "\n"
   ]
  },
  {
   "cell_type": "markdown",
   "metadata": {},
   "source": [
    "Q5. Explain Primary Key and Foreign Key.\n",
    "\n",
    "A5. Both are the very important constraints of the tables.\n",
    "1. Primary Key: A primary key is a column or a set of columns in a table that uniquely identifies each row in that table. It must contain unique values and cannot contain NULLs.\n",
    "\n",
    "CREATE TABLE departments (\n",
    "    dept_id INT PRIMARY KEY,\n",
    "    dept_name VARCHAR(100)\n",
    ");\n",
    "\n",
    "2. Foreign Key: A foreign key is a column or a set of columns in one table that is used to refer to the primary key in another table. It establishes a link between the data in the two tables.\n",
    "\n",
    "CREATE TABLE employees (\n",
    "    id INT PRIMARY KEY,\n",
    "    name VARCHAR(100),\n",
    "    position VARCHAR(50),\n",
    "    dept_id INT,\n",
    "    FOREIGN KEY (dept_id) REFERENCES departments(dept_id)\n",
    ");\n"
   ]
  },
  {
   "cell_type": "markdown",
   "metadata": {},
   "source": [
    "Q6. Write a python code to connect MySQL to python. Explain the cursor() and execute() method.\n",
    "\n",
    "A6. cursor(): The cursor() method creates a cursor object which is used to interact with the MySQL database. \n",
    "              Cursors are used to execute SQL statements and fetch data from the database.\n",
    "\n",
    "execute(): The execute() method is used to execute a single SQL statement. It takes an SQL query string as an argument.\n"
   ]
  },
  {
   "cell_type": "code",
   "execution_count": null,
   "metadata": {},
   "outputs": [],
   "source": [
    "import mysql.connector\n",
    "\n",
    "# Establish a connection to the MySQL database\n",
    "connection = mysql.connector.connect(\n",
    "    host='localhost',\n",
    "    user='your_username',\n",
    "    password='your_password',\n",
    "    database='your_database'\n",
    ")\n",
    "\n",
    "cursor = connection.cursor()\n",
    "\n",
    "cursor.execute(\"SELECT * FROM employees\")\n",
    "\n",
    "for row in cursor.fetchall():\n",
    "    print(row)\n",
    "\n",
    "cursor.close()\n",
    "connection.close()"
   ]
  },
  {
   "cell_type": "markdown",
   "metadata": {},
   "source": [
    "\n",
    "Q7. Give the order of execution of SQL clauses in an SQL query.\n",
    "The order of execution of SQL clauses is as follows:\n",
    "\n",
    "FROM: Specifies the table to query.\n",
    "JOIN: Joins tables based on a condition.\n",
    "WHERE: Filters rows based on a condition.\n",
    "GROUP BY: Groups rows sharing a property so that an aggregate function can be applied to each group.\n",
    "HAVING: Filters groups based on a condition.\n",
    "SELECT: Specifies which columns to include in the result.\n",
    "DISTINCT: Removes duplicate rows from the result.\n",
    "ORDER BY: Specifies the order of the result set.\n",
    "LIMIT/OFFSET: Limits the number of rows returned.\n",
    "Example query showing the order:\n",
    "\n",
    "\n",
    "SELECT column1, aggregate_function(column2)\n",
    "FROM table1\n",
    "JOIN table2 ON table1.id = table2.id\n",
    "WHERE condition\n",
    "GROUP BY column1\n",
    "HAVING aggregate_function(column2) > value\n",
    "ORDER BY column1\n",
    "LIMIT 10 OFFSET 20;"
   ]
  }
 ],
 "metadata": {
  "kernelspec": {
   "display_name": "Python 3",
   "language": "python",
   "name": "python3"
  },
  "language_info": {
   "codemirror_mode": {
    "name": "ipython",
    "version": 3
   },
   "file_extension": ".py",
   "mimetype": "text/x-python",
   "name": "python",
   "nbconvert_exporter": "python",
   "pygments_lexer": "ipython3",
   "version": "3.12.4"
  }
 },
 "nbformat": 4,
 "nbformat_minor": 2
}

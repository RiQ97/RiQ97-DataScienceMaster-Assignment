{
 "cells": [
  {
   "cell_type": "markdown",
   "metadata": {},
   "source": [
    "### Q1. What is the Probability Density Function?\n",
    "\n",
    "A1. The Probability Density Function (PDF) describes the likelihood of a continuous random variable to take on a specific value. For continuous random variables, the PDF provides the probability that the variable falls within a particular range of values. The area under the curve of the PDF over a given interval represents the probability of the variable falling within that interval.\n",
    "\n",
    "### Q2. What are the types of Probability Distributions?\n",
    "\n",
    "A2. Probability distributions can be classified into two main types:\n",
    "\n",
    "1. **Discrete Probability Distributions**: These distributions describe the probabilities of discrete outcomes. Examples include:\n",
    "   - Binomial Distribution\n",
    "   - Poisson Distribution\n",
    "   - Geometric Distribution\n",
    "\n",
    "2. **Continuous Probability Distributions**: These distributions describe the probabilities of continuous outcomes. Examples include:\n",
    "   - Normal Distribution\n",
    "   - Exponential Distribution\n",
    "   - Uniform Distribution\n",
    "\n",
    "### Q3. Write a Python function to calculate the probability density function of a normal distribution with given mean and standard deviation at a given point.\n"
   ]
  },
  {
   "cell_type": "code",
   "execution_count": 1,
   "metadata": {},
   "outputs": [
    {
     "name": "stdout",
     "output_type": "stream",
     "text": [
      "PDF at x = 1 : 0.24197072451914337\n"
     ]
    }
   ],
   "source": [
    "#A3.\n",
    "import scipy.stats as stats\n",
    "\n",
    "def normal_pdf(x, mean, std_dev):\n",
    "    return stats.norm.pdf(x, mean, std_dev)\n",
    "\n",
    "mean = 0\n",
    "std_dev = 1\n",
    "x = 1\n",
    "print(\"PDF at x =\", x, \":\", normal_pdf(x, mean, std_dev))"
   ]
  },
  {
   "cell_type": "markdown",
   "metadata": {},
   "source": [
    "\n",
    "### Q4. What are the properties of Binomial Distribution? Give two examples of events where binomial distribution can be applied.\n",
    "\n",
    "A4. Properties of Binomial Distribution\n",
    "1. **Fixed Number of Trials**: The experiment is conducted a fixed number of times.\n",
    "2. **Binary Outcomes**: Each trial results in one of two outcomes: success or failure.\n",
    "3. **Constant Probability**: The probability of success is the same for each trial.\n",
    "4. **Independent Trials**: The trials are independent of each other.\n",
    "\n",
    "**Examples:**\n",
    "1. **Flipping a Coin**: The number of heads obtained in a fixed number of coin flips.\n",
    "2. **Quality Control**: The number of defective items in a batch of products when each product is independently tested.\n",
    "\n",
    "### Q5. Generate a random sample of size 1000 from a binomial distribution with probability of success 0.4 and plot a histogram of the results using matplotlib.\n",
    "\n"
   ]
  },
  {
   "cell_type": "code",
   "execution_count": null,
   "metadata": {},
   "outputs": [],
   "source": [
    "#A5.\n",
    "import numpy as np\n",
    "import matplotlib.pyplot as plt\n",
    "\n",
    "# Parameters\n",
    "n = 10  # Number of trials\n",
    "p = 0.4  # Probability of success\n",
    "size = 1000  # Sample size\n",
    "\n",
    "# Generate random sample\n",
    "sample = np.random.binomial(n, p, size)\n",
    "\n",
    "# Plot histogram\n",
    "plt.hist(sample, bins=range(n+2), edgecolor='black', alpha=0.75)\n",
    "plt.xlabel('Number of successes')\n",
    "plt.ylabel('Frequency')\n",
    "plt.title('Histogram of Binomial Distribution')\n",
    "plt.show()"
   ]
  },
  {
   "cell_type": "markdown",
   "metadata": {},
   "source": [
    "### Q6. Write a Python function to calculate the cumulative distribution function of a Poisson distribution with given mean at a given point.\n"
   ]
  },
  {
   "cell_type": "code",
   "execution_count": 3,
   "metadata": {},
   "outputs": [
    {
     "name": "stdout",
     "output_type": "stream",
     "text": [
      "CDF at x = 3 : 0.2650259152973615\n"
     ]
    }
   ],
   "source": [
    "#A6.\n",
    "import scipy.stats as stats\n",
    "\n",
    "def poisson_cdf(x, mean):\n",
    "    return stats.poisson.cdf(x, mean)\n",
    "\n",
    "# Example usage\n",
    "mean = 5\n",
    "x = 3\n",
    "print(\"CDF at x =\", x, \":\", poisson_cdf(x, mean))"
   ]
  },
  {
   "cell_type": "markdown",
   "metadata": {},
   "source": [
    "\n",
    "### Q7. How is Binomial Distribution different from Poisson Distribution?\n",
    "\n",
    "A7. **Binomial Distribution:**\n",
    "- **Fixed Number of Trials**: The number of trials (n) is fixed.\n",
    "- **Probability of Success**: There is a constant probability of success in each trial.\n",
    "- **Events are Discrete**: Focuses on the number of successes in a fixed number of trials.\n",
    "\n",
    "**Poisson Distribution:**\n",
    "- **Number of Trials is Variable**: Used for counting the number of events occurring in a fixed interval of time or space.\n",
    "- **Probability of Success is Not Fixed**: Used when events happen with a known average rate, but the number of trials is not fixed.\n",
    "- **Events are Rare**: Suitable for rare events over time or space.\n",
    "\n",
    "### Q8. Generate a random sample of size 1000 from a Poisson distribution with mean 5 and calculate the sample mean and variance.\n"
   ]
  },
  {
   "cell_type": "code",
   "execution_count": 4,
   "metadata": {},
   "outputs": [
    {
     "name": "stdout",
     "output_type": "stream",
     "text": [
      "Sample Mean: 5.027\n",
      "Sample Variance: 5.148271\n"
     ]
    }
   ],
   "source": [
    "\n",
    "#A8.\n",
    "import numpy as np\n",
    "\n",
    "# Parameters\n",
    "mean = 5\n",
    "size = 1000\n",
    "\n",
    "# Generate random sample\n",
    "sample = np.random.poisson(mean, size)\n",
    "\n",
    "# Calculate sample mean and variance\n",
    "sample_mean = np.mean(sample)\n",
    "sample_variance = np.var(sample)\n",
    "\n",
    "print(\"Sample Mean:\", sample_mean)\n",
    "print(\"Sample Variance:\", sample_variance)"
   ]
  },
  {
   "cell_type": "markdown",
   "metadata": {},
   "source": [
    "\n",
    "### Q9. How are mean and variance related in Binomial Distribution and Poisson Distribution?\n",
    "\n",
    "A9. **Binomial Distribution**: \n",
    "  - Mean (μ) = \\( n \\times p \\)\n",
    "  - Variance (σ²) = \\( n \\times p \\times (1 - p) \\)\n",
    "  \n",
    "**Poisson Distribution**:\n",
    "  - Mean (λ) = Variance (λ)\n",
    "  - The mean and variance are equal in the Poisson distribution.\n",
    "\n",
    "### Q10. In normal distribution with respect to mean position, where does the least frequent data appear?\n",
    "\n",
    "A10. In a normal distribution, the least frequent data appears at the extreme ends of the distribution, farthest from the mean. The frequency of data points decreases as we move further away from the mean in either direction. The mean is the point of highest frequency in a normal distribution, and the tails (extreme values) have the lowest frequency."
   ]
  }
 ],
 "metadata": {
  "kernelspec": {
   "display_name": "Python 3",
   "language": "python",
   "name": "python3"
  },
  "language_info": {
   "codemirror_mode": {
    "name": "ipython",
    "version": 3
   },
   "file_extension": ".py",
   "mimetype": "text/x-python",
   "name": "python",
   "nbconvert_exporter": "python",
   "pygments_lexer": "ipython3",
   "version": "3.12.4"
  }
 },
 "nbformat": 4,
 "nbformat_minor": 2
}

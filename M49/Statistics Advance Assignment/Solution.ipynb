{
 "cells": [
  {
   "cell_type": "markdown",
   "metadata": {},
   "source": [
    "### Q1: Explain the assumptions required to use ANOVA and provide examples of violations that could impact the validity of the results.\n",
    "\n",
    "A1.\n",
    "1. **Independence of Observations**: The observations must be independent of each other.\n",
    "   - *Violation Example*: Repeated measurements on the same subjects without accounting for this in the model.\n",
    "   \n",
    "2. **Normality**: The dependent variable should be approximately normally distributed within each group.\n",
    "   - *Violation Example*: Data with severe skewness or outliers can violate the normality assumption.\n",
    "\n",
    "3. **Homogeneity of Variances (Homoscedasticity)**: The variances within each group should be approximately equal.\n",
    "   - *Violation Example*: One group has a much larger variance compared to others, which can be tested using Levene’s Test or Bartlett’s Test.\n",
    "\n",
    "Violations of these assumptions can impact the validity of the ANOVA results, leading to incorrect conclusions. For instance, if the homogeneity of variances assumption is violated, the F-test may be too liberal or too conservative.\n",
    "\n",
    "### Q2: What are the three types of ANOVA, and in what situations would each be used?\n",
    "\n",
    "A2.\n",
    "1. **One-Way ANOVA**: Used when comparing the means of three or more independent groups based on one factor.\n",
    "   - *Example*: Comparing test scores across three different teaching methods.\n",
    "\n",
    "2. **Two-Way ANOVA**: Used when comparing the means of groups based on two factors, which allows for the analysis of main effects and interaction effects.\n",
    "   - *Example*: Comparing the effects of diet (low-fat, low-carb) and exercise (none, moderate, high) on weight loss.\n",
    "\n",
    "3. **Repeated Measures ANOVA**: Used when the same subjects are measured multiple times under different conditions.\n",
    "   - *Example*: Measuring the impact of different diets on the same group of individuals over three time periods.\n",
    "\n",
    "### Q3: What is the partitioning of variance in ANOVA, and why is it important to understand this concept?\n",
    "\n",
    "A3. **Partitioning of Variance in ANOVA**:\n",
    "**Total Sum of Squares (SST)**: Measures the total variability in the data.\n",
    "**Between-Group Sum of Squares (SSB)**: Measures the variability between the groups.\n",
    "**Within-Group Sum of Squares (SSW)**: Measures the variability within each group.\n",
    "\n",
    "**Importance**:\n",
    "Partitioning of variance helps in understanding how much of the total variability in the data can be attributed to the differences between group means (SSB) versus the variability within groups (SSW). This is crucial for determining the significance of the factors being studied.\n",
    "\n",
    "### Q4: How would you calculate the total sum of squares (SST), explained sum of squares (SSE), and residual sum of squares (SSR) in a one-way ANOVA using Python?\n"
   ]
  },
  {
   "cell_type": "code",
   "execution_count": 7,
   "metadata": {},
   "outputs": [
    {
     "name": "stdout",
     "output_type": "stream",
     "text": [
      "SST: 22.93333333333334, SSB: 2.533333333333333, SSW: 20.4\n"
     ]
    }
   ],
   "source": [
    "#A4.\n",
    "import numpy as np\n",
    "import scipy.stats as stats\n",
    "\n",
    "group1 = [5, 7, 9, 6, 8]\n",
    "group2 = [7, 8, 6, 7, 9]\n",
    "group3 = [6, 5, 7, 8, 6]\n",
    "\n",
    "data = group1 + group2 + group3\n",
    "overall_mean = np.mean(data)\n",
    "\n",
    "sst = sum((x - overall_mean)**2 for x in data)\n",
    "\n",
    "group_means = [np.mean(group1), np.mean(group2), np.mean(group3)]\n",
    "n = len(group1)  \n",
    "ssb = sum(n * (group_mean - overall_mean)**2 for group_mean in group_means)\n",
    "\n",
    "ssw = sum(sum((x - group_mean)**2 for x in group) for group, group_mean in zip([group1, group2, group3], group_means))\n",
    "\n",
    "print(f\"SST: {sst}, SSB: {ssb}, SSW: {ssw}\")"
   ]
  },
  {
   "cell_type": "markdown",
   "metadata": {},
   "source": [
    "### Q5: In a two-way ANOVA, how would you calculate the main effects and interaction effects using Python?\n"
   ]
  },
  {
   "cell_type": "code",
   "execution_count": 6,
   "metadata": {},
   "outputs": [
    {
     "name": "stdout",
     "output_type": "stream",
     "text": [
      "                          sum_sq    df         F    PR(>F)\n",
      "C(Factor1)              0.411303   2.0  0.345436  0.711374\n",
      "C(Factor2)              0.044610   1.0  0.074932  0.786628\n",
      "C(Factor1):C(Factor2)   0.470428   2.0  0.395092  0.677919\n",
      "Residual               14.288130  24.0       NaN       NaN\n"
     ]
    }
   ],
   "source": [
    "#A5.\n",
    "import pandas as pd\n",
    "import statsmodels.api as sm\n",
    "from statsmodels.formula.api import ols\n",
    "\n",
    "# Sample data\n",
    "data = {\n",
    "    'Factor1': np.tile(['A', 'B', 'C'], 10),\n",
    "    'Factor2': np.repeat(['X', 'Y'], 15),\n",
    "    'Value': np.random.randn(30)\n",
    "}\n",
    "df = pd.DataFrame(data)\n",
    "\n",
    "# Fit the two-way ANOVA model\n",
    "model = ols('Value ~ C(Factor1) * C(Factor2)', data=df).fit()\n",
    "anova_table = sm.stats.anova_lm(model, typ=2)\n",
    "print(anova_table)"
   ]
  },
  {
   "cell_type": "markdown",
   "metadata": {},
   "source": [
    "\n",
    "### Q6: Suppose you conducted a one-way ANOVA and obtained an F-statistic of 5.23 and a p-value of 0.02. What can you conclude about the differences between the groups, and how would you interpret these results?\n",
    "\n",
    "A6. Since the p-value (0.02) is less than the significance level (0.05), we reject the null hypothesis.\n",
    "Interpretation: There is a statistically significant difference between the group means.\n",
    "\n",
    "### Q7: In a repeated measures ANOVA, how would you handle missing data, and what are the potential consequences of using different methods to handle missing data?\n",
    "\n",
    "A7. We can handle Missing Data through:\n",
    "1. **Listwise Deletion**: Removing subjects with any missing data.\n",
    "   - *Consequence*: Reduced sample size, which may affect the power of the test.\n",
    "   \n",
    "2. **Mean Imputation**: Replacing missing values with the mean of the observed data.\n",
    "   - *Consequence*: Underestimation of variability, potentially leading to biased results.\n",
    "   \n",
    "3. **Multiple Imputation**: Replacing missing values based on a model that accounts for the uncertainty.\n",
    "   - *Consequence*: More accurate and reliable, but computationally intensive.\n",
    "\n",
    "### Q8: What are some common post-hoc tests used after ANOVA, and when would you use each one? Provide an example of a situation where a post-hoc test might be necessary.\n",
    "\n",
    "A8. These are the Common Post-hoc Tests:\n",
    "1. **Tukey's HSD**: Used when comparing all possible pairs of means.\n",
    "   - *Example*: Comparing multiple treatment groups to identify which ones differ.\n",
    "   \n",
    "2. **Bonferroni Correction**: Used to adjust the significance level for multiple comparisons.\n",
    "   - *Example*: Testing multiple hypotheses while controlling the family-wise error rate.\n",
    "   \n",
    "3. **Scheffé's Test**: Used for comparing complex contrasts of means.\n",
    "   - *Example*: Comparing the average of several group means to another group.\n",
    "\n",
    "**Example Situation**:\n",
    "If ANOVA indicates a significant difference between group means, post-hoc tests can identify which specific groups differ from each other.\n",
    "\n",
    "### Q9: A researcher wants to compare the mean weight loss of three diets: A, B, and C. They collect data from 50 participants who were randomly assigned to one of the diets. Conduct a one-way ANOVA using Python to determine if there are any significant differences between the mean weight loss of the three diets. Report the F-statistic and p-value, and interpret the results.\n"
   ]
  },
  {
   "cell_type": "code",
   "execution_count": 5,
   "metadata": {},
   "outputs": [
    {
     "name": "stdout",
     "output_type": "stream",
     "text": [
      "             sum_sq    df         F    PR(>F)\n",
      "C(Diet)    5.787445   2.0  1.903686  0.160827\n",
      "Residual  68.402838  45.0       NaN       NaN\n"
     ]
    }
   ],
   "source": [
    "#A9.\n",
    "import pandas as pd\n",
    "import numpy as np\n",
    "import statsmodels.api as sm\n",
    "from statsmodels.formula.api import ols\n",
    "\n",
    "np.random.seed(0)\n",
    "n_per_group = 50 // 3\n",
    "data = {\n",
    "    'Diet': np.repeat(['A', 'B', 'C'], n_per_group),\n",
    "    'WeightLoss': np.random.randn(n_per_group * 3) + np.tile([1, 2, 3], n_per_group)\n",
    "}\n",
    "df = pd.DataFrame(data)\n",
    "\n",
    "model = ols('WeightLoss ~ C(Diet)', data=df).fit()\n",
    "anova_table = sm.stats.anova_lm(model, typ=2)\n",
    "print(anova_table)\n"
   ]
  },
  {
   "cell_type": "markdown",
   "metadata": {},
   "source": [
    "\n",
    "### Q10: A company wants to know if there are any significant differences in the average time it takes to complete a task using three different software programs: Program A, Program B, and Program C. They randomly assign 30 employees to one of the programs and record the time it takes each employee to complete the task. Conduct a two-way ANOVA using Python to determine if there are any main effects or interaction effects between the software programs and employee experience level (novice vs. experienced). Report the F-statistics and p-values, and interpret the results.\n"
   ]
  },
  {
   "cell_type": "code",
   "execution_count": 3,
   "metadata": {},
   "outputs": [
    {
     "name": "stdout",
     "output_type": "stream",
     "text": [
      "                             sum_sq    df         F    PR(>F)\n",
      "C(Program)                 5.338375   2.0  2.277381  0.124277\n",
      "C(Experience)              1.788304   1.0  1.525801  0.228700\n",
      "C(Program):C(Experience)   0.458415   2.0  0.195563  0.823669\n",
      "Residual                  28.129023  24.0       NaN       NaN\n"
     ]
    }
   ],
   "source": [
    "#A10.\n",
    "import pandas as pd\n",
    "import numpy as np\n",
    "import statsmodels.api as sm\n",
    "from statsmodels.formula.api import ols\n",
    "\n",
    "# Sample data\n",
    "np.random.seed(0)\n",
    "data = {\n",
    "    'Program': np.tile(['A', 'B', 'C'], 10),\n",
    "    'Experience': np.repeat(['Novice', 'Experienced'], 15),\n",
    "    'Time': np.random.randn(30) + np.tile([1, 2, 3], 10)\n",
    "}\n",
    "df = pd.DataFrame(data)\n",
    "\n",
    "# Fit the two-way ANOVA model\n",
    "model = ols('Time ~ C(Program) * C(Experience)', data=df).fit()\n",
    "anova_table = sm.stats.anova_lm(model, typ=2)\n",
    "print(anova_table)"
   ]
  },
  {
   "cell_type": "markdown",
   "metadata": {},
   "source": [
    "\n",
    "### Q11: An educational researcher is interested in whether a new teaching method improves student test scores. They randomly assign 100 students to either the control group (traditional teaching method) or the experimental group (new teaching method) and administer a test at the end of the semester. Conduct a two-sample t-test using Python to determine if there are any significant differences in test scores between the two groups. If the results are significant, follow up with a post-hoc test to determine which group(s) differ significantly from each other.\n"
   ]
  },
  {
   "cell_type": "code",
   "execution_count": 2,
   "metadata": {},
   "outputs": [
    {
     "name": "stdout",
     "output_type": "stream",
     "text": [
      "T-statistic: -1.6677351961320235\n",
      "P-value: 0.09856078338184604\n",
      "No significant difference in test scores between the two groups.\n"
     ]
    }
   ],
   "source": [
    "#A11.\n",
    "import scipy.stats as stats\n",
    "import numpy as np\n",
    "\n",
    "\n",
    "np.random.seed(0)\n",
    "control_group = np.random.normal(70, 10, 50)\n",
    "experimental_group = np.random.normal(75, 10, 50)\n",
    "\n",
    "t_stat, p_value = stats.ttest_ind(control_group, experimental_group)\n",
    "\n",
    "print(f\"T-statistic: {t_stat}\")\n",
    "print(f\"P-value: {p_value}\")\n",
    "\n",
    "if p_value < 0.05:\n",
    "    print(\"The new teaching method significantly improves student test scores.\")\n",
    "else:\n",
    "    print(\"No significant difference in test scores between the two groups.\")"
   ]
  },
  {
   "cell_type": "markdown",
   "metadata": {},
   "source": [
    "\n",
    "\n",
    "### Q12: A researcher wants to know if there are any significant differences in the average daily sales of three retail stores: Store A, Store B, and Store C. They randomly select 30 days and record the sales for each store on those days. Conduct a repeated measures ANOVA using Python to determine if there are any significant differences in sales between the three stores. If the results are significant, follow up with a post-hoc test to determine which store(s) differ significantly from each other."
   ]
  },
  {
   "cell_type": "code",
   "execution_count": 1,
   "metadata": {},
   "outputs": [
    {
     "name": "stdout",
     "output_type": "stream",
     "text": [
      "               Anova\n",
      "===================================\n",
      "      F Value Num DF  Den DF Pr > F\n",
      "-----------------------------------\n",
      "Store  4.2820 2.0000 58.0000 0.0184\n",
      "===================================\n",
      "\n",
      "Significant differences found between stores. Conducting post-hoc tests...\n"
     ]
    },
    {
     "name": "stderr",
     "output_type": "stream",
     "text": [
      "C:\\Users\\RiQ\\AppData\\Local\\Temp\\ipykernel_2112\\761595773.py:19: FutureWarning: Series.__getitem__ treating keys as positions is deprecated. In a future version, integer keys will always be treated as labels (consistent with DataFrame behavior). To access a value by position, use `ser.iloc[pos]`\n",
      "  if res.anova_table['Pr > F'][0] < 0.05:\n"
     ]
    },
    {
     "name": "stdout",
     "output_type": "stream",
     "text": [
      "Multiple Comparison of Means - Tukey HSD, FWER=0.05\n",
      "===================================================\n",
      "group1 group2 meandiff p-adj   lower  upper  reject\n",
      "---------------------------------------------------\n",
      "     A      B  -0.7324 0.9363 -5.7849 4.3201  False\n",
      "     A      C  -0.5766   0.96 -5.6291 4.4759  False\n",
      "     B      C   0.1558  0.997 -4.8967 5.2083  False\n",
      "---------------------------------------------------\n"
     ]
    }
   ],
   "source": [
    "#A12. \n",
    "\n",
    "import pandas as pd\n",
    "import numpy as np\n",
    "from statsmodels.stats.anova import AnovaRM\n",
    "\n",
    "np.random.seed(0)\n",
    "data = {\n",
    "    'Store': np.repeat(['A', 'B', 'C'], 30),\n",
    "    'Day': np.tile(range(30), 3),\n",
    "    'Sales': np.random.randn(90) + np.tile([100, 110, 120], 30)\n",
    "}\n",
    "df = pd.DataFrame(data)\n",
    "\n",
    "aovrm = AnovaRM(df, 'Sales', 'Day', within=['Store'])\n",
    "res = aovrm.fit()\n",
    "print(res)\n",
    "\n",
    "if res.anova_table['Pr > F'][0] < 0.05:\n",
    "    print(\"Significant differences found between stores. Conducting post-hoc tests...\")\n",
    "    from statsmodels.stats.multicomp import pairwise_tukeyhsd\n",
    "\n",
    "    posthoc = pairwise_tukeyhsd(df['Sales'], df['Store'], alpha=0.05)\n",
    "    print(posthoc)\n",
    "else:\n",
    "    print(\"No significant differences in sales between the stores.\")\n"
   ]
  }
 ],
 "metadata": {
  "kernelspec": {
   "display_name": "Python 3",
   "language": "python",
   "name": "python3"
  },
  "language_info": {
   "codemirror_mode": {
    "name": "ipython",
    "version": 3
   },
   "file_extension": ".py",
   "mimetype": "text/x-python",
   "name": "python",
   "nbconvert_exporter": "python",
   "pygments_lexer": "ipython3",
   "version": "3.12.4"
  }
 },
 "nbformat": 4,
 "nbformat_minor": 2
}

{
 "cells": [
  {
   "cell_type": "markdown",
   "metadata": {},
   "source": [
    "Q1. What is Web Scraping? Why is it Used? Give three areas where Web Scraping is used to get data.\n",
    "\n",
    "A1. Web Scraping is the automated process of extracting data from websites. It involves fetching the HTML of a webpage and extracting useful information from it.\n",
    "\n",
    "It is used for:\n",
    "1. Data Collection: Gathering large amounts of data from the web for analysis, research, and decision-making.\n",
    "2. Market Analysis: Monitoring competitors' websites to understand pricing, product offerings, and market trends.\n",
    "3. Content Aggregation: Collecting and curating content from multiple sources for websites or applications.\n",
    "\n",
    "Three areas where Web Scraping is popularly used:\n",
    "1. E-commerce: Extracting product prices, reviews, and descriptions from online stores.\n",
    "2. Real Estate: Collecting property listings, prices, and locations from real estate websites.\n",
    "3. Social Media Analysis: Gathering data on trends, user behavior, and sentiment from social media platforms.\n",
    "\n",
    "\n",
    "Q2. What are the different methods used for Web Scraping?\n",
    "\n",
    "A2. These are the prominent methods used for Web Scraping:\n",
    "1. Manual Scraping: Copying and pasting data manually from websites.\n",
    "2. HTML Parsing: Using libraries like Beautiful Soup to parse the HTML of a webpage and extract information.\n",
    "3. DOM Parsing: Using browser automation tools like Selenium to interact with and extract data from dynamically loaded content.\n",
    "4. API-based Scraping: Using APIs provided by websites to fetch data directly in a structured format like JSON or XML.\n",
    "5. Regular Expressions: Using regex to search for patterns in the HTML source code.\n",
    "\n",
    "\n",
    "Q3. What is Beautiful Soup? Why is it used?\n",
    "\n",
    "A3. Beautiful Soup is a Python library used for parsing HTML and XML documents. It creates a parse tree that can be used to extract data easily.\n",
    "It is widely used due to the following reasons:\n",
    "1. Ease of Use: Provides simple methods for navigating, searching, and modifying the parse tree.\n",
    "2. Handles HTML and XML: Can parse both well-formed and poorly-formed markup.\n",
    "3. Integration: Works well with other libraries like requests to fetch and parse web pages.\n",
    "\n",
    "\n",
    "Q4. Why is Flask used in this Web Scraping project?\n",
    "\n",
    "A4. Flask is used in web scraping projects to create a web application that serves scraped data. It is used because of these reasons:\n",
    "1. A Lightweight Framework: Minimalistic and easy to set up for small to medium-sized applications.\n",
    "2. Flexibility: Allows quick prototyping and easy integration with other tools.\n",
    "3. Routing and Handling Requests: Can handle user requests, run the scraping scripts, and display results via a web interface.\n",
    "\n",
    "\n",
    "Q5. Write the names of AWS services used in this project. Also, explain the use of each service.\n",
    "\n",
    "A5. AWS services commonly used in web scraping projects are as follow:\n",
    "1. EC2 (Elastic Compute Cloud): Provides virtual servers to run the web scraping scripts and host the Flask application.\n",
    "2. S3 (Simple Storage Service): Used for storing scraped data, logs, and backups.\n",
    "3. RDS (Relational Database Service): Manages databases like MySQL or PostgreSQL to store structured data from the scraping process.\n",
    "4. Lambda: Can be used for running short-lived scraping tasks or processing data in response to events.\n",
    "5. CloudWatch: Monitors and logs the performance of the scraping scripts and the Flask application."
   ]
  }
 ],
 "metadata": {
  "kernelspec": {
   "display_name": "Python 3",
   "language": "python",
   "name": "python3"
  },
  "language_info": {
   "codemirror_mode": {
    "name": "ipython",
    "version": 3
   },
   "file_extension": ".py",
   "mimetype": "text/x-python",
   "name": "python",
   "nbconvert_exporter": "python",
   "pygments_lexer": "ipython3",
   "version": "3.12.4"
  }
 },
 "nbformat": 4,
 "nbformat_minor": 2
}

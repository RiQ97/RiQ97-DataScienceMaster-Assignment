{
 "cells": [
  {
   "cell_type": "markdown",
   "metadata": {},
   "source": [
    "### Q1. Pearson correlation coefficient is a measure of the linear relationship between two variables. Suppose you have collected data on the amount of time students spend studying for an exam and their final exam scores. Calculate the Pearson correlation coefficient between these two variables and interpret the result.\n"
   ]
  },
  {
   "cell_type": "code",
   "execution_count": 9,
   "metadata": {},
   "outputs": [
    {
     "name": "stdout",
     "output_type": "stream",
     "text": [
      "1.0\n"
     ]
    }
   ],
   "source": [
    "#A1.\n",
    "import numpy as np\n",
    "\n",
    "study_time = np.array([2, 3, 4, 5, 6])  # hours of study\n",
    "exam_scores = np.array([55, 60, 65, 70, 75])  # exam scores\n",
    "\n",
    "# Calculate Pearson correlation coefficient\n",
    "pearson_corr = np.corrcoef(study_time, exam_scores)[0, 1]\n",
    "print(pearson_corr)"
   ]
  },
  {
   "cell_type": "markdown",
   "metadata": {},
   "source": [
    "\n",
    "**Interpretation**: The Pearson correlation coefficient ranges from -1 to 1. A value close to 1 indicates a strong positive linear relationship, meaning as study time increases, exam scores tend to increase. A value close to -1 indicates a strong negative linear relationship, and a value around 0 indicates little to no linear relationship.\n",
    "\n",
    "### Q2. Spearman's rank correlation is a measure of the monotonic relationship between two variables. Suppose you have collected data on the amount of sleep individuals get each night and their overall job satisfaction level on a scale of 1 to 10. Calculate the Spearman's rank correlation between these two variables and interpret the result.\n"
   ]
  },
  {
   "cell_type": "code",
   "execution_count": 10,
   "metadata": {},
   "outputs": [
    {
     "name": "stdout",
     "output_type": "stream",
     "text": [
      "0.9999999999999999\n"
     ]
    }
   ],
   "source": [
    "#A2.\n",
    "from scipy.stats import spearmanr\n",
    "\n",
    "# Sample data\n",
    "sleep_hours = np.array([6, 7, 8, 5, 9])  # hours of sleep\n",
    "job_satisfaction = np.array([4, 5, 6, 3, 7])  # job satisfaction scale\n",
    "\n",
    "# Calculate Spearman's rank correlation coefficient\n",
    "spearman_corr, _ = spearmanr(sleep_hours, job_satisfaction)\n",
    "print(spearman_corr)"
   ]
  },
  {
   "cell_type": "markdown",
   "metadata": {},
   "source": [
    "\n",
    "**Interpretation**: Spearman's rank correlation coefficient ranges from -1 to 1. A value close to 1 indicates a strong positive monotonic relationship, meaning as the amount of sleep increases, job satisfaction tends to increase. A value close to -1 indicates a strong negative monotonic relationship, and a value around 0 indicates little to no monotonic relationship.\n",
    "\n",
    "### Q3. Suppose you are conducting a study to examine the relationship between the number of hours of exercise per week and body mass index (BMI) in a sample of adults. You collected data on both variables for 50 participants. Calculate the Pearson correlation coefficient and the Spearman's rank correlation between these two variables and compare the results.\n"
   ]
  },
  {
   "cell_type": "code",
   "execution_count": 11,
   "metadata": {},
   "outputs": [
    {
     "name": "stdout",
     "output_type": "stream",
     "text": [
      "-0.15304740967899852\n",
      "-0.15111644657863144\n"
     ]
    }
   ],
   "source": [
    "#A3.\n",
    "from scipy.stats import spearmanr\n",
    "\n",
    "exercise_hours = np.random.uniform(1, 10, 50)  # hours of exercise\n",
    "bmi = np.random.uniform(18, 30, 50)  # body mass index\n",
    "\n",
    "# Calculate Pearson correlation coefficient\n",
    "pearson_corr_exercise_bmi = np.corrcoef(exercise_hours, bmi)[0, 1]\n",
    "print(pearson_corr_exercise_bmi)\n",
    "\n",
    "# Calculate Spearman's rank correlation coefficient\n",
    "spearman_corr_exercise_bmi, _ = spearmanr(exercise_hours, bmi)\n",
    "print(spearman_corr_exercise_bmi)\n"
   ]
  },
  {
   "cell_type": "markdown",
   "metadata": {},
   "source": [
    "\n",
    "**Comparison**: The Pearson correlation measures linear relationships, while Spearman’s rank correlation assesses monotonic relationships. Comparing these values will show how well linear vs. monotonic relationships describe the association between exercise hours and BMI.\n",
    "\n",
    "### Q4. A researcher is interested in examining the relationship between the number of hours individuals spend watching television per day and their level of physical activity. The researcher collected data on both variables from a sample of 50 participants. Calculate the Pearson correlation coefficient between these two variables.\n"
   ]
  },
  {
   "cell_type": "code",
   "execution_count": 12,
   "metadata": {},
   "outputs": [
    {
     "name": "stdout",
     "output_type": "stream",
     "text": [
      "0.17793764768966983\n"
     ]
    }
   ],
   "source": [
    "#A4.\n",
    "tv_hours = np.random.uniform(1, 6, 50)  # hours of TV watched\n",
    "physical_activity = np.random.uniform(1, 5, 50)  # physical activity level\n",
    "\n",
    "# Calculate Pearson correlation coefficient\n",
    "pearson_corr_tv_activity = np.corrcoef(tv_hours, physical_activity)[0, 1]\n",
    "print(pearson_corr_tv_activity)"
   ]
  },
  {
   "cell_type": "markdown",
   "metadata": {},
   "source": [
    "\n",
    "**Interpretation**: The Pearson correlation coefficient will reveal whether there is a linear relationship between TV hours and physical activity. A negative correlation might suggest that more TV watching is associated with less physical activity.\n",
    "\n",
    "### Q5. A survey was conducted to examine the relationship between age and preference for a particular brand of soft drink. The survey results are shown below:\n",
    "Age (Years) | Softdrink Preference\n",
    "------------|----------------------\n",
    "25          | Coke\n",
    "42          | Pepsi\n",
    "37          | Mountain Dew\n",
    "19          | Coke\n",
    "31          | Pepsi\n",
    "28          | Coke\n",
    "\n",
    "A5. Since \"Softdrink Preference\" is categorical, we would first need to encode it numerically (e.g., Coke = 1, Pepsi = 2, Mountain Dew = 3) and then calculate the correlation with age.\n"
   ]
  },
  {
   "cell_type": "code",
   "execution_count": 13,
   "metadata": {},
   "outputs": [
    {
     "name": "stdout",
     "output_type": "stream",
     "text": [
      "0.7691751415594736\n"
     ]
    }
   ],
   "source": [
    "from sklearn.preprocessing import LabelEncoder\n",
    "import pandas as pd\n",
    "\n",
    "data = pd.DataFrame({\n",
    "    'Age': [25, 42, 37, 19, 31, 28],\n",
    "    'Softdrink Preference': ['Coke', 'Pepsi', 'Mountain Dew', 'Coke', 'Pepsi', 'Coke']\n",
    "})\n",
    "\n",
    "le = LabelEncoder()\n",
    "data['Softdrink Preference Encoded'] = le.fit_transform(data['Softdrink Preference'])\n",
    "\n",
    "pearson_corr_age_preference = np.corrcoef(data['Age'], data['Softdrink Preference Encoded'])[0, 1]\n",
    "print(pearson_corr_age_preference)"
   ]
  },
  {
   "cell_type": "markdown",
   "metadata": {},
   "source": [
    "\n",
    "**Interpretation**: The Pearson correlation coefficient will show whether there is a linear relationship between age and the preference for a particular brand.\n",
    "\n",
    "### Q6. A company is interested in examining the relationship between the number of sales calls made per day and the number of sales made per week. The company collected data on both variables from a sample of 30 sales representatives. Calculate the Pearson correlation coefficient between these two variables.\n",
    "\n",
    "A6. Pearson Correlation Coefficient Calculation\n"
   ]
  },
  {
   "cell_type": "code",
   "execution_count": 14,
   "metadata": {},
   "outputs": [
    {
     "name": "stdout",
     "output_type": "stream",
     "text": [
      "-0.24275079430613386\n"
     ]
    }
   ],
   "source": [
    "sales_calls = np.random.uniform(10, 50, 30)  # number of sales calls per day\n",
    "sales_made = np.random.uniform(5, 20, 30)  # number of sales made per week\n",
    "\n",
    "# Calculate Pearson correlation coefficient\n",
    "pearson_corr_calls_sales = np.corrcoef(sales_calls, sales_made)[0, 1]\n",
    "print(pearson_corr_calls_sales)"
   ]
  },
  {
   "cell_type": "markdown",
   "metadata": {},
   "source": [
    "\n",
    "\n",
    "**Interpretation**: The Pearson correlation coefficient will indicate the strength and direction of the linear relationship between the number of sales calls and the number of sales made."
   ]
  }
 ],
 "metadata": {
  "kernelspec": {
   "display_name": "Python 3",
   "language": "python",
   "name": "python3"
  },
  "language_info": {
   "codemirror_mode": {
    "name": "ipython",
    "version": 3
   },
   "file_extension": ".py",
   "mimetype": "text/x-python",
   "name": "python",
   "nbconvert_exporter": "python",
   "pygments_lexer": "ipython3",
   "version": "3.12.4"
  }
 },
 "nbformat": 4,
 "nbformat_minor": 2
}

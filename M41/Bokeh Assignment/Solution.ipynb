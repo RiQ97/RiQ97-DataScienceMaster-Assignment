{
 "cells": [
  {
   "cell_type": "markdown",
   "metadata": {},
   "source": [
    "### Q1.  How can you create a Bokeh plot using Python code?\n",
    "\n",
    "A1. To create a Bokeh plot using Python code, we need to install the Bokeh library and use it to define and render the plot. "
   ]
  },
  {
   "cell_type": "code",
   "execution_count": null,
   "metadata": {},
   "outputs": [],
   "source": [
    "from bokeh.plotting import figure, show, output_file\n",
    "\n",
    "# Prepare the output file\n",
    "output_file(\"line.html\")\n",
    "\n",
    "# Create a new plot with a title and axis labels\n",
    "p = figure(title=\"Simple Line Plot\", x_axis_label='X-Axis', y_axis_label='Y-Axis')\n",
    "\n",
    "# Add a line renderer with legend and line thickness\n",
    "p.line([1, 2, 3, 4, 5], [6, 7, 2, 4, 5], legend_label=\"Temp.\", line_width=2)\n",
    "\n",
    "# Show the results\n",
    "show(p)"
   ]
  },
  {
   "cell_type": "markdown",
   "metadata": {},
   "source": [
    "### Q2. What are glyphs in Bokeh, and how can you add them to a Bokeh plot? Explain with an example.\n",
    "\n",
    "A2. Glyphs in Bokeh are the basic visual building blocks of Bokeh plots, such as lines, circles, rectangles, etc. You can add them to a Bokeh plot using various glyph methods."
   ]
  },
  {
   "cell_type": "code",
   "execution_count": null,
   "metadata": {},
   "outputs": [],
   "source": [
    "from bokeh.plotting import figure, show, output_file\n",
    "\n",
    "# Prepare the output file\n",
    "output_file(\"glyphs.html\")\n",
    "\n",
    "# Create a new plot\n",
    "p = figure(title=\"Glyphs Example\", x_axis_label='X', y_axis_label='Y')\n",
    "\n",
    "# Add circle glyphs\n",
    "p.circle([1, 2, 3, 4, 5], [6, 7, 2, 4, 5], size=10, color=\"navy\", alpha=0.5)\n",
    "\n",
    "# Add line glyphs\n",
    "p.line([1, 2, 3, 4, 5], [6, 7, 2, 4, 5], line_width=2)\n",
    "\n",
    "# Show the results\n",
    "show(p)\n"
   ]
  },
  {
   "cell_type": "markdown",
   "metadata": {},
   "source": [
    "### Q3. How can you customize the appearance of a Bokeh plot, including the axes, title, and legend?"
   ]
  },
  {
   "cell_type": "code",
   "execution_count": null,
   "metadata": {},
   "outputs": [],
   "source": [
    "#A3.\n",
    "from bokeh.plotting import figure, show, output_file\n",
    "\n",
    "# Prepare the output file\n",
    "output_file(\"customized.html\")\n",
    "\n",
    "# Create a new plot\n",
    "p = figure(title=\"Customized Plot\", x_axis_label='X', y_axis_label='Y')\n",
    "\n",
    "# Add a line renderer\n",
    "p.line([1, 2, 3, 4, 5], [6, 7, 2, 4, 5], legend_label=\"Temp.\", line_width=2)\n",
    "\n",
    "# Customize the title\n",
    "p.title.text_font_size = '20pt'\n",
    "p.title.align = 'center'\n",
    "\n",
    "# Customize the axes\n",
    "p.xaxis.axis_label_text_color = \"blue\"\n",
    "p.yaxis.axis_label_text_color = \"green\"\n",
    "\n",
    "# Customize the legend\n",
    "p.legend.label_text_font_size = '12pt'\n",
    "p.legend.location = 'top_left'\n",
    "\n",
    "# Show the results\n",
    "show(p)\n"
   ]
  },
  {
   "cell_type": "markdown",
   "metadata": {},
   "source": [
    "### Q4. What is a Bokeh server, and how can you use it to create interactive plots that can be updated in real time?\n",
    "\n",
    "A4. Bokeh server allows us to create interactive plots that can be updated in real time by running a Bokeh application. The server can handle user interactions and update the plots accordingly."
   ]
  },
  {
   "cell_type": "code",
   "execution_count": null,
   "metadata": {},
   "outputs": [],
   "source": [
    "from bokeh.plotting import figure, curdoc\n",
    "from bokeh.models import ColumnDataSource\n",
    "from bokeh.layouts import column\n",
    "from bokeh.models.widgets import Button\n",
    "\n",
    "# Create a ColumnDataSource\n",
    "source = ColumnDataSource(data=dict(x=[1, 2, 3, 4, 5], y=[6, 7, 2, 4, 5]))\n",
    "\n",
    "# Create a new plot\n",
    "p = figure(title=\"Real-Time Data\", x_axis_label='X', y_axis_label='Y')\n",
    "\n",
    "# Add a line renderer\n",
    "p.line('x', 'y', source=source)\n",
    "\n",
    "# Define a callback to update the data\n",
    "def update():\n",
    "    new_data = dict(x=[1, 2, 3, 4, 5], y=[6, 7, 2, 4, 5])\n",
    "    source.data = new_data\n",
    "\n",
    "# Create a button widget and configure it with the callback\n",
    "button = Button(label=\"Update Data\")\n",
    "button.on_click(update)\n",
    "\n",
    "# Arrange the plot and button in a layout\n",
    "layout = column(p, button)\n",
    "\n",
    "# Add the layout to the current document\n",
    "curdoc().add_root(layout)"
   ]
  },
  {
   "cell_type": "markdown",
   "metadata": {},
   "source": [
    "### Q5. How can you embed a Bokeh plot into a web page or dashboard using Flask or Django?\n",
    "\n",
    "A5. To embed a Bokeh plot into a web page or dashboard using Flask or Django, we need to use the components function from `bokeh.embed` to get the script and div elements for the plot."
   ]
  },
  {
   "cell_type": "code",
   "execution_count": null,
   "metadata": {},
   "outputs": [],
   "source": [
    "from flask import Flask, render_template\n",
    "from bokeh.plotting import figure\n",
    "from bokeh.embed import components\n",
    "\n",
    "app = Flask(__name__)\n",
    "\n",
    "@app.route('/')\n",
    "def index():\n",
    "    # Create a new plot\n",
    "    plot = figure(title=\"Bokeh Plot\", x_axis_label='X', y_axis_label='Y')\n",
    "    plot.line([1, 2, 3, 4, 5], [6, 7, 2, 4, 5], line_width=2)\n",
    "\n",
    "    # Get the script and div components\n",
    "    script, div = components(plot)\n",
    "\n",
    "    # Render the template with the script and div\n",
    "    return render_template('index.html', script=script, div=div)\n",
    "\n",
    "if __name__ == '__main__':\n",
    "    app.run(debug=True)\n"
   ]
  },
  {
   "cell_type": "markdown",
   "metadata": {},
   "source": [
    "The `index.html` \n",
    "\n",
    "<!DOCTYPE html>\n",
    "<html lang=\"en\">\n",
    "<head>\n",
    "    <meta charset=\"UTF-8\">\n",
    "    <title>Bokeh Plot</title>\n",
    "    <script src=\"https://cdn.bokeh.org/bokeh/release/bokeh-2.3.3.min.js\"></script>\n",
    "</head>\n",
    "<body>\n",
    "    {{ div|safe }}\n",
    "    {{ script|safe }}\n",
    "</body>\n",
    "</html>"
   ]
  }
 ],
 "metadata": {
  "kernelspec": {
   "display_name": "Python 3",
   "language": "python",
   "name": "python3"
  },
  "language_info": {
   "codemirror_mode": {
    "name": "ipython",
    "version": 3
   },
   "file_extension": ".py",
   "mimetype": "text/x-python",
   "name": "python",
   "nbconvert_exporter": "python",
   "pygments_lexer": "ipython3",
   "version": "3.12.4"
  }
 },
 "nbformat": 4,
 "nbformat_minor": 2
}

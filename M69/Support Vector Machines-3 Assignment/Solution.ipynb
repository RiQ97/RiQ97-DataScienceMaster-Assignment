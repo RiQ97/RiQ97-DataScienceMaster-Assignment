{
 "cells": [
  {
   "cell_type": "markdown",
   "metadata": {},
   "source": [
    "### Q1. In order to predict house price based on several characteristics, such as location, square footage, number of bedrooms, etc., you are developing an SVM regression model. Which regression metric in this situation would be the best to employ?\n",
    "\n",
    "A1. For predicting house prices, **Root Mean Squared Error (RMSE)** is often the best metric to use. It penalizes larger errors more than smaller ones, which is useful when the focus is on predicting actual values as accurately as possible.\n",
    "\n",
    "### Q2. You have built an SVM regression model and are trying to decide between using MSE or R-squared as your evaluation metric. Which metric would be more appropriate if your goal is to predict the actual price of a house as accurately as possible?\n",
    "\n",
    "A2. If the goal is to predict the actual price of a house as accurately as possible, **RMSE** or **MSE** would be more appropriate because they focus on minimizing the error in the predictions. **R-squared** measures how well the model explains the variance in the data but doesn't directly focus on prediction accuracy.\n",
    "\n",
    "\n",
    "### Q3. You have a dataset with a significant number of outliers and are trying to select an appropriate regression metric to use with your SVM model. Which metric would be the most appropriate in this scenario?\n",
    "\n",
    "A3. When dealing with a dataset with significant outliers, **Mean Absolute Error (MAE)** can be a more appropriate metric because it is less sensitive to outliers compared to MSE or RMSE. However, for SVM regression, you might also consider using **Huber loss**, which is robust to outliers.\n",
    "\n",
    "### Q4. You have built an SVM regression model using a polynomial kernel and are trying to select the best metric to evaluate its performance. You have calculated both MSE and RMSE and found that both values are very close. Which metric should you choose to use in this case?\n",
    "\n",
    "A4. If both MSE and RMSE are very close, RMSE would be the better choice, as it is in the same units as the target variable (house prices) and provides a more interpretable measure of prediction error.\n",
    "\n",
    "### Q5. You are comparing the performance of different SVM regression models using different kernels (linear, polynomial, and RBF) and are trying to select the best evaluation metric. Which metric would be most appropriate if your goal is to measure how well the model explains the variance in the target variable?\n",
    "\n",
    "A5. When comparing the performance of different SVM regression models using different kernels, **R-squared** is the most appropriate metric if your goal is to measure how well the model explains the variance in the target variable. It gives a proportion of the variance in the dependent variable that is predictable from the independent variables."
   ]
  }
 ],
 "metadata": {
  "kernelspec": {
   "display_name": "Python 3",
   "language": "python",
   "name": "python3"
  },
  "language_info": {
   "codemirror_mode": {
    "name": "ipython",
    "version": 3
   },
   "file_extension": ".py",
   "mimetype": "text/x-python",
   "name": "python",
   "nbconvert_exporter": "python",
   "pygments_lexer": "ipython3",
   "version": "3.12.4"
  }
 },
 "nbformat": 4,
 "nbformat_minor": 2
}

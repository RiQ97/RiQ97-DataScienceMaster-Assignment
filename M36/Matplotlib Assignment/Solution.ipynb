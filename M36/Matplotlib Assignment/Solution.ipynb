{
 "cells": [
  {
   "cell_type": "markdown",
   "metadata": {},
   "source": [
    "### Q1: What is Matplotlib? Why is it used? Name five plots that can be plotted using the Pyplot module of Matplotlib.\n",
    "\n",
    "A1. **Matplotlib** is a comprehensive library for creating static, animated, and interactive visualizations in Python. It is widely used for plotting various types of data in an easy-to-understand manner.\n",
    "\n",
    "Five plots that can be plotted using the Pyplot module of Matplotlib are:\n",
    "1. Line Plot\n",
    "2. Scatter Plot\n",
    "3. Bar Plot\n",
    "4. Histogram\n",
    "5. Box Plot\n",
    "\n",
    "### Q2: What is a scatter plot? Generate and plot a scatter plot.\n",
    "\n",
    "A2. **scatter plot** is a type of plot that displays values for typically two variables for a set of data. The data is displayed as a collection of points, each having the value of one variable determining the position on the horizontal axis and the value of the other variable determining the position on the vertical axis.\n"
   ]
  },
  {
   "cell_type": "code",
   "execution_count": null,
   "metadata": {},
   "outputs": [],
   "source": [
    "import numpy as np\n",
    "import matplotlib.pyplot as plt\n",
    "\n",
    "np.random.seed(3)\n",
    "x = 3 + np.random.normal(0, 2, 50)\n",
    "y = 3 + np.random.normal(0, 2, len(x))\n",
    "\n",
    "plt.scatter(x, y)\n",
    "plt.title('Scatter Plot')\n",
    "plt.xlabel('X-axis')\n",
    "plt.ylabel('Y-axis')\n",
    "plt.show()"
   ]
  },
  {
   "cell_type": "markdown",
   "metadata": {},
   "source": [
    "### Q3: Why is the subplot() function used? Draw four line plots using the subplot() function.\n",
    "\n",
    "A3. The `subplot()` function is used to create multiple plots in a single figure. It allows you to arrange multiple plots in a grid layout, making it easier to compare different plots side by side.\n"
   ]
  },
  {
   "cell_type": "code",
   "execution_count": null,
   "metadata": {},
   "outputs": [],
   "source": [
    "\n",
    "import numpy as np\n",
    "import matplotlib.pyplot as plt\n",
    "\n",
    "x = np.array([0, 1, 2, 3, 4, 5])\n",
    "\n",
    "# Line 1 data\n",
    "y1 = np.array([0, 100, 200, 300, 400, 500])\n",
    "\n",
    "# Line 2 data\n",
    "y2 = np.array([50, 20, 40, 20, 60, 70])\n",
    "\n",
    "# Line 3 data\n",
    "y3 = np.array([10, 20, 30, 40, 50, 60])\n",
    "\n",
    "# Line 4 data\n",
    "y4 = np.array([200, 350, 250, 550, 450, 150])\n",
    "\n",
    "fig, axs = plt.subplots(2, 2, figsize=(10, 10))\n",
    "\n",
    "axs[0, 0].plot(x, y1)\n",
    "axs[0, 0].set_title('Line 1')\n",
    "\n",
    "axs[0, 1].plot(x, y2, 'tab:orange')\n",
    "axs[0, 1].set_title('Line 2')\n",
    "\n",
    "axs[1, 0].plot(x, y3, 'tab:green')\n",
    "axs[1, 0].set_title('Line 3')\n",
    "\n",
    "axs[1, 1].plot(x, y4, 'tab:red')\n",
    "axs[1, 1].set_title('Line 4')\n",
    "\n",
    "for ax in axs.flat:\n",
    "    ax.set(xlabel='x-label', ylabel='y-label')\n",
    "\n",
    "plt.show()"
   ]
  },
  {
   "cell_type": "markdown",
   "metadata": {},
   "source": [
    "### Q4: What is a bar plot? Generate a bar plot and a horizontal bar plot.\n",
    "\n",
    "A4. **bar plot** is a type of plot that represents data with rectangular bars with lengths proportional to the values they represent. It is used to compare different categories of data.\n"
   ]
  },
  {
   "cell_type": "code",
   "execution_count": null,
   "metadata": {},
   "outputs": [],
   "source": [
    "\n",
    "import numpy as np\n",
    "import matplotlib.pyplot as plt\n",
    "\n",
    "company = np.array([\"Apple\", \"Microsoft\", \"Google\", \"AMD\"])\n",
    "profit = np.array([3000, 8000, 1000, 10000])\n",
    "\n",
    "# Vertical Bar Plot\n",
    "plt.figure(figsize=(10, 5))\n",
    "plt.bar(company, profit)\n",
    "plt.title('Company Profits')\n",
    "plt.xlabel('Company')\n",
    "plt.ylabel('Profit')\n",
    "plt.show()\n",
    "\n",
    "# Horizontal Bar Plot\n",
    "plt.figure(figsize=(10, 5))\n",
    "plt.barh(company, profit)\n",
    "plt.title('Company Profits')\n",
    "plt.xlabel('Profit')\n",
    "plt.ylabel('Company')\n",
    "plt.show()"
   ]
  },
  {
   "cell_type": "markdown",
   "metadata": {},
   "source": [
    "### Q5: What is a box plot? Generate a box plot.\n",
    "\n",
    "A5. **box plot** is a standardized way of displaying the distribution of data based on a five-number summary: minimum, first quartile (Q1), median, third quartile (Q3), and maximum. It is used to show the spread and skewness of the data.\n"
   ]
  },
  {
   "cell_type": "code",
   "execution_count": null,
   "metadata": {},
   "outputs": [],
   "source": [
    "import numpy as np\n",
    "import matplotlib.pyplot as plt\n",
    "\n",
    "box1 = np.random.normal(100, 10, 200)\n",
    "box2 = np.random.normal(90, 20, 200)\n",
    "\n",
    "data = [box1, box2]\n",
    "\n",
    "plt.boxplot(data)\n",
    "plt.title('Box Plot')\n",
    "plt.xlabel('Box')\n",
    "plt.ylabel('Values')\n",
    "plt.xticks([1, 2], ['Box 1', 'Box 2'])\n",
    "plt.show()"
   ]
  }
 ],
 "metadata": {
  "kernelspec": {
   "display_name": "Python 3",
   "language": "python",
   "name": "python3"
  },
  "language_info": {
   "codemirror_mode": {
    "name": "ipython",
    "version": 3
   },
   "file_extension": ".py",
   "mimetype": "text/x-python",
   "name": "python",
   "nbconvert_exporter": "python",
   "pygments_lexer": "ipython3",
   "version": "3.12.4"
  }
 },
 "nbformat": 4,
 "nbformat_minor": 2
}

{
 "cells": [
  {
   "cell_type": "markdown",
   "metadata": {},
   "source": [
    "### Q1: Calculate the 95% confidence interval for a sample of data with a mean of 50 and a standard deviation of 5 using Python. Interpret the results.\n"
   ]
  },
  {
   "cell_type": "code",
   "execution_count": 12,
   "metadata": {},
   "outputs": [
    {
     "name": "stdout",
     "output_type": "stream",
     "text": [
      "95% Confidence Interval: (np.float64(48.210805856282846), np.float64(51.789194143717154))\n"
     ]
    }
   ],
   "source": [
    "#A1.\n",
    "import scipy.stats as stats\n",
    "\n",
    "# Given data\n",
    "mean = 50\n",
    "std_dev = 5\n",
    "sample_size = 30  # assuming a sample size of 30 for the calculation\n",
    "\n",
    "# Calculate the 95% confidence interval\n",
    "confidence_level = 0.95\n",
    "z_critical = stats.norm.ppf((1 + confidence_level) / 2)\n",
    "margin_of_error = z_critical * (std_dev / (sample_size**0.5))\n",
    "confidence_interval = (mean - margin_of_error, mean + margin_of_error)\n",
    "\n",
    "print(f\"95% Confidence Interval: {confidence_interval}\")"
   ]
  },
  {
   "cell_type": "markdown",
   "metadata": {},
   "source": [
    "**Interpretation**: The 95% confidence interval for the population mean is (48.21, 51.79). This means we are 95% confident that the true population mean lies between 48.21 and 51.79.\n",
    "\n",
    "### Q2: Conduct a chi-square goodness of fit test to determine if the distribution of colors of M&Ms in a bag matches the expected distribution of 20% blue, 20% orange, 20% green, 10% yellow, 10% red, and 20% brown. Use Python to perform the test with a significance level of 0.05.\n"
   ]
  },
  {
   "cell_type": "code",
   "execution_count": 11,
   "metadata": {},
   "outputs": [
    {
     "name": "stdout",
     "output_type": "stream",
     "text": [
      "Chi-square Statistic: 2.5\n",
      "P-value: 0.7764950711233227\n"
     ]
    }
   ],
   "source": [
    "#A2.\n",
    "import scipy.stats as stats\n",
    "\n",
    "# Observed frequencies\n",
    "observed = [25, 20, 20, 10, 10, 15]\n",
    "\n",
    "# Expected frequencies\n",
    "total = sum(observed)\n",
    "expected = [total * 0.20, total * 0.20, total * 0.20, total * 0.10, total * 0.10, total * 0.20]\n",
    "\n",
    "# Perform the chi-square goodness of fit test\n",
    "chi2_stat, p_value = stats.chisquare(f_obs=observed, f_exp=expected)\n",
    "\n",
    "print(f\"Chi-square Statistic: {chi2_stat}\")\n",
    "print(f\"P-value: {p_value}\")"
   ]
  },
  {
   "cell_type": "markdown",
   "metadata": {},
   "source": [
    "**Interpretation**: Compare the p-value with the significance level (0.05). If the p-value is less than 0.05, we reject the null hypothesis, indicating that the observed distribution differs from the expected distribution.\n",
    "\n",
    "### Q3: Use Python to calculate the chi-square statistic and p-value for a contingency table with the following data:\n",
    "\n",
    "```\n",
    "              A     B\n",
    "Outcome 1    20    15\n",
    "Outcome 2    10    25\n",
    "Outcome 3    15    20\n",
    "```\n"
   ]
  },
  {
   "cell_type": "code",
   "execution_count": 10,
   "metadata": {},
   "outputs": [
    {
     "name": "stdout",
     "output_type": "stream",
     "text": [
      "Chi-square Statistic: 5.833333333333334\n",
      "P-value: 0.05411376622282158\n",
      "Degrees of Freedom: 2\n",
      "Expected Frequencies: \n",
      "[[15. 20.]\n",
      " [15. 20.]\n",
      " [15. 20.]]\n"
     ]
    }
   ],
   "source": [
    "#A3.\n",
    "import numpy as np\n",
    "import scipy.stats as stats\n",
    "\n",
    "# Contingency table\n",
    "data = np.array([[20, 15], [10, 25], [15, 20]])\n",
    "\n",
    "# Perform the chi-square test\n",
    "chi2_stat, p_value, dof, expected = stats.chi2_contingency(data)\n",
    "\n",
    "print(f\"Chi-square Statistic: {chi2_stat}\")\n",
    "print(f\"P-value: {p_value}\")\n",
    "print(f\"Degrees of Freedom: {dof}\")\n",
    "print(f\"Expected Frequencies: \\n{expected}\")"
   ]
  },
  {
   "cell_type": "markdown",
   "metadata": {},
   "source": [
    "\n",
    "\n",
    "**Interpretation**: Compare the p-value with the significance level (0.05). If the p-value is less than 0.05, we reject the null hypothesis, indicating that there is a significant association between the variables.\n",
    "\n",
    "### Q4: A study of the prevalence of smoking in a population of 500 individuals found that 60 individuals smoked. Use Python to calculate the 95% confidence interval for the true proportion of individuals in the population who smoke.\n"
   ]
  },
  {
   "cell_type": "code",
   "execution_count": 9,
   "metadata": {},
   "outputs": [
    {
     "name": "stdout",
     "output_type": "stream",
     "text": [
      "95% Confidence Interval for the proportion: (0.092, 0.148)\n"
     ]
    }
   ],
   "source": [
    "#A4.\n",
    "import statsmodels.stats.proportion as proportion\n",
    "\n",
    "# Given data\n",
    "sample_size = 500\n",
    "smokers = 60\n",
    "confidence_level = 0.95\n",
    "\n",
    "# Calculate the confidence interval\n",
    "ci_low, ci_upp = proportion.proportion_confint(smokers, sample_size, alpha=1-confidence_level, method='normal')\n",
    "\n",
    "print(f\"95% Confidence Interval for the proportion: ({ci_low:.3f}, {ci_upp:.3f})\")"
   ]
  },
  {
   "cell_type": "markdown",
   "metadata": {},
   "source": [
    "\n",
    "**Interpretation**: The 95% confidence interval for the proportion of smokers in the population is approximately (0.084, 0.156). This means we are 95% confident that the true proportion of smokers in the population lies between 8.4% and 15.6%.\n",
    "\n",
    "### Q5: Calculate the 90% confidence interval for a sample of data with a mean of 75 and a standard deviation of 12 using Python. Interpret the results.\n"
   ]
  },
  {
   "cell_type": "code",
   "execution_count": 8,
   "metadata": {},
   "outputs": [
    {
     "name": "stdout",
     "output_type": "stream",
     "text": [
      "90% Confidence Interval: (np.float64(71.39630625889797), np.float64(78.60369374110203))\n"
     ]
    }
   ],
   "source": [
    "#A5.\n",
    "import scipy.stats as stats\n",
    "\n",
    "# Given data\n",
    "mean = 75\n",
    "std_dev = 12\n",
    "sample_size = 30  # assuming a sample size of 30 for the calculation\n",
    "\n",
    "# Calculate the 90% confidence interval\n",
    "confidence_level = 0.90\n",
    "z_critical = stats.norm.ppf((1 + confidence_level) / 2)\n",
    "margin_of_error = z_critical * (std_dev / (sample_size**0.5))\n",
    "confidence_interval = (mean - margin_of_error, mean + margin_of_error)\n",
    "\n",
    "print(f\"90% Confidence Interval: {confidence_interval}\")"
   ]
  },
  {
   "cell_type": "markdown",
   "metadata": {},
   "source": [
    "\n",
    "**Interpretation**: The 90% confidence interval for the population mean is (71.49, 78.51). This means we are 90% confident that the true population mean lies between 71.49 and 78.51.\n",
    "\n",
    "### Q6: Use Python to plot the chi-square distribution with 10 degrees of freedom. Label the axes and shade the area corresponding to a chi-square statistic of 15.\n"
   ]
  },
  {
   "cell_type": "code",
   "execution_count": 7,
   "metadata": {},
   "outputs": [
    {
     "data": {
      "image/png": "[encoded data removed]",
      "text/plain": [
       "<Figure size 640x480 with 1 Axes>"
      ]
     },
     "metadata": {},
     "output_type": "display_data"
    }
   ],
   "source": [
    "#A6.\n",
    "import numpy as np\n",
    "import matplotlib.pyplot as plt\n",
    "import scipy.stats as stats\n",
    "\n",
    "# Chi-square distribution with 10 degrees of freedom\n",
    "df = 10\n",
    "x = np.linspace(0, 30, 1000)\n",
    "y = stats.chi2.pdf(x, df)\n",
    "\n",
    "# Plot the chi-square distribution\n",
    "plt.plot(x, y, label='Chi-square distribution (df=10)')\n",
    "plt.fill_between(x, y, where=(x >= 15), color='gray', alpha=0.5, label='Chi-square statistic = 15')\n",
    "plt.xlabel('Chi-square value')\n",
    "plt.ylabel('Probability density')\n",
    "plt.title('Chi-square distribution with 10 degrees of freedom')\n",
    "plt.legend()\n",
    "plt.show()"
   ]
  },
  {
   "cell_type": "markdown",
   "metadata": {},
   "source": [
    "\n",
    "### Q7: A random sample of 1000 people was asked if they preferred Coke or Pepsi. Of the sample, 520 preferred Coke. Calculate a 99% confidence interval for the true proportion of people in the population who prefer Coke.\n"
   ]
  },
  {
   "cell_type": "code",
   "execution_count": 6,
   "metadata": {},
   "outputs": [
    {
     "name": "stdout",
     "output_type": "stream",
     "text": [
      "99% Confidence Interval for the proportion: (0.479, 0.561)\n"
     ]
    }
   ],
   "source": [
    "#A7.\n",
    "import statsmodels.stats.proportion as proportion\n",
    "\n",
    "# Given data\n",
    "sample_size = 1000\n",
    "coke_preference = 520\n",
    "confidence_level = 0.99\n",
    "\n",
    "# Calculate the confidence interval\n",
    "ci_low, ci_upp = proportion.proportion_confint(coke_preference, sample_size, alpha=1-confidence_level, method='normal')\n",
    "\n",
    "print(f\"99% Confidence Interval for the proportion: ({ci_low:.3f}, {ci_upp:.3f})\")"
   ]
  },
  {
   "cell_type": "markdown",
   "metadata": {},
   "source": [
    "\n",
    "**Interpretation**: The 99% confidence interval for the proportion of people who prefer Coke is approximately (0.482, 0.558). This means we are 99% confident that the true proportion of people who prefer Coke in the population lies between 48.2% and 55.8%.\n",
    "\n",
    "### Q8: A researcher hypothesizes that a coin is biased towards tails. They flip the coin 100 times and observe 45 tails. Conduct a chi-square goodness of fit test to determine if the observed frequencies match the expected frequencies of a fair coin. Use a significance level of 0.05.\n",
    "\n"
   ]
  },
  {
   "cell_type": "code",
   "execution_count": 4,
   "metadata": {},
   "outputs": [
    {
     "name": "stdout",
     "output_type": "stream",
     "text": [
      "Chi-square Statistic: 1.0\n",
      "P-value: 0.31731050786291115\n"
     ]
    }
   ],
   "source": [
    "#A8.\n",
    "import scipy.stats as stats\n",
    "\n",
    "# Observed frequencies\n",
    "observed = [45, 55]  # 45 tails, 55 heads\n",
    "\n",
    "# Expected frequencies for a fair coin\n",
    "expected = [50, 50]  # equal probability for heads and tails\n",
    "\n",
    "# Perform the chi-square goodness of fit test\n",
    "chi2_stat, p_value = stats.chisquare(f_obs=observed, f_exp=expected)\n",
    "\n",
    "print(f\"Chi-square Statistic: {chi2_stat}\")\n",
    "print(f\"P-value: {p_value}\")"
   ]
  },
  {
   "cell_type": "markdown",
   "metadata": {},
   "source": [
    "**Interpretation**: Compare the p-value with the significance level (0.05). If the p-value is less than 0.05, we reject the null hypothesis, indicating that the coin is biased.\n",
    "\n",
    "### Q9: A study was conducted to determine if there is an association between smoking status (smoker or non-smoker) and lung cancer diagnosis (yes or no). The results are shown in the contingency table below. Conduct a chi-square test for independence to determine if there is a significant association between smoking status and lung cancer diagnosis.\n",
    "\n",
    "```\n",
    "                   Lung Cancer: Yes              Lung Cancer: no\n",
    "Smoker                  60                           140\n",
    "Non-smoker              30                           170\n",
    "```\n"
   ]
  },
  {
   "cell_type": "code",
   "execution_count": 3,
   "metadata": {},
   "outputs": [
    {
     "name": "stdout",
     "output_type": "stream",
     "text": [
      "Chi-square Statistic: 12.057347670250895\n",
      "P-value: 0.0005158863863703744\n",
      "Degrees of Freedom: 1\n",
      "Expected Frequencies: \n",
      "[[ 45. 155.]\n",
      " [ 45. 155.]]\n"
     ]
    }
   ],
   "source": [
    "#A9.\n",
    "import numpy as np\n",
    "import scipy.stats as stats\n",
    "\n",
    "# Contingency table\n",
    "data = np.array([[60, 140], [30, 170]])\n",
    "\n",
    "# Perform the chi-square test for independence\n",
    "chi2_stat, p_value, dof, expected = stats.chi2_contingency(data)\n",
    "\n",
    "print(f\"Chi-square Statistic: {chi2_stat}\")\n",
    "print(f\"P-value: {p_value}\")\n",
    "print(f\"Degrees of Freedom: {dof}\")\n",
    "print(f\"Expected Frequencies: \\n{expected}\")"
   ]
  },
  {
   "cell_type": "markdown",
   "metadata": {},
   "source": [
    "\n",
    "**Interpretation**: Compare the p-value with the significance level (0.05). If the p-value is less than 0.05, we reject the null hypothesis, indicating that there is a significant association between smoking status and lung cancer diagnosis.\n",
    "\n",
    "### Q10: A study was conducted to determine if the proportion of people who prefer milk chocolate, dark chocolate, or white chocolate is different in the U.S. versus the U.K. A random sample of 500 people from the U.S. and a random sample of 500 people from the U.K. were surveyed. The results are shown in the contingency table below. Conduct a chi-square test for independence to determine if there is a significant association between chocolate preference and country of origin.\n",
    "\n",
    "```\n",
    "               Milk Chocolate     Dark Chocolate    White Chocolate\n",
    "U.S. (n=500)      200                    150              150      \n",
    "U.K. (n=500)      225                    175              100      \n",
    "```"
   ]
  },
  {
   "cell_type": "code",
   "execution_count": 2,
   "metadata": {},
   "outputs": [
    {
     "name": "stdout",
     "output_type": "stream",
     "text": [
      "Chi-square Statistic: 13.393665158371041\n",
      "P-value: 0.0012348168997745915\n",
      "Degrees of Freedom: 2\n",
      "Expected Frequencies: \n",
      "[[212.5 162.5 125. ]\n",
      " [212.5 162.5 125. ]]\n"
     ]
    }
   ],
   "source": [
    "#A10.\n",
    "import numpy as np\n",
    "import scipy.stats as stats\n",
    "\n",
    "# Contingency table\n",
    "data = np.array([[200, 150, 150], [225, 175, 100]])\n",
    "\n",
    "# Perform the chi-square test for independence\n",
    "chi2_stat, p_value, dof, expected = stats.chi2_contingency(data)\n",
    "\n",
    "print(f\"Chi-square Statistic: {chi2_stat}\")\n",
    "print(f\"P-value: {p_value}\")\n",
    "print(f\"Degrees of Freedom: {dof}\")\n",
    "print(f\"Expected Frequencies: \\n{expected}\")"
   ]
  },
  {
   "cell_type": "markdown",
   "metadata": {},
   "source": [
    "\n",
    "**Interpretation**: Compare the p-value with the significance level (0.01). If the p-value is less than 0.01, we reject the null hypothesis, indicating that there is a significant association between chocolate preference and country of origin.\n",
    "\n",
    "### Q11: A random sample of 30 people was selected from a population with an unknown mean and standard deviation. The sample mean was found to be 72 and the sample standard deviation was found to be 10. Conduct a hypothesis test to determine if the population mean is significantly different from 70. Use a significance level of 0.05.\n"
   ]
  },
  {
   "cell_type": "code",
   "execution_count": 1,
   "metadata": {},
   "outputs": [
    {
     "name": "stdout",
     "output_type": "stream",
     "text": [
      "T-statistic: 1.0954451150103321\n",
      "T-critical: 2.045229642132703\n",
      "P-value: 0.2823362372860698\n"
     ]
    }
   ],
   "source": [
    "#A11.\n",
    "import scipy.stats as stats\n",
    "\n",
    "# Given data\n",
    "sample_mean = 72\n",
    "sample_std_dev = 10\n",
    "sample_size = 30\n",
    "population_mean = 70\n",
    "alpha = 0.05\n",
    "\n",
    "t_stat = (sample_mean - population_mean) / (sample_std_dev / (sample_size**0.5))\n",
    "t_critical = stats.t.ppf(1 - alpha / 2, df=sample_size - 1)\n",
    "p_value = 2 * (1 - stats.t.cdf(abs(t_stat), df=sample_size - 1))\n",
    "\n",
    "print(f\"T-statistic: {t_stat}\")\n",
    "print(f\"T-critical: {t_critical}\")\n",
    "print(f\"P-value: {p_value}\")"
   ]
  },
  {
   "cell_type": "markdown",
   "metadata": {},
   "source": [
    "\n",
    "**Interpretation**: Compare the t-statistic with the t-critical value and the p-value with the significance level (0.05). If the absolute value of the t-statistic is greater than the t-critical value or the p-value is less than 0.05, we reject the null hypothesis, indicating that the population mean is significantly different from 70."
   ]
  }
 ],
 "metadata": {
  "kernelspec": {
   "display_name": "Python 3",
   "language": "python",
   "name": "python3"
  },
  "language_info": {
   "codemirror_mode": {
    "name": "ipython",
    "version": 3
   },
   "file_extension": ".py",
   "mimetype": "text/x-python",
   "name": "python",
   "nbconvert_exporter": "python",
   "pygments_lexer": "ipython3",
   "version": "3.12.4"
  }
 },
 "nbformat": 4,
 "nbformat_minor": 2
}

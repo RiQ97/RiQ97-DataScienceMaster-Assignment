{
 "cells": [
  {
   "cell_type": "markdown",
   "metadata": {},
   "source": [
    "### Q1. What is the difference between Ordinal Encoding and Label Encoding? Provide an example of when you might choose one over the other.\n",
    "\n",
    "A1. **Label Encoding** converts categorical values into unique numerical values. Each unique category is assigned a distinct integer.\n",
    "It is suitable for categorical features where the categories do not have a meaningful order.\n",
    "- **Example**: For a feature \"Color\" with values [\"Red\", \"Green\", \"Blue\"], Label Encoding might map \"Red\" to 0, \"Green\" to 1, and \"Blue\" to 2. This is appropriate when colors have no inherent order.\n",
    "\n",
    "**Ordinal Encoding** converts categorical values into numerical values while preserving the order or ranking of the categories.\n",
    "It is ideal for categorical features with a meaningful order.\n",
    "- **Example**: For a feature \"Size\" with values [\"Small\", \"Medium\", \"Large\"], Ordinal Encoding might map \"Small\" to 1, \"Medium\" to 2, and \"Large\" to 3. This reflects the inherent order in the sizes.\n",
    "\n",
    "**Choosing One Over the Other**:\n",
    "- **Label Encoding** should be used when categories do not have a natural order.\n",
    "- **Ordinal Encoding** should be used when categories have a natural, meaningful order.\n",
    "\n",
    "### Q2. Explain how Target Guided Ordinal Encoding works and provide an example of when you might use it in a machine learning project.\n",
    "\n",
    "A2. **Target Guided Ordinal Encoding** assigns ordinal values to categorical features based on the relationship between the feature and the target variable.\n",
    "\n",
    "To incorporate with Target Guided Ordinal Encoding we need to\n",
    "1. **Calculate the Mean of the Target Variable**: Compute the mean target value for each category.\n",
    "2. **Rank Categories**: Sort categories based on their target mean values.\n",
    "3. **Assign Ordinal Values**: Assign integers based on the rank.\n",
    "\n",
    "**For Example**:\n",
    "In a project predicting house prices with a categorical feature \"Condition\" (Excellent, Good, Fair, Poor), calculate the mean house price for each condition. If \"Excellent\" has the highest mean price and \"Poor\" has the lowest, assign higher ordinal values to \"Excellent\" and lower values to \"Poor\".\n",
    "\n",
    "### Q3. Define covariance and explain why it is important in statistical analysis. How is covariance calculated?\n",
    "\n",
    "A3. **Covariance** measures how two variables change together. A positive covariance indicates that as one variable increases, the other tends to increase as well, while a negative covariance indicates an inverse relationship.\n",
    "\n",
    "**Importance of covariance**:\n",
    "- **Relationship Analysis**: Helps in understanding the direction of the relationship between two variables.\n",
    "- **Correlation Calculation**: Used to compute correlation coefficients, which standardize covariance.\n",
    "\n",
    "**Calculation**:\n",
    "For two variables  X  and  Y :\n",
    "$$\n",
    " \\text{Cov}(X, Y) = \\frac{1}{n-1} \\sum_{i=1}^{n} (X_i - \\bar{X}) (Y_i - \\bar{Y}) \n",
    "$$\n",
    "where X bar and Y bar are the means of X and Y, and n is the number of observations.\n",
    "\n",
    "### Q4. For a dataset with the following categorical variables: Color (red, green, blue), Size (small, medium, large), and Material (wood, metal, plastic), perform label encoding using Python's scikit-learn library. Show your code and explain the output.\n"
   ]
  },
  {
   "cell_type": "code",
   "execution_count": 4,
   "metadata": {},
   "outputs": [
    {
     "name": "stdout",
     "output_type": "stream",
     "text": [
      "   Color    Size Material  Color_Encoded  Size_Encoded  Material_Encoded\n",
      "0    red   small     wood              2             2                 2\n",
      "1  green  medium    metal              1             1                 0\n",
      "2   blue   large  plastic              0             0                 1\n",
      "3  green   small     wood              1             2                 2\n",
      "4    red  medium    metal              2             1                 0\n"
     ]
    }
   ],
   "source": [
    "#A4.\n",
    "from sklearn.preprocessing import LabelEncoder\n",
    "import pandas as pd\n",
    "\n",
    "# Sample data\n",
    "data = pd.DataFrame({\n",
    "    'Color': ['red', 'green', 'blue', 'green', 'red'],\n",
    "    'Size': ['small', 'medium', 'large', 'small', 'medium'],\n",
    "    'Material': ['wood', 'metal', 'plastic', 'wood', 'metal']\n",
    "})\n",
    "\n",
    "# Initialize LabelEncoder\n",
    "le_color = LabelEncoder()\n",
    "le_size = LabelEncoder()\n",
    "le_material = LabelEncoder()\n",
    "\n",
    "# Apply Label Encoding\n",
    "data['Color_Encoded'] = le_color.fit_transform(data['Color'])\n",
    "data['Size_Encoded'] = le_size.fit_transform(data['Size'])\n",
    "data['Material_Encoded'] = le_material.fit_transform(data['Material'])\n",
    "\n",
    "print(data)"
   ]
  },
  {
   "cell_type": "markdown",
   "metadata": {},
   "source": [
    "**Explanation**: The `LabelEncoder` converts each unique category into a numerical value. Each categorical column will be transformed into a new column with encoded values.\n",
    "\n",
    "### Q5. Calculate the covariance matrix for the following variables in a dataset: Age, Income, and Education level. Interpret the results.\n"
   ]
  },
  {
   "cell_type": "code",
   "execution_count": 3,
   "metadata": {},
   "outputs": [
    {
     "name": "stdout",
     "output_type": "stream",
     "text": [
      "[[6.25e+01 6.25e+04 5.00e+00]\n",
      " [6.25e+04 6.25e+07 5.00e+03]\n",
      " [5.00e+00 5.00e+03 7.00e-01]]\n"
     ]
    }
   ],
   "source": [
    "#A5.\n",
    "import numpy as np\n",
    "\n",
    "# Sample data\n",
    "data = np.array([\n",
    "    [25, 50000, 2],\n",
    "    [30, 55000, 3],\n",
    "    [35, 60000, 4],\n",
    "    [40, 65000, 3],\n",
    "    [45, 70000, 4]\n",
    "])\n",
    "\n",
    "# Calculate covariance matrix\n",
    "cov_matrix = np.cov(data, rowvar=False)\n",
    "print(cov_matrix)"
   ]
  },
  {
   "cell_type": "markdown",
   "metadata": {},
   "source": [
    "**Interpretation**: The diagonal values represent the variances of each variable. The off-diagonal values represent covariances between pairs of variables. Positive values indicate a positive relationship, while negative values indicate an inverse relationship.\n",
    "\n",
    "### Q6. You are working on a machine learning project with a dataset containing several categorical variables, including \"Gender\" (Male/Female), \"Education Level\" (High School/Bachelor's/Master's/PhD), and \"Employment Status\" (Unemployed/Part-Time/Full-Time). Which encoding method would you use for each variable, and why?\n",
    "\n",
    "A6. For **Gender** I will use **Label Encoding** or **One-Hot Encoding**. Actually for the binary categories like Male/Female, Label Encoding is simple and effective. One-Hot Encoding can also be used but is less necessary.\n",
    "For **Education Level** I will prefer **Ordinal Encoding**. Since there is a natural order (High School < Bachelor's < Master's < PhD), Ordinal Encoding captures this hierarchy.\n",
    "For **Employment Status**: **One-Hot Encoding** will be suitable. With more than two categories and no inherent order, One-Hot Encoding is appropriate to avoid introducing a false ordinal relationship.\n",
    "\n",
    "### Q7. You are analyzing a dataset with two continuous variables, \"Temperature\" and \"Humidity\", and two categorical variables, \"Weather Condition\" (Sunny/Cloudy/Rainy) and \"Wind Direction\" (North/South/East/West). Calculate the covariance between each pair of variables and interpret the results.\n",
    "\n",
    "A7. To calculate the covariance between continuous variables:\n"
   ]
  },
  {
   "cell_type": "code",
   "execution_count": 2,
   "metadata": {},
   "outputs": [
    {
     "name": "stdout",
     "output_type": "stream",
     "text": [
      "-14.2\n",
      "[[ 0.3  -0.1  -0.2  -0.1   0.05  0.15 -0.1 ]\n",
      " [-0.1   0.2  -0.1   0.2  -0.1  -0.05 -0.05]\n",
      " [-0.2  -0.1   0.3  -0.1   0.05 -0.1   0.15]\n",
      " [-0.1   0.2  -0.1   0.2  -0.1  -0.05 -0.05]\n",
      " [ 0.05 -0.1   0.05 -0.1   0.3  -0.1  -0.1 ]\n",
      " [ 0.15 -0.05 -0.1  -0.05 -0.1   0.2  -0.05]\n",
      " [-0.1  -0.05  0.15 -0.05 -0.1  -0.05  0.2 ]]\n"
     ]
    }
   ],
   "source": [
    "from sklearn.preprocessing import OneHotEncoder\n",
    "import pandas as pd\n",
    "import numpy as np\n",
    "\n",
    "temperature = np.array([30, 32, 35, 28, 33])\n",
    "humidity = np.array([70, 65, 60, 75, 68])\n",
    "\n",
    "cov_temp_humidity = np.cov(temperature, humidity)[0, 1]\n",
    "print(cov_temp_humidity)\n",
    "data = pd.DataFrame({'Weather Condition': ['Sunny', 'Cloudy', 'Rainy', 'Sunny', 'Cloudy'],'Wind Direction': ['North', 'South', 'East', 'West', 'North']})\n",
    "\n",
    "encoder = OneHotEncoder(sparse_output=False)\n",
    "encoded_data = encoder.fit_transform(data)\n",
    "\n",
    "cov_matrix_cat = np.cov(encoded_data, rowvar=False)\n",
    "print(cov_matrix_cat)"
   ]
  },
  {
   "cell_type": "markdown",
   "metadata": {},
   "source": [
    "\n",
    "\n",
    "**Interpretation**: The covariance values indicate how the variables change together. Positive covariance means that as one variable increases, the other tends to increase, and vice versa for negative covariance."
   ]
  }
 ],
 "metadata": {
  "kernelspec": {
   "display_name": "Python 3",
   "language": "python",
   "name": "python3"
  },
  "language_info": {
   "codemirror_mode": {
    "name": "ipython",
    "version": 3
   },
   "file_extension": ".py",
   "mimetype": "text/x-python",
   "name": "python",
   "nbconvert_exporter": "python",
   "pygments_lexer": "ipython3",
   "version": "3.12.4"
  }
 },
 "nbformat": 4,
 "nbformat_minor": 2
}

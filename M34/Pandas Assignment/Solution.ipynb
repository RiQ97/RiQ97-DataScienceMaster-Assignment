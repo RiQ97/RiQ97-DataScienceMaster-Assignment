{
 "cells": [
  {
   "cell_type": "markdown",
   "metadata": {},
   "source": [
    "### Consider following code to answer further questions:"
   ]
  },
  {
   "cell_type": "code",
   "execution_count": 1,
   "metadata": {},
   "outputs": [],
   "source": [
    "import pandas as pd\n",
    "course_name = ['Data Science', 'Machine Learning', 'Big Data', 'Data Engineer']\n",
    "duration = [2,3,6,4]\n",
    "df = pd.DataFrame(data = {'course_name' : course_name, 'duration' : duration})"
   ]
  },
  {
   "cell_type": "markdown",
   "metadata": {},
   "source": [
    "\n",
    "### Q1. Write a code to print the data present in the second row of the dataframe, df."
   ]
  },
  {
   "cell_type": "code",
   "execution_count": 2,
   "metadata": {},
   "outputs": [
    {
     "name": "stdout",
     "output_type": "stream",
     "text": [
      "course_name    Machine Learning\n",
      "duration                      3\n",
      "Name: 1, dtype: object\n"
     ]
    }
   ],
   "source": [
    "#A1. \n",
    "print(df.iloc[1])"
   ]
  },
  {
   "cell_type": "markdown",
   "metadata": {},
   "source": [
    "### Q2. What is the difference between the functions loc and iloc in pandas.DataFrame?\n",
    "\n",
    "A2. We use `loc` to access rows and columns by labels or a boolean array.\n",
    "While `iloc` is used to access rows and columns by integer positions (indices).\n",
    "\n",
    "**Example:**\n",
    "\n"
   ]
  },
  {
   "cell_type": "code",
   "execution_count": 9,
   "metadata": {},
   "outputs": [
    {
     "name": "stdout",
     "output_type": "stream",
     "text": [
      "course_name    Machine Learning\n",
      "duration                      3\n",
      "Name: 1, dtype: object\n",
      "course_name    Machine Learning\n",
      "duration                      3\n",
      "Name: 1, dtype: object\n"
     ]
    }
   ],
   "source": [
    "# Accessing using loc (label-based)\n",
    "print(df.loc[1])\n",
    "\n",
    "# Accessing using iloc (integer position-based)\n",
    "print(df.iloc[1])"
   ]
  },
  {
   "cell_type": "markdown",
   "metadata": {},
   "source": [
    "\n",
    "\n",
    "### Q3. Reindex the given dataframe using a variable, reindex = [3, 0, 1, 2] and store it in the variable, new_df then find the output for both new_df.loc[2] and new_df.iloc[2].Did you observe any difference in both the outputs? If so then explain it.\n",
    "\n",
    "A3. In the below program `new_df.loc[2]` will access the row with the original index `2`, which has been moved to the new index position `3` due to reindexing.\n",
    "- `new_df.iloc[2]` will access the third row by position (after reindexing), which corresponds to the original index `1` (second element in the original dataframe).\n"
   ]
  },
  {
   "cell_type": "code",
   "execution_count": 4,
   "metadata": {},
   "outputs": [
    {
     "name": "stdout",
     "output_type": "stream",
     "text": [
      "course_name    Big Data\n",
      "duration              6\n",
      "Name: 2, dtype: object\n",
      "course_name    Machine Learning\n",
      "duration                      3\n",
      "Name: 1, dtype: object\n"
     ]
    }
   ],
   "source": [
    "import pandas as pd\n",
    "\n",
    "course_name = ['Data Science', 'Machine Learning', 'Big Data', 'Data Engineer']\n",
    "duration = [2, 3, 6, 4]\n",
    "df = pd.DataFrame(data={'course_name': course_name, 'duration': duration})\n",
    "\n",
    "# Reindex the dataframe\n",
    "reindex = [3, 0, 1, 2]\n",
    "new_df = df.reindex(reindex)\n",
    "\n",
    "# Outputs\n",
    "print(new_df.loc[2])\n",
    "print(new_df.iloc[2])"
   ]
  },
  {
   "cell_type": "markdown",
   "metadata": {},
   "source": [
    "### Consider the below code to answer further questions:"
   ]
  },
  {
   "cell_type": "code",
   "execution_count": 14,
   "metadata": {},
   "outputs": [],
   "source": [
    "import pandas as pd\n",
    "import numpy as np\n",
    "columns = ['column_1', 'column_2', 'column_3', 'column_4', 'column_5', 'column_6']\n",
    "indices = [1,2,3,4,5,6]\n",
    "#Creating a dataframe:\n",
    "df1 = pd.DataFrame(np.random.rand(6,6), columns = columns, index = indices)"
   ]
  },
  {
   "cell_type": "markdown",
   "metadata": {},
   "source": [
    "### Q4. Write a code to find the following statistical measurements for the above dataframe df1:\n"
   ]
  },
  {
   "cell_type": "code",
   "execution_count": 13,
   "metadata": {},
   "outputs": [
    {
     "name": "stdout",
     "output_type": "stream",
     "text": [
      "Mean of each column:\n",
      "column_1    0.610781\n",
      "column_2    0.295152\n",
      "column_3    0.302586\n",
      "column_4    0.479688\n",
      "column_5    0.616217\n",
      "column_6    0.588805\n",
      "dtype: float64\n",
      "\n",
      "Standard deviation of column_2:\n",
      "0.36166585452729705\n"
     ]
    }
   ],
   "source": [
    "#A4.\n",
    "import pandas as pd\n",
    "import numpy as np\n",
    "\n",
    "columns = ['column_1', 'column_2', 'column_3', 'column_4', 'column_5', 'column_6']\n",
    "indices = [1, 2, 3, 4, 5, 6]\n",
    "\n",
    "# Creating a dataframe\n",
    "df1 = pd.DataFrame(np.random.rand(6, 6), columns=columns, index=indices)\n",
    "\n",
    "# (i) Mean of each and every column present in the dataframe\n",
    "mean_columns = df1.mean()\n",
    "print(\"Mean of each column:\")\n",
    "print(mean_columns)\n",
    "\n",
    "# (ii) Standard deviation of column, 'column_2'\n",
    "std_column_2 = df1['column_2'].std()\n",
    "print(\"\\nStandard deviation of column_2:\")\n",
    "print(std_column_2)"
   ]
  },
  {
   "cell_type": "markdown",
   "metadata": {},
   "source": [
    "### Q5. Replace the data present in the second row of column, 'column_2' by a string variable then find the mean of column, 'column_2'. If you are getting errors in executing it then explain why.\n",
    "\n"
   ]
  },
  {
   "cell_type": "code",
   "execution_count": 15,
   "metadata": {},
   "outputs": [
    {
     "name": "stdout",
     "output_type": "stream",
     "text": [
      "\n",
      "Error encountered:\n",
      "unsupported operand type(s) for +: 'float' and 'str'\n"
     ]
    },
    {
     "name": "stderr",
     "output_type": "stream",
     "text": [
      "C:\\Users\\RiQ\\AppData\\Local\\Temp\\ipykernel_2420\\2773735230.py:3: FutureWarning: Setting an item of incompatible dtype is deprecated and will raise an error in a future version of pandas. Value 'string_value' has dtype incompatible with float64, please explicitly cast to a compatible dtype first.\n",
      "  df1.loc[2, 'column_2'] = 'string_value'\n"
     ]
    }
   ],
   "source": [
    "#A5.\n",
    "\n",
    "df1.loc[2, 'column_2'] = 'string_value'\n",
    "\n",
    "# Attempt to find the mean of column, 'column_2'\n",
    "try:\n",
    "    mean_column_2 = df1['column_2'].mean()\n",
    "    print(\"\\nMean of column_2 after replacement:\")\n",
    "    print(mean_column_2)\n",
    "except Exception as e:\n",
    "    print(\"\\nError encountered:\")\n",
    "    print(e)"
   ]
  },
  {
   "cell_type": "markdown",
   "metadata": {},
   "source": [
    "This error happens because replacing a numeric value in a column with a string, it changes the dtype of the entire column. Once the column type becomes string, any numerical operations will result in an error.\n",
    "\n",
    "### Q6. What do you understand about the window function in pandas and list the types of window functions?\n",
    "\n",
    "A6. Window functions are used to perform some calculation across a set of rows that are related to the current row. These functions are often used in time-series data analysis. They can be used to calculate rolling statistics, like moving averages or sums, over a specified window of observations.\n",
    "\n",
    "1. **Rolling Window Functions:** \n",
    "   - Used for calculating statistics over a sliding window of fixed size.\n",
    "   - Example: `rolling().mean()`, `rolling().sum()`\n",
    "   \n",
    "2. **Expanding Window Functions:**\n",
    "   - Used for calculating statistics over an expanding window, which includes all previous observations up to the current one.\n",
    "   - Example: `expanding().mean()`, `expanding().sum()`\n",
    "   \n",
    "3. **EWM (Exponentially Weighted Windows):**\n",
    "   - Used for calculating exponentially weighted moving averages.\n",
    "   - Example: `ewm().mean()`, `ewm().std()`\n",
    "\n",
    "### Q7. Write a code to print only the current month and year at the time of answering this question.\n"
   ]
  },
  {
   "cell_type": "code",
   "execution_count": 16,
   "metadata": {},
   "outputs": [
    {
     "name": "stdout",
     "output_type": "stream",
     "text": [
      "2024-08\n"
     ]
    }
   ],
   "source": [
    "#A7.\n",
    "import pandas as pd\n",
    "\n",
    "current_date = pd.Timestamp.now()\n",
    "current_month_year = current_date.strftime('%Y-%m')\n",
    "print(current_month_year)"
   ]
  },
  {
   "cell_type": "markdown",
   "metadata": {},
   "source": [
    "\n",
    "### Q8. Write a Python program that takes in two dates as input (in the format YYYY-MM-DD) and calculates the difference between them in days, hours, and minutes using Pandas time delta. The program should prompt the user to enter the dates and display the result."
   ]
  },
  {
   "cell_type": "code",
   "execution_count": 17,
   "metadata": {},
   "outputs": [
    {
     "name": "stdout",
     "output_type": "stream",
     "text": [
      "Difference: 278 days, 0 hours, and 0 minutes\n"
     ]
    }
   ],
   "source": [
    "\n",
    "#A8. \n",
    "import pandas as pd\n",
    "\n",
    "def calculate_date_difference(date1, date2):\n",
    "    # Convert input dates to pandas Timestamps\n",
    "    date1 = pd.Timestamp(date1)\n",
    "    date2 = pd.Timestamp(date2)\n",
    "    \n",
    "    # Calculate the difference\n",
    "    delta = date2 - date1\n",
    "    \n",
    "    # Extract days, hours, and minutes from the time delta\n",
    "    days = delta.days\n",
    "    seconds = delta.seconds\n",
    "    hours = seconds // 3600\n",
    "    minutes = (seconds % 3600) // 60\n",
    "    \n",
    "    return days, hours, minutes\n",
    "\n",
    "# Input dates from the user\n",
    "date1_input = input(\"Enter the first date (YYYY-MM-DD): \")\n",
    "date2_input = input(\"Enter the second date (YYYY-MM-DD): \")\n",
    "\n",
    "# Calculate the difference\n",
    "days, hours, minutes = calculate_date_difference(date1_input, date2_input)\n",
    "\n",
    "# Display the result\n",
    "print(f\"Difference: {days} days, {hours} hours, and {minutes} minutes\")"
   ]
  },
  {
   "cell_type": "markdown",
   "metadata": {},
   "source": [
    "### Q9. Write a Python program that reads a CSV file containing categorical data and converts a specified column to a categorical data type. The program should prompt the user to enter the file path, column name, and category order, and then display the sorted data.\n"
   ]
  },
  {
   "cell_type": "code",
   "execution_count": null,
   "metadata": {},
   "outputs": [],
   "source": [
    "\n",
    "#A9.\n",
    "import pandas as pd\n",
    "\n",
    "def convert_to_categorical(file_path, column_name, category_order):\n",
    "    # Read the CSV file into a DataFrame\n",
    "    df = pd.read_csv(file_path)\n",
    "    \n",
    "    # Convert the specified column to categorical with the given order\n",
    "    df[column_name] = pd.Categorical(df[column_name], categories=category_order, ordered=True)\n",
    "    \n",
    "    # Sort the DataFrame based on the categorical column\n",
    "    sorted_df = df.sort_values(by=column_name)\n",
    "    \n",
    "    return sorted_df\n",
    "\n",
    "# Prompt the user for inputs\n",
    "file_path = input(\"Enter the file path of the CSV file: \")\n",
    "column_name = input(\"Enter the column name to convert to categorical: \")\n",
    "category_order = input(\"Enter the category order (comma-separated): \").split(',')\n",
    "\n",
    "# Convert and display the sorted data\n",
    "sorted_data = convert_to_categorical(file_path, column_name, category_order)\n",
    "print(sorted_data)"
   ]
  },
  {
   "cell_type": "markdown",
   "metadata": {},
   "source": [
    "\n",
    "### Q10. Write a Python program that reads a CSV file containing sales data for different products and visualizes the data using a stacked bar chart to show the sales of each product category over time. The program should prompt the user to enter the file path and display the chart.\n"
   ]
  },
  {
   "cell_type": "code",
   "execution_count": null,
   "metadata": {},
   "outputs": [],
   "source": [
    "\n",
    "#A10.\n",
    "import pandas as pd\n",
    "import matplotlib.pyplot as plt\n",
    "\n",
    "def plot_stacked_bar_chart(file_path):\n",
    "    # Read the CSV file into a DataFrame\n",
    "    df = pd.read_csv(file_path)\n",
    "    \n",
    "    # Assuming the DataFrame has columns: 'Date', 'Product', 'Sales'\n",
    "    df_pivot = df.pivot_table(index='Date', columns='Product', values='Sales', aggfunc='sum', fill_value=0)\n",
    "    \n",
    "    # Plot the stacked bar chart\n",
    "    df_pivot.plot(kind='bar', stacked=True)\n",
    "    \n",
    "    plt.title('Sales by Product Category Over Time')\n",
    "    plt.xlabel('Date')\n",
    "    plt.ylabel('Sales')\n",
    "    plt.legend(title='Product')\n",
    "    plt.xticks(rotation=45)\n",
    "    plt.tight_layout()\n",
    "    \n",
    "    plt.show()\n",
    "\n",
    "# Prompt the user for the file path\n",
    "file_path = input(\"Enter the file path of the CSV file: \")\n",
    "\n",
    "# Plot the chart\n",
    "plot_stacked_bar_chart(file_path)"
   ]
  },
  {
   "cell_type": "markdown",
   "metadata": {},
   "source": [
    "\n",
    "### Q11. You are given a CSV file containing student data that includes the student ID and their test score. Write a Python program that reads the CSV file, calculates the mean, median, and mode of the test scores, and displays the results in a table.\n",
    "\n"
   ]
  },
  {
   "cell_type": "code",
   "execution_count": null,
   "metadata": {},
   "outputs": [],
   "source": [
    "#A11.\n",
    "import pandas as pd\n",
    "from scipy import stats\n",
    "\n",
    "def calculate_statistics(file_path):\n",
    "    # Read the CSV file into a DataFrame\n",
    "    df = pd.read_csv(file_path)\n",
    "    \n",
    "    # Calculate mean, median, and mode of the 'Test Score' column\n",
    "    mean = df['Test Score'].mean()\n",
    "    median = df['Test Score'].median()\n",
    "    mode = df['Test Score'].mode().tolist()\n",
    "    \n",
    "    # Display the results in a table\n",
    "    result_df = pd.DataFrame({\n",
    "        'Statistic': ['Mean', 'Median', 'Mode'],\n",
    "        'Value': [mean, median, ', '.join(map(str, mode))]\n",
    "    })\n",
    "    \n",
    "    print(result_df)\n",
    "\n",
    "# Prompt the user for the file path\n",
    "file_path = input(\"Enter the file path of the CSV file containing the student data: \")\n",
    "\n",
    "# Calculate and display statistics\n",
    "calculate_statistics(file_path)"
   ]
  }
 ],
 "metadata": {
  "kernelspec": {
   "display_name": "Python 3",
   "language": "python",
   "name": "python3"
  },
  "language_info": {
   "codemirror_mode": {
    "name": "ipython",
    "version": 3
   },
   "file_extension": ".py",
   "mimetype": "text/x-python",
   "name": "python",
   "nbconvert_exporter": "python",
   "pygments_lexer": "ipython3",
   "version": "3.12.4"
  }
 },
 "nbformat": 4,
 "nbformat_minor": 2
}

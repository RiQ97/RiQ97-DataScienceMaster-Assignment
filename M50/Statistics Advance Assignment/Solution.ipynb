{
 "cells": [
  {
   "cell_type": "markdown",
   "metadata": {},
   "source": [
    "### Q1. Write a Python function that takes in two arrays of data and calculates the F-value for a variance ratio test. The function should return the F-value and the corresponding p-value for the test.\n"
   ]
  },
  {
   "cell_type": "code",
   "execution_count": 2,
   "metadata": {},
   "outputs": [
    {
     "name": "stdout",
     "output_type": "stream",
     "text": [
      "F-value: 2.4246935535186473, p-value: 0.0023962357841882387\n"
     ]
    }
   ],
   "source": [
    "#A1.\n",
    "import numpy as np\n",
    "from scipy.stats import f\n",
    "\n",
    "def f_test(arr1, arr2):\n",
    "    var1 = np.var(arr1, ddof=1)\n",
    "    var2 = np.var(arr2, ddof=1)\n",
    "    f_value = var1 / var2 if var1 > var2 else var2 / var1\n",
    "    dfn = len(arr1) - 1\n",
    "    dfd = len(arr2) - 1\n",
    "    p_value = 2 * (1 - f.cdf(f_value, dfn, dfd))\n",
    "    return f_value, p_value\n",
    "\n",
    "# Example usage:\n",
    "arr1 = np.random.normal(0, 1, 50)\n",
    "arr2 = np.random.normal(0, 1.5, 50)\n",
    "f_value, p_value = f_test(arr1, arr2)\n",
    "print(f\"F-value: {f_value}, p-value: {p_value}\")"
   ]
  },
  {
   "cell_type": "markdown",
   "metadata": {},
   "source": [
    "### Q2. Given a significance level of 0.05 and the degrees of freedom for the numerator and denominator of an F-distribution, write a Python function that returns the critical F-value for a two-tailed test.\n"
   ]
  },
  {
   "cell_type": "code",
   "execution_count": 10,
   "metadata": {},
   "outputs": [
    {
     "name": "stdout",
     "output_type": "stream",
     "text": [
      "Critical F-value: 4.236085668188633\n"
     ]
    }
   ],
   "source": [
    "#A2.\n",
    "from scipy.stats import f\n",
    "\n",
    "def critical_f_value(alpha, dfn, dfd):\n",
    "    critical_value = f.ppf(1 - alpha / 2, dfn, dfd)\n",
    "    return critical_value\n",
    "\n",
    "# Example usage:\n",
    "alpha = 0.05\n",
    "dfn = 5\n",
    "dfd = 10\n",
    "critical_value = critical_f_value(alpha, dfn, dfd)\n",
    "print(f\"Critical F-value: {critical_value}\")"
   ]
  },
  {
   "cell_type": "markdown",
   "metadata": {},
   "source": [
    "### Q3. Write a Python program that generates random samples from two normal distributions with known variances and uses an F-test to determine if the variances are equal.\n"
   ]
  },
  {
   "cell_type": "code",
   "execution_count": 9,
   "metadata": {},
   "outputs": [
    {
     "name": "stdout",
     "output_type": "stream",
     "text": [
      "F-value: 3.1973863246062044, Degrees of Freedom: (11, 11), p-value: 0.06634747324015722\n"
     ]
    }
   ],
   "source": [
    "#A3.\n",
    "import numpy as np\n",
    "from scipy.stats import f\n",
    "\n",
    "def generate_samples(mean1, var1, mean2, var2, size):\n",
    "    sample1 = np.random.normal(mean1, np.sqrt(var1), size)\n",
    "    sample2 = np.random.normal(mean2, np.sqrt(var2), size)\n",
    "    return sample1, sample2\n",
    "\n",
    "def f_test(sample1, sample2):\n",
    "    var1 = np.var(sample1, ddof=1)\n",
    "    var2 = np.var(sample2, ddof=1)\n",
    "    f_value = var1 / var2 if var1 > var2 else var2 / var1\n",
    "    dfn = len(sample1) - 1\n",
    "    dfd = len(sample2) - 1\n",
    "    p_value = 2 * (1 - f.cdf(f_value, dfn, dfd))\n",
    "    return f_value, dfn, dfd, p_value\n",
    "\n",
    "# Example usage:\n",
    "sample1, sample2 = generate_samples(0, 10, 0, 15, 12)\n",
    "f_value, dfn, dfd, p_value = f_test(sample1, sample2)\n",
    "print(f\"F-value: {f_value}, Degrees of Freedom: ({dfn}, {dfd}), p-value: {p_value}\")"
   ]
  },
  {
   "cell_type": "markdown",
   "metadata": {},
   "source": [
    "### Q4. The variances of two populations are known to be 10 and 15. A sample of 12 observations is taken from each population. Conduct an F-test at the 5% significance level to determine if the variances are significantly different.\n"
   ]
  },
  {
   "cell_type": "code",
   "execution_count": 8,
   "metadata": {},
   "outputs": [
    {
     "name": "stdout",
     "output_type": "stream",
     "text": [
      "F-value: 1.5, Degrees of Freedom: (11, 11), p-value: 0.5123897987357999\n"
     ]
    }
   ],
   "source": [
    "#A4.\n",
    "def f_test_known_variances(var1, var2, n1, n2):\n",
    "    f_value = var1 / var2 if var1 > var2 else var2 / var1\n",
    "    dfn = n1 - 1\n",
    "    dfd = n2 - 1\n",
    "    p_value = 2 * (1 - f.cdf(f_value, dfn, dfd))\n",
    "    return f_value, dfn, dfd, p_value\n",
    "\n",
    "# Example usage:\n",
    "var1 = 10\n",
    "var2 = 15\n",
    "n1 = 12\n",
    "n2 = 12\n",
    "f_value, dfn, dfd, p_value = f_test_known_variances(var1, var2, n1, n2)\n",
    "print(f\"F-value: {f_value}, Degrees of Freedom: ({dfn}, {dfd}), p-value: {p_value}\")"
   ]
  },
  {
   "cell_type": "markdown",
   "metadata": {},
   "source": [
    "### Q5. A manufacturer claims that the variance of the diameter of a certain product is 0.005. A sample of 25 products is taken, and the sample variance is found to be 0.006. Conduct an F-test at the 1% significance level to determine if the claim is justified.\n"
   ]
  },
  {
   "cell_type": "code",
   "execution_count": 7,
   "metadata": {},
   "outputs": [
    {
     "name": "stdout",
     "output_type": "stream",
     "text": [
      "F-value: 1.2, Degrees of Freedom: 24, p-value: 1.0\n"
     ]
    }
   ],
   "source": [
    "#A5.\n",
    "def f_test_single_variance(sample_var, claimed_var, n):\n",
    "    f_value = sample_var / claimed_var\n",
    "    dfn = n - 1\n",
    "    p_value = 1 - f.cdf(f_value, dfn, np.inf)\n",
    "    return f_value, dfn, p_value\n",
    "\n",
    "sample_var = 0.006\n",
    "claimed_var = 0.005\n",
    "n = 25\n",
    "f_value, dfn, p_value = f_test_single_variance(sample_var, claimed_var, n)\n",
    "print(f\"F-value: {f_value}, Degrees of Freedom: {dfn}, p-value: {p_value}\")"
   ]
  },
  {
   "cell_type": "markdown",
   "metadata": {},
   "source": [
    "### Q6. Write a Python function that takes in the degrees of freedom for the numerator and denominator of an F-distribution and calculates the mean and variance of the distribution.\n",
    "\n"
   ]
  },
  {
   "cell_type": "code",
   "execution_count": 6,
   "metadata": {},
   "outputs": [
    {
     "name": "stdout",
     "output_type": "stream",
     "text": [
      "Mean: 1.25, Variance: 1.3541666666666667\n"
     ]
    }
   ],
   "source": [
    "#A6.\n",
    "def f_distribution_mean_variance(dfn, dfd):\n",
    "    if dfd > 2:\n",
    "        mean = dfd / (dfd - 2)\n",
    "    else:\n",
    "        mean = np.nan\n",
    "    \n",
    "    if dfd > 4:\n",
    "        variance = 2 * (dfd ** 2) * (dfn + dfd - 2) / (dfn * (dfd - 2) ** 2 * (dfd - 4))\n",
    "    else:\n",
    "        variance = np.nan\n",
    "    \n",
    "    return mean, variance\n",
    "\n",
    "# Example usage:\n",
    "dfn = 5\n",
    "dfd = 10\n",
    "mean, variance = f_distribution_mean_variance(dfn, dfd)\n",
    "print(f\"Mean: {mean}, Variance: {variance}\")"
   ]
  },
  {
   "cell_type": "markdown",
   "metadata": {},
   "source": [
    "### Q7. A random sample of 10 measurements is taken from a normal population with unknown variance. The sample variance is found to be 25. Another random sample of 15 measurements is taken from another normal population with unknown variance, and the sample variance is found to be 20. Conduct an F-test at the 10% significance level to determine if the variances are significantly different.\n"
   ]
  },
  {
   "cell_type": "code",
   "execution_count": 5,
   "metadata": {},
   "outputs": [
    {
     "name": "stdout",
     "output_type": "stream",
     "text": [
      "F-value: 1.25, Degrees of Freedom: (9, 14), p-value: 0.6832194382585952\n"
     ]
    }
   ],
   "source": [
    "#A7.\n",
    "def f_test_samples(sample_var1, n1, sample_var2, n2, alpha=0.10):\n",
    "    f_value = sample_var1 / sample_var2 if sample_var1 > sample_var2 else sample_var2 / sample_var1\n",
    "    dfn = n1 - 1\n",
    "    dfd = n2 - 1\n",
    "    p_value = 2 * (1 - f.cdf(f_value, dfn, dfd))\n",
    "    return f_value, dfn, dfd, p_value\n",
    "\n",
    "# Example usage:\n",
    "sample_var1 = 25\n",
    "n1 = 10\n",
    "sample_var2 = 20\n",
    "n2 = 15\n",
    "f_value, dfn, dfd, p_value = f_test_samples(sample_var1, n1, sample_var2, n2)\n",
    "print(f\"F-value: {f_value}, Degrees of Freedom: ({dfn}, {dfd}), p-value: {p_value}\")"
   ]
  },
  {
   "cell_type": "markdown",
   "metadata": {},
   "source": [
    "\n",
    "### Q8. The following data represent the waiting times in minutes at two different restaurants on a Saturday night: Restaurant A: 24, 25, 28, 23, 22, 20, 27; Restaurant B: 31, 33, 35, 30, 32, 36. Conduct an F-test at the 5% significance level to determine if the variances are significantly different.\n",
    "\n"
   ]
  },
  {
   "cell_type": "code",
   "execution_count": 4,
   "metadata": {},
   "outputs": [
    {
     "name": "stdout",
     "output_type": "stream",
     "text": [
      "F-value: 1.4551907719609583, p-value: 0.6974815747937484\n"
     ]
    }
   ],
   "source": [
    "restaurant_a = [24, 25, 28, 23, 22, 20, 27]\n",
    "restaurant_b = [31, 33, 35, 30, 32, 36]\n",
    "\n",
    "f_value, p_value = f_test(restaurant_a, restaurant_b)\n",
    "print(f\"F-value: {f_value}, p-value: {p_value}\")"
   ]
  },
  {
   "cell_type": "markdown",
   "metadata": {},
   "source": [
    "### Q9. The following data represent the test scores of two groups of students: Group A: 80, 85, 90, 92, 87, 83; Group B: 75, 78, 82, 79, 81, 84. Conduct an F-test at the 1% significance level to determine if the variances are significantly different.\n",
    "\n"
   ]
  },
  {
   "cell_type": "code",
   "execution_count": 3,
   "metadata": {},
   "outputs": [
    {
     "name": "stdout",
     "output_type": "stream",
     "text": [
      "F-value: 1.9442622950819677, p-value: 0.4831043549070688\n"
     ]
    }
   ],
   "source": [
    "#A9.\n",
    "group_a = [80, 85, 90, 92, 87, 83]\n",
    "group_b = [75, 78, 82, 79, 81, 84]\n",
    "\n",
    "f_value, p_value = f_test(group_a, group_b)\n",
    "print(f\"F-value: {f_value}, p-value: {p_value}\")"
   ]
  }
 ],
 "metadata": {
  "kernelspec": {
   "display_name": "Python 3",
   "language": "python",
   "name": "python3"
  },
  "language_info": {
   "codemirror_mode": {
    "name": "ipython",
    "version": 3
   },
   "file_extension": ".py",
   "mimetype": "text/x-python",
   "name": "python",
   "nbconvert_exporter": "python",
   "pygments_lexer": "ipython3",
   "version": "3.12.4"
  }
 },
 "nbformat": 4,
 "nbformat_minor": 2
}

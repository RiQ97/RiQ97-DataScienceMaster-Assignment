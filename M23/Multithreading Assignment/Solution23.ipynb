{
 "cells": [
  {
   "cell_type": "markdown",
   "metadata": {},
   "source": [
    "Q1. What is multithreading in Python? Why is it used? Name the module used to handle threads in Python.\n",
    "\n",
    "A1. Multithreading in Python is the process of running multiple threads simultaneously within a single process. Each thread runs independently but shares the same memory space.\n",
    "\n",
    "Purpose of Multithreading:\n",
    "\n",
    "1. To improve the overall efficiency of a program by utilizing CPU cores more effectively.\n",
    "2. To perform multiple tasks at the same time, particularly useful for I/O-bound tasks (such as reading/writing files, network operations).\n",
    "3. To improve responsiveness in GUI applications by performing time-consuming tasks in the background.\n",
    "\n",
    "Module used to handle threads: threading"
   ]
  },
  {
   "cell_type": "markdown",
   "metadata": {},
   "source": [
    "Q2. Why is the threading module used? Write the use of the following functions.\n",
    "1. active_count()\n",
    "2. current_thread()\n",
    "3. enumerate()\n",
    "\n",
    "A2. The threading module is used to create and manage threads in Python, allowing for concurrent execution of code. It provides a higher-level interface for working with threads compared to the lower-level thread module.\n",
    "\n",
    "1. active_count(): Returns the number of Thread objects currently alive.\n",
    "2. current_thread(): Returns the current Thread object corresponding to the caller's thread of control.\n",
    "3. enumerate(): Returns a list of all Thread objects currently alive."
   ]
  },
  {
   "cell_type": "code",
   "execution_count": 5,
   "metadata": {},
   "outputs": [
    {
     "name": "stdout",
     "output_type": "stream",
     "text": [
      "6\n",
      "<_MainThread(MainThread, started 12840)>\n",
      "[<_MainThread(MainThread, started 12840)>, <Thread(IOPub, started daemon 10308)>, <Heartbeat(Heartbeat, started daemon 13452)>, <ControlThread(Control, started daemon 3896)>, <HistorySavingThread(IPythonHistorySavingThread, started 8008)>, <ParentPollerWindows(Thread-3, started daemon 1240)>]\n"
     ]
    }
   ],
   "source": [
    "import threading\n",
    "print(threading.active_count())\n",
    "print(threading.current_thread())\n",
    "print(threading.enumerate())"
   ]
  },
  {
   "cell_type": "markdown",
   "metadata": {},
   "source": [
    "Q3. Explain the following functions.\n",
    "1. run()\n",
    "2. start()\n",
    "3. join()\n",
    "4. is_alive()\n",
    "\n",
    "A3. \n",
    "1. run(): Defines the activity a thread performs when started. This method can be overridden in a subclass.\n",
    "2. start(): Starts the thread's activity. It must be called after creating the thread.\n",
    "3. join(): Waits for the thread to finish its execution.\n",
    "4. is_alive(): Returns whether the thread is alive."
   ]
  },
  {
   "cell_type": "code",
   "execution_count": 19,
   "metadata": {},
   "outputs": [
    {
     "name": "stdout",
     "output_type": "stream",
     "text": [
      "Thread is running\n",
      "hi, I am running for 3 sec!\n",
      "True\n",
      "\n",
      "False\n"
     ]
    }
   ],
   "source": [
    "import threading,time\n",
    "\n",
    "class MyThread(threading.Thread):\n",
    "    def run(self):\n",
    "        print(\"Thread is running\")\n",
    "        time.sleep(3)\n",
    "\n",
    "\n",
    "t = MyThread()\n",
    "t.start()\n",
    "print('\\nhi, I am running for 3 sec!')\n",
    "print(t.is_alive())\n",
    "t.join()\n",
    "print(t.is_alive())"
   ]
  },
  {
   "cell_type": "markdown",
   "metadata": {},
   "source": [
    "Q4. Write a Python program to create two threads. Thread one must print the list of squares and thread two must print the list of cubes."
   ]
  },
  {
   "cell_type": "code",
   "execution_count": 20,
   "metadata": {},
   "outputs": [
    {
     "name": "stdout",
     "output_type": "stream",
     "text": [
      "Square of 1: 1\n",
      "Square of 2: 4\n",
      "Square of 3: 9\n",
      "Square of 4: 16\n",
      "Square of 5: 25\n",
      "Cube of 1: 1\n",
      "Cube of 2: 8\n",
      "Cube of 3: 27\n",
      "Cube of 4: 64\n",
      "Cube of 5: 125\n",
      "Both threads finished execution\n"
     ]
    }
   ],
   "source": [
    "#A4.\n",
    "import threading\n",
    "\n",
    "def print_squares():\n",
    "    for i in range(1, 6):\n",
    "        print(f'Square of {i}: {i*i}')\n",
    "\n",
    "def print_cubes():\n",
    "    for i in range(1, 6):\n",
    "        print(f'Cube of {i}: {i*i*i}')\n",
    "\n",
    "thread1 = threading.Thread(target=print_squares)\n",
    "thread2 = threading.Thread(target=print_cubes)\n",
    "\n",
    "thread1.start()\n",
    "thread2.start()\n",
    "\n",
    "thread1.join()\n",
    "thread2.join()\n",
    "\n",
    "print(\"Both threads finished execution\")"
   ]
  },
  {
   "cell_type": "markdown",
   "metadata": {},
   "source": [
    "Q5. State advantages and disadvantages of multithreading.\n",
    "\n",
    "A5. Advantages:\n",
    "\n",
    "Improved performance for I/O-bound and high-latency tasks.\n",
    "Better resource utilization.\n",
    "Simplified program structure for tasks that can be performed concurrently.\n",
    "Responsiveness in GUI applications.\n",
    "\n",
    "\n",
    "Disadvantages:\n",
    "\n",
    "Complex debugging and testing due to concurrent execution.\n",
    "Potential for race conditions and deadlocks.\n",
    "Limited by the Global Interpreter Lock (GIL) in CPython, reducing the performance benefits for CPU-bound tasks."
   ]
  },
  {
   "cell_type": "markdown",
   "metadata": {},
   "source": [
    "\n",
    "Q6. Explain deadlocks and race conditions.\n",
    "\n",
    "\n",
    "A6. Deadlocks, Occur when two or more threads are blocked forever, each waiting on the other to release a resource. For example, Thread A holds Resource 1 and waits for Resource 2, while Thread B holds Resource 2 and waits for Resource 1.\n",
    "\n",
    "Race Conditions: Occur when the outcome of a program depends on the timing of threads' execution, leading to unpredictable results. This usually happens when multiple threads access and modify shared data concurrently without proper synchronization."
   ]
  },
  {
   "cell_type": "code",
   "execution_count": 21,
   "metadata": {},
   "outputs": [
    {
     "name": "stdout",
     "output_type": "stream",
     "text": [
      "Thread 1 acquired both locks\n",
      "Thread 2 acquired both locks\n"
     ]
    }
   ],
   "source": [
    "#Example of Deadlock:\n",
    "\n",
    "import threading\n",
    "\n",
    "lock1 = threading.Lock()\n",
    "lock2 = threading.Lock()\n",
    "\n",
    "def thread1():\n",
    "    with lock1:\n",
    "        with lock2:\n",
    "            print(\"Thread 1 acquired both locks\")\n",
    "\n",
    "def thread2():\n",
    "    with lock2:\n",
    "        with lock1:\n",
    "            print(\"Thread 2 acquired both locks\")\n",
    "\n",
    "t1 = threading.Thread(target=thread1)\n",
    "t2 = threading.Thread(target=thread2)\n",
    "\n",
    "t1.start()\n",
    "t2.start()\n",
    "\n",
    "t1.join()\n",
    "t2.join()"
   ]
  },
  {
   "cell_type": "code",
   "execution_count": 29,
   "metadata": {},
   "outputs": [
    {
     "name": "stdout",
     "output_type": "stream",
     "text": [
      "Final counter value: 1000000\n"
     ]
    }
   ],
   "source": [
    "#Example of Race Condition:\n",
    "\n",
    "import threading\n",
    "\n",
    "counter = 0\n",
    "lock = threading.Lock()\n",
    "\n",
    "def increment():\n",
    "    global counter\n",
    "    for _ in range(100000):\n",
    "        counter += 1\n",
    "\n",
    "threads = []\n",
    "for _ in range(10):\n",
    "    t = threading.Thread(target=increment)\n",
    "    threads.append(t)\n",
    "    t.start()\n",
    "\n",
    "for t in threads:\n",
    "    t.join()\n",
    "\n",
    "print(f'Final counter value: {counter}') "
   ]
  }
 ],
 "metadata": {
  "kernelspec": {
   "display_name": "Python 3",
   "language": "python",
   "name": "python3"
  },
  "language_info": {
   "codemirror_mode": {
    "name": "ipython",
    "version": 3
   },
   "file_extension": ".py",
   "mimetype": "text/x-python",
   "name": "python",
   "nbconvert_exporter": "python",
   "pygments_lexer": "ipython3",
   "version": "3.12.4"
  }
 },
 "nbformat": 4,
 "nbformat_minor": 2
}

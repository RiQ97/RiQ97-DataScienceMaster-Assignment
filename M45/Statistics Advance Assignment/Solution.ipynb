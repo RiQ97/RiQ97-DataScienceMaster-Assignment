{
 "cells": [
  {
   "cell_type": "markdown",
   "metadata": {},
   "source": [
    "### Q1: What are the Probability Mass Function (PMF) and Probability Density Function (PDF)? Explain with an example.\n",
    "\n",
    "A1. Probability Mass Function (PMF) is used for discrete random variables and gives the probability of each possible outcome.\n",
    "- **Example**: For a fair six-sided die, the PMF would assign a probability of \\( \\frac{1}{6} \\) to each of the outcomes (1, 2, 3, 4, 5, 6). If \\( X \\) is the outcome of rolling the die, then \\( P(X=3) = \\frac{1}{6} \\).\n",
    "\n",
    "**Probability Density Function (PDF)** is used for continuous random variables and describes the likelihood of the variable falling within a specific range of values. The area under the PDF curve over an interval gives the probability of the variable falling within that interval.\n",
    "- **Example**: For a normal distribution with mean 0 and standard deviation 1 (standard normal distribution), the PDF describes the likelihood of observing a value within a range around the mean. For instance, the probability of observing a value between -1 and 1 can be calculated by integrating the PDF over that range.\n",
    "\n",
    "### Q2: What is Cumulative Density Function (CDF)? Explain with an example. Why CDF is used?\n",
    "\n",
    "A2. **Cumulative Density Function (CDF)** gives the probability that a random variable takes a value less than or equal to a specific value. It accumulates the probability from the left up to the specified value.\n",
    "- **Example**: For a normal distribution with mean 0 and standard deviation 1, the CDF at \\( x = 1 \\) gives the probability that a value drawn from this distribution is less than or equal to 1. Mathematically, it is \\( F(x) = P(X \\leq x) \\).\n",
    "\n",
    "CDF provides a complete description of the distribution of a random variable. It is used to determine the probability of the variable falling within a specific range and is essential for calculating probabilities in both discrete and continuous distributions.\n",
    "\n",
    "### Q3: What are some examples of situations where the normal distribution might be used as a model? Explain how the parameters of the normal distribution relate to the shape of the distribution.\n",
    "\n",
    "A3. Some common examples of Normal Distribution\n",
    "1. **Height of People**: Heights of people in a population often follow a normal distribution. \n",
    "2. **Test Scores**: Scores on standardized tests tend to be normally distributed if the test is well-designed.\n",
    "3. **Measurement Errors**: Errors in measurements due to random factors often follow a normal distribution.\n",
    "\n",
    "The parameters of the normal distribution\n",
    "- **Mean (μ)**: Determines the center of the distribution. A higher mean shifts the distribution to the right.\n",
    "- **Standard Deviation (σ)**: Determines the spread of the distribution. A larger standard deviation results in a wider and flatter curve, while a smaller standard deviation results in a steeper and narrower curve.\n",
    "\n",
    "### Q4: Explain the importance of Normal Distribution. Give a few real-life examples of Normal Distribution.\n",
    "\n",
    "A4. Importance of Normal Distribution-\n",
    "- It is fundamental in statistics and probability theory.\n",
    "- Many statistical tests and models assume normality due to the Central Limit Theorem.\n",
    "- It describes a wide range of natural phenomena and measurement errors.\n",
    "\n",
    "Real-Life Examples-\n",
    "1. **IQ Scores**: IQ scores are often normally distributed around an average score with a fixed standard deviation.\n",
    "2. **Stock Returns**: Daily returns of stocks often approximate a normal distribution.\n",
    "3. **Heights and Weights**: Heights and weights of adults in a given population typically follow a normal distribution.\n",
    "\n",
    "### Q5: What is Bernoulli Distribution? Give an Example. What is the difference between Bernoulli Distribution and Binomial Distribution?\n",
    "\n",
    "A5. **Bernoulli Distribution** is a discrete probability distribution for a random variable which has exactly two possible outcomes: success (1) and failure (0). It is used to model a single trial of a binary experiment.\n",
    "- **Example**: Flipping a fair coin can be modeled by a Bernoulli distribution where getting heads (success) has a probability \\( p = 0.5 \\) and tails (failure) has a probability \\( 1 - p = 0.5 \\).\n",
    "\n",
    "Bernoulli Distribution is different from Binomial Distribution, as **Bernoulli Distribution** models a single binary trial.\n",
    "While **Binomial Distribution** models the number of successes in a fixed number of independent Bernoulli trials (experiments).\n",
    "\n",
    "### Q6: Consider a dataset with a mean of 50 and a standard deviation of 10. If we assume that the dataset is normally distributed, what is the probability that a randomly selected observation will be greater than 60? Use the appropriate formula and show your calculations.\n",
    "\n",
    "A6.\n",
    "1. Convert the value to a z-score:\n",
    "   \\[\n",
    "   z = \\frac{X - \\mu}{\\sigma}\n",
    "   \\]\n",
    "   where \\( X = 60 \\), \\( \\mu = 50 \\), and \\( \\sigma = 10 \\):\n",
    "   \\[\n",
    "   z = \\frac{60 - 50}{10} = 1\n",
    "   \\]\n",
    "\n",
    "2. Find the probability corresponding to the z-score using the standard normal distribution table or a Python function:\n",
    "   \\[\n",
    "   P(X > 60) = 1 - P(Z \\leq 1)\n",
    "   \\]\n"
   ]
  },
  {
   "cell_type": "code",
   "execution_count": 1,
   "metadata": {},
   "outputs": [
    {
     "name": "stdout",
     "output_type": "stream",
     "text": [
      "Probability: 0.15865525393145707\n"
     ]
    }
   ],
   "source": [
    "from scipy.stats import norm\n",
    "\n",
    "probability = 1 - norm.cdf(1)\n",
    "print(\"Probability:\", probability)"
   ]
  },
  {
   "cell_type": "markdown",
   "metadata": {},
   "source": [
    "\n",
    "\n",
    "### Q7: Explain Uniform Distribution with an Example.\n",
    "\n",
    "A7. **Uniform Distribution** is a type of probability distribution where all outcomes are equally likely within a given range. It can be either discrete or continuous.\n",
    "- **Example**: Rolling a fair six-sided die results in a discrete uniform distribution where each outcome (1 through 6) is equally likely. In a continuous uniform distribution, selecting a random number between 0 and 1 uniformly results in a continuous distribution where every number within the interval has the same probability.\n",
    "\n",
    "### Q8: What is the Z-Score? State the importance of the Z-Score.\n",
    "\n",
    "A8. **Z-Score** measures how many standard deviations an element is from the mean. It is calculated as:\n",
    "  \\[\n",
    "  z = \\frac{X - \\mu}{\\sigma}\n",
    "  \\]\n",
    "  where \\( X \\) is the value, \\( \\mu \\) is the mean, and \\( \\sigma \\) is the standard deviation.\n",
    "\n",
    "Importance of z-score:\n",
    "- It allows comparison of data points from different distributions.\n",
    "- It helps in identifying outliers and understanding the relative position of data points within the distribution.\n",
    "\n",
    "### Q9: What is Central Limit Theorem? State the significance of the Central Limit Theorem.\n",
    "\n",
    "A9. **Central Limit Theorem (CLT)** states that the distribution of the sample mean of a sufficiently large number of independent and identically distributed random variables approaches a normal distribution, regardless of the original distribution of the variables.\n",
    "  \n",
    "Significance of CLT:\n",
    "- It justifies the use of the normal distribution for hypothesis testing and confidence intervals even if the underlying data is not normally distributed.\n",
    "- It simplifies the analysis of complex problems by approximating the distribution of sample means.\n",
    "\n",
    "### Q10: State the assumptions of the Central Limit Theorem.\n",
    "\n",
    "A10. The Assumptions of the Central Limit Theorem:\n",
    "1. **Independence**: The samples must be independent of each other.\n",
    "2. **Identical Distribution**: Each sample must be drawn from the same probability distribution with the same mean and variance.\n",
    "3. **Sample Size**: The sample size should be sufficiently large. Generally, a sample size of 30 or more is considered large enough for the CLT to apply."
   ]
  }
 ],
 "metadata": {
  "kernelspec": {
   "display_name": "Python 3",
   "language": "python",
   "name": "python3"
  },
  "language_info": {
   "codemirror_mode": {
    "name": "ipython",
    "version": 3
   },
   "file_extension": ".py",
   "mimetype": "text/x-python",
   "name": "python",
   "nbconvert_exporter": "python",
   "pygments_lexer": "ipython3",
   "version": "3.12.4"
  }
 },
 "nbformat": 4,
 "nbformat_minor": 2
}

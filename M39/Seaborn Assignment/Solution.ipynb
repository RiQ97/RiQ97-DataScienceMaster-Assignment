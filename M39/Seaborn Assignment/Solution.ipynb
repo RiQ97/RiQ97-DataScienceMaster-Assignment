{
 "cells": [
  {
   "cell_type": "markdown",
   "metadata": {},
   "source": [
    "### Q1: Name any five plots that we can plot using the Seaborn library. Also, state the uses of each plot.\n",
    "\n",
    "1. **Scatter Plot**: Used to show the relationship between two continuous variables. It helps to identify trends, clusters, and outliers.\n",
    "   ```python\n",
    "   sns.scatterplot(x='variable1', y='variable2', data=df)\n",
    "   ```\n",
    "\n",
    "2. **Line Plot**: Useful for showing trends over time or continuous data points. It displays information as a series of data points connected by straight lines.\n",
    "   ```python\n",
    "   sns.lineplot(x='time', y='value', data=df)\n",
    "   ```\n",
    "\n",
    "3. **Box Plot**: Used to show the distribution of data based on a five-number summary (minimum, first quartile, median, third quartile, and maximum). It helps to identify outliers.\n",
    "   ```python\n",
    "   sns.boxplot(x='category', y='value', data=df)\n",
    "   ```\n",
    "\n",
    "4. **Histogram**: Useful for showing the distribution of a single continuous variable. It divides the data into bins and shows the frequency of values in each bin.\n",
    "   ```python\n",
    "   sns.histplot(data=df, x='value')\n",
    "   ```\n",
    "\n",
    "5. **Heatmap**: Used to show a matrix of data values where individual values are represented as colors. It’s useful for visualizing complex data matrices.\n",
    "   ```python\n",
    "   sns.heatmap(data=matrix)\n",
    "   ```\n",
    "\n",
    "### Q2: Load the \"fmri\" dataset using the load_dataset function of seaborn. Plot a line plot using x = \"timepoint\" and y = \"signal\" for different events and regions.\n"
   ]
  },
  {
   "cell_type": "code",
   "execution_count": null,
   "metadata": {},
   "outputs": [],
   "source": [
    "\n",
    "#A2.\n",
    "import seaborn as sns\n",
    "import matplotlib.pyplot as plt\n",
    "\n",
    "# Load the fmri dataset\n",
    "fmri = sns.load_dataset(\"fmri\")\n",
    "\n",
    "# Plot a line plot\n",
    "sns.lineplot(x='timepoint', y='signal', hue='event', style='region', data=fmri)\n",
    "plt.title('FMRI: Signal over Timepoint')\n",
    "plt.xlabel('Timepoint')\n",
    "plt.ylabel('Signal')\n",
    "plt.show()"
   ]
  },
  {
   "cell_type": "markdown",
   "metadata": {},
   "source": [
    "### Q3: Load the \"titanic\" dataset using the load_dataset function of seaborn. Plot two box plots using x = 'pclass', y = 'age' and y = 'fare'.\n"
   ]
  },
  {
   "cell_type": "code",
   "execution_count": null,
   "metadata": {},
   "outputs": [],
   "source": [
    "#A3.\n",
    "import seaborn as sns\n",
    "import matplotlib.pyplot as plt\n",
    "\n",
    "# Load the titanic dataset\n",
    "titanic = sns.load_dataset(\"titanic\")\n",
    "\n",
    "# Box plot for age\n",
    "plt.figure(figsize=(12, 6))\n",
    "plt.subplot(1, 2, 1)\n",
    "sns.boxplot(x='pclass', y='age', data=titanic)\n",
    "plt.title('Age Distribution by Pclass')\n",
    "\n",
    "# Box plot for fare\n",
    "plt.subplot(1, 2, 2)\n",
    "sns.boxplot(x='pclass', y='fare', data=titanic)\n",
    "plt.title('Fare Distribution by Pclass')\n",
    "\n",
    "plt.tight_layout()\n",
    "plt.show()"
   ]
  },
  {
   "cell_type": "markdown",
   "metadata": {},
   "source": [
    "### Q4: Use the \"diamonds\" dataset from seaborn to plot a histogram for the 'price' column. Use the hue parameter for the 'cut' column of the diamonds dataset.\n"
   ]
  },
  {
   "cell_type": "code",
   "execution_count": null,
   "metadata": {},
   "outputs": [],
   "source": [
    "\n",
    "#A4.\n",
    "import seaborn as sns\n",
    "import matplotlib.pyplot as plt\n",
    "\n",
    "# Load the diamonds dataset\n",
    "diamonds = sns.load_dataset(\"diamonds\")\n",
    "\n",
    "# Plot a histogram\n",
    "sns.histplot(data=diamonds, x='price', hue='cut', multiple=\"stack\")\n",
    "plt.title('Price Distribution by Cut')\n",
    "plt.xlabel('Price')\n",
    "plt.ylabel('Frequency')\n",
    "plt.show()"
   ]
  },
  {
   "cell_type": "markdown",
   "metadata": {},
   "source": [
    "\n",
    "### Q5: Use the \"iris\" dataset from seaborn to plot a pair plot. Use the hue parameter for the \"species\" column of the iris dataset.\n"
   ]
  },
  {
   "cell_type": "code",
   "execution_count": null,
   "metadata": {},
   "outputs": [],
   "source": [
    "#A5.\n",
    "import seaborn as sns\n",
    "import matplotlib.pyplot as plt\n",
    "\n",
    "# Load the iris dataset\n",
    "iris = sns.load_dataset(\"iris\")\n",
    "\n",
    "# Plot a pair plot\n",
    "sns.pairplot(iris, hue='species')\n",
    "plt.show()"
   ]
  },
  {
   "cell_type": "markdown",
   "metadata": {},
   "source": [
    "### Q6: Use the \"flights\" dataset from seaborn to plot a heatmap."
   ]
  },
  {
   "cell_type": "code",
   "execution_count": null,
   "metadata": {},
   "outputs": [],
   "source": [
    "#A6.\n",
    "import seaborn as sns\n",
    "import matplotlib.pyplot as plt\n",
    "\n",
    "# Load the flights dataset\n",
    "flights = sns.load_dataset(\"flights\")\n",
    "\n",
    "# Pivot the dataset to create a matrix for the heatmap\n",
    "flights_pivot = flights.pivot(\"month\", \"year\", \"passengers\")\n",
    "\n",
    "# Plot a heatmap\n",
    "sns.heatmap(flights_pivot, cmap=\"YlGnBu\", annot=True, fmt=\"d\")\n",
    "plt.title('Number of Passengers (1949-1960)')\n",
    "plt.xlabel('Year')\n",
    "plt.ylabel('Month')\n",
    "plt.show()"
   ]
  }
 ],
 "metadata": {
  "kernelspec": {
   "display_name": "Python 3",
   "language": "python",
   "name": "python3"
  },
  "language_info": {
   "codemirror_mode": {
    "name": "ipython",
    "version": 3
   },
   "file_extension": ".py",
   "mimetype": "text/x-python",
   "name": "python",
   "nbconvert_exporter": "python",
   "pygments_lexer": "ipython3",
   "version": "3.12.4"
  }
 },
 "nbformat": 4,
 "nbformat_minor": 2
}

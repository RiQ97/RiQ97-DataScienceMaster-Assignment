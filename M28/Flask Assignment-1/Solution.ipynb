{
 "cells": [
  {
   "cell_type": "markdown",
   "metadata": {},
   "source": [
    "Q1. What is Flask Framework? What are the advantages of Flask Framework?\n",
    "\n",
    "A1. Flask Framework is a lightweight and micro web framework for Python. It is designed to make getting started quick and easy, with the ability to scale up to complex applications. Flask provides the essential tools to get a web application up and running and leaves the choice of additional components to the developer.\n",
    "\n",
    "Advantages of Flask Framework:\n",
    "\n",
    "1. Lightweight: Minimalistic and easy to set up, making it a good choice for small and simple applications.\n",
    "2. Flexible: Provides a lot of control to developers, allowing them to build applications the way they want.\n",
    "3. Modular: Flask's modular design allows for easy integration with other libraries and frameworks.\n",
    "4. Extensible: Can be extended with Flask extensions to add more functionality as needed.\n",
    "5. Community Support: Has a strong community and excellent documentation, making it easier to find support and resources.\n",
    "\n",
    "\n",
    "Q2. Create a simple Flask application to display ‘Hello World!!’. Attach the screenshot of the output in Jupyter Notebook."
   ]
  },
  {
   "cell_type": "code",
   "execution_count": null,
   "metadata": {},
   "outputs": [],
   "source": [
    "#A2.\n",
    "from flask import Flask\n",
    "\n",
    "app = Flask(__name__)\n",
    "\n",
    "@app.route(\"/\")\n",
    "def hello_world():\n",
    "    return \"<h1>Hello, World!</h1>\"\n",
    "\n",
    "if __name__==\"__main__\":\n",
    "    app.run(host=\"0.0.0.0\")"
   ]
  },
  {
   "cell_type": "markdown",
   "metadata": {},
   "source": [
    "Q3. What is App routing in Flask? Why do we use app routes?\n",
    "\n",
    "A3. App routing in Flask refers to the process of mapping URLs to specific functions that handle the logic for those URLs. It allows you to define how your application responds to client requests to particular endpoints.\n",
    "\n",
    "The major reason we use app routes:-\n",
    "\n",
    "1. Organize URLs: Helps in organizing URLs in a clear and structured manner.\n",
    "2. Control Response: Allows defining what content to return when a specific URL is accessed.\n",
    "3. Modularity: Facilitates a modular design where different parts of the application can be handled by different functions.\n",
    "\n",
    "\n",
    "Q4. Create a “/welcome” route to display the welcome message “Welcome to ABC Corporation” and a “/” route to show the following details:\n",
    "Company Name: ABC Corporation\n",
    "Location: India\n",
    "Contact Detail: 999-999-9999\n"
   ]
  },
  {
   "cell_type": "code",
   "execution_count": null,
   "metadata": {},
   "outputs": [],
   "source": [
    "#A4\n",
    "from flask import Flask\n",
    "\n",
    "app = Flask(__name__)\n",
    "\n",
    "@app.route('/')\n",
    "def home():\n",
    "    return '''Company Name: ABC Corporation<br>\n",
    "              Location: India<br>\n",
    "              Contact Detail: 999-999-9999'''\n",
    "\n",
    "@app.route('/welcome')\n",
    "def welcome():\n",
    "    return 'Welcome to ABC Corporation'\n",
    "\n",
    "if __name__ == '__main__':\n",
    "    app.run(host=\"0.0.0.0\")"
   ]
  },
  {
   "cell_type": "markdown",
   "metadata": {},
   "source": [
    "\n",
    "Q5. What function is used in Flask for URL Building? Write a Python code to demonstrate the working of the url_for() function.\n",
    "\n",
    "A5. The url_for() function is used to build a URL to a specific function dynamically. This is useful because it allows the URLs in the application to be changed without having to update the code that generates the links.\n",
    "\n",
    "Example:"
   ]
  },
  {
   "cell_type": "code",
   "execution_count": null,
   "metadata": {},
   "outputs": [],
   "source": [
    "from flask import Flask, url_for\n",
    "\n",
    "app = Flask(__name__)\n",
    "\n",
    "@app.route('/')\n",
    "def home():\n",
    "    return 'Home Page'\n",
    "\n",
    "@app.route('/welcome')\n",
    "def welcome():\n",
    "    return 'Welcome to ABC Corporation'\n",
    "\n",
    "@app.route('/urltest')\n",
    "def urltest():\n",
    "    home_url = url_for('home')\n",
    "    welcome_url = url_for('welcome')\n",
    "    return f'Home URL: {home_url}<br>Welcome URL: {welcome_url}'\n",
    "\n",
    "if __name__ == '__main__':\n",
    "    app.run(host=\"0.0.0.0\")\n"
   ]
  }
 ],
 "metadata": {
  "kernelspec": {
   "display_name": "Python 3",
   "language": "python",
   "name": "python3"
  },
  "language_info": {
   "codemirror_mode": {
    "name": "ipython",
    "version": 3
   },
   "file_extension": ".py",
   "mimetype": "text/x-python",
   "name": "python",
   "nbconvert_exporter": "python",
   "pygments_lexer": "ipython3",
   "version": "3.12.4"
  }
 },
 "nbformat": 4,
 "nbformat_minor": 2
}

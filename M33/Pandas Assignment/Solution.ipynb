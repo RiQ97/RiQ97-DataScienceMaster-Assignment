{
 "cells": [
  {
   "cell_type": "markdown",
   "metadata": {},
   "source": [
    "### Q1. List any five functions of the pandas library with execution."
   ]
  },
  {
   "cell_type": "code",
   "execution_count": 1,
   "metadata": {},
   "outputs": [
    {
     "name": "stdout",
     "output_type": "stream",
     "text": [
      "head():\n",
      "   A  B  C\n",
      "0  1  4  7\n",
      "1  2  5  8\n",
      "\n",
      "describe():\n",
      "         A    B    C\n",
      "count  3.0  3.0  3.0\n",
      "mean   2.0  5.0  8.0\n",
      "std    1.0  1.0  1.0\n",
      "min    1.0  4.0  7.0\n",
      "25%    1.5  4.5  7.5\n",
      "50%    2.0  5.0  8.0\n",
      "75%    2.5  5.5  8.5\n",
      "max    3.0  6.0  9.0\n",
      "\n",
      "groupby():\n",
      "   B  C\n",
      "A      \n",
      "1  4  7\n",
      "2  5  8\n",
      "3  6  9\n",
      "\n",
      "dropna():\n",
      "   A  B  C\n",
      "0  1  4  7\n",
      "1  2  5  8\n",
      "2  3  6  9\n",
      "\n",
      "merge():\n",
      "   A  B  C     D\n",
      "0  1  4  7  10.0\n",
      "1  2  5  8  20.0\n",
      "2  3  6  9   NaN\n"
     ]
    }
   ],
   "source": [
    "#A1.\n",
    "import pandas as pd\n",
    "data = {\n",
    "    'A': [1, 2, 3],\n",
    "    'B': [4, 5, 6],\n",
    "    'C': [7, 8, 9]\n",
    "}\n",
    "df = pd.DataFrame(data)\n",
    "\n",
    "# 1. head(): Returns the first n rows of the DataFrame.\n",
    "print(\"head():\")\n",
    "print(df.head(2))\n",
    "\n",
    "# 2. describe(): Generates descriptive statistics.\n",
    "print(\"\\ndescribe():\")\n",
    "print(df.describe())\n",
    "\n",
    "# 3. groupby(): Groups DataFrame using a mapper or by a Series of columns.\n",
    "grouped = df.groupby('A').sum()\n",
    "print(\"\\ngroupby():\")\n",
    "print(grouped)\n",
    "\n",
    "# 4. dropna(): Removes missing values.\n",
    "print(\"\\ndropna():\")\n",
    "print(df.dropna())\n",
    "\n",
    "# 5. merge(): Merges DataFrame objects by performing a database-style join.\n",
    "df2 = pd.DataFrame({\n",
    "    'A': [1, 2],\n",
    "    'D': [10, 20]\n",
    "})\n",
    "merged_df = pd.merge(df, df2, on='A', how='left')\n",
    "print(\"\\nmerge():\")\n",
    "print(merged_df)"
   ]
  },
  {
   "cell_type": "markdown",
   "metadata": {},
   "source": [
    "### Q2. Given a Pandas DataFrame df with columns 'A', 'B', and 'C', write a Python function to re-index the DataFrame with a new index that starts from 1 and increments by 2 for each row."
   ]
  },
  {
   "cell_type": "code",
   "execution_count": 2,
   "metadata": {},
   "outputs": [
    {
     "name": "stdout",
     "output_type": "stream",
     "text": [
      "    A   B   C\n",
      "1  10  40  70\n",
      "3  20  50  80\n",
      "5  30  60  90\n"
     ]
    }
   ],
   "source": [
    "#A2.\n",
    "import pandas as pd\n",
    "\n",
    "def reindex_dataframe(df):\n",
    "    new_index = range(1, 2*len(df) + 1, 2)\n",
    "    df.index = new_index\n",
    "    return df\n",
    "\n",
    "# Sample DataFrame\n",
    "data = {\n",
    "    'A': [10, 20, 30],\n",
    "    'B': [40, 50, 60],\n",
    "    'C': [70, 80, 90]\n",
    "}\n",
    "df = pd.DataFrame(data)\n",
    "print(reindex_dataframe(df))"
   ]
  },
  {
   "cell_type": "markdown",
   "metadata": {},
   "source": [
    "### Q3. You have a Pandas DataFrame df with a column named 'Values'. Write a Python function that iterates over the DataFrame and calculates the sum of the first three values in the 'Values' column."
   ]
  },
  {
   "cell_type": "code",
   "execution_count": 3,
   "metadata": {},
   "outputs": [
    {
     "name": "stdout",
     "output_type": "stream",
     "text": [
      "60\n"
     ]
    }
   ],
   "source": [
    "#A3. \n",
    "import pandas as pd\n",
    "\n",
    "def sum_first_three_values(df):\n",
    "    return df['Values'].head(3).sum()\n",
    "\n",
    "# Sample DataFrame\n",
    "data = {'Values': [10, 20, 30, 40, 50]}\n",
    "df = pd.DataFrame(data)\n",
    "print(sum_first_three_values(df))"
   ]
  },
  {
   "cell_type": "markdown",
   "metadata": {},
   "source": [
    "### Q4. Given a Pandas DataFrame df with a column 'Text', write a Python function to create a new column 'Word_Count' that contains the number of words in each row of the 'Text' column."
   ]
  },
  {
   "cell_type": "code",
   "execution_count": null,
   "metadata": {},
   "outputs": [],
   "source": [
    "#A4.\n",
    "import pandas as pd\n",
    "\n",
    "def add_word_count_column(df):\n",
    "    df['Word_Count'] = df['Text'].apply(lambda x: len(str(x).split()))\n",
    "    return df\n",
    "\n",
    "# Sample DataFrame\n",
    "data = {'Text': ['Hello world', 'Pandas is great', 'Python programming']}\n",
    "df = pd.DataFrame(data)\n",
    "print(add_word_count_column(df))"
   ]
  },
  {
   "cell_type": "markdown",
   "metadata": {},
   "source": [
    "### Q5. How are DataFrame.size() and DataFrame.shape() different?\n",
    "\n",
    "A5. Where the `DataFrame.size` returns the total number of elements in the DataFrame (rows * columns), while `DataFrame.shape` returns a tuple representing the dimensionality of the DataFrame (rows, columns).\n",
    "\n",
    "### Q6. Which function of pandas do we use to read an Excel file?\n",
    "\n",
    "A6. The function we used to read an Excel file is `pd.read_excel()`.\n",
    "\n",
    "### Q7. You have a Pandas DataFrame df that contains a column named 'Email'. Write a Python function that creates a new column 'Username' in df that contains only the username part of each email address."
   ]
  },
  {
   "cell_type": "code",
   "execution_count": 5,
   "metadata": {},
   "outputs": [
    {
     "name": "stdout",
     "output_type": "stream",
     "text": [
      "                   Email    Username\n",
      "0   john.doe@example.com    john.doe\n",
      "1  jane.smith@domain.com  jane.smith\n"
     ]
    }
   ],
   "source": [
    "#A7.\n",
    "import pandas as pd\n",
    "\n",
    "def add_username_column(df):\n",
    "    df['Username'] = df['Email'].apply(lambda x: x.split('@')[0])\n",
    "    return df\n",
    "\n",
    "# Sample DataFrame\n",
    "data = {'Email': ['john.doe@example.com', 'jane.smith@domain.com']}\n",
    "df = pd.DataFrame(data)\n",
    "print(add_username_column(df))"
   ]
  },
  {
   "cell_type": "markdown",
   "metadata": {},
   "source": [
    "### Q8. You have a Pandas DataFrame df with columns 'A', 'B', and 'C'. Write a Python function that selects all rows where the value in column 'A' is greater than 5 and the value in column 'B' is less than 10.\n"
   ]
  },
  {
   "cell_type": "code",
   "execution_count": 4,
   "metadata": {},
   "outputs": [
    {
     "name": "stdout",
     "output_type": "stream",
     "text": [
      "   A  B  C\n",
      "1  8  2  7\n",
      "2  6  9  4\n",
      "4  9  1  2\n"
     ]
    }
   ],
   "source": [
    "\n",
    "#A8.\n",
    "import pandas as pd\n",
    "\n",
    "def filter_dataframe(df):\n",
    "    return df[(df['A'] > 5) & (df['B'] < 10)]\n",
    "\n",
    "# Sample DataFrame\n",
    "data = {\n",
    "    'A': [3, 8, 6, 2, 9],\n",
    "    'B': [5, 2, 9, 3, 1],\n",
    "    'C': [1, 7, 4, 5, 2]\n",
    "}\n",
    "df = pd.DataFrame(data)\n",
    "print(filter_dataframe(df))"
   ]
  },
  {
   "cell_type": "markdown",
   "metadata": {},
   "source": [
    "\n",
    "### Q9. Given a Pandas DataFrame df with a column 'Values', write a Python function to calculate the mean, median, and standard deviation of the values in the 'Values' column.\n"
   ]
  },
  {
   "cell_type": "code",
   "execution_count": 6,
   "metadata": {},
   "outputs": [
    {
     "name": "stdout",
     "output_type": "stream",
     "text": [
      "(np.float64(30.0), np.float64(30.0), np.float64(15.811388300841896))\n"
     ]
    }
   ],
   "source": [
    "\n",
    "#A9.\n",
    "import pandas as pd\n",
    "\n",
    "def calculate_statistics(df):\n",
    "    mean = df['Values'].mean()\n",
    "    median = df['Values'].median()\n",
    "    std_dev = df['Values'].std()\n",
    "    return mean, median, std_dev\n",
    "\n",
    "# Sample DataFrame\n",
    "data = {'Values': [10, 20, 30, 40, 50]}\n",
    "df = pd.DataFrame(data)\n",
    "print(calculate_statistics(df))"
   ]
  },
  {
   "cell_type": "markdown",
   "metadata": {},
   "source": [
    "### Q10. Given a Pandas DataFrame df with a column 'Sales' and a column 'Date', write a Python function to create a new column 'MovingAverage' that contains the moving average of the sales for the past 7 days for each row.\n"
   ]
  },
  {
   "cell_type": "code",
   "execution_count": 7,
   "metadata": {},
   "outputs": [
    {
     "name": "stdout",
     "output_type": "stream",
     "text": [
      "        Date  Sales  MovingAverage\n",
      "0 2023-01-01     10            NaN\n",
      "1 2023-01-02     20            NaN\n",
      "2 2023-01-03     30            NaN\n",
      "3 2023-01-04     40            NaN\n",
      "4 2023-01-05     50            NaN\n",
      "5 2023-01-06     60            NaN\n",
      "6 2023-01-07     70           40.0\n",
      "7 2023-01-08     80           50.0\n",
      "8 2023-01-09     90           60.0\n",
      "9 2023-01-10    100           70.0\n"
     ]
    }
   ],
   "source": [
    "\n",
    "#A10. \n",
    "import pandas as pd\n",
    "\n",
    "def add_moving_average(df):\n",
    "    df['MovingAverage'] = df['Sales'].rolling(window=7).mean()\n",
    "    return df\n",
    "\n",
    "# Sample DataFrame\n",
    "data = {\n",
    "    'Date': pd.date_range(start='2023-01-01', periods=10, freq='D'),\n",
    "    'Sales': [10, 20, 30, 40, 50, 60, 70, 80, 90, 100]\n",
    "}\n",
    "df = pd.DataFrame(data)\n",
    "print(add_moving_average(df))"
   ]
  },
  {
   "cell_type": "markdown",
   "metadata": {},
   "source": [
    "\n",
    "### Q11. You have a Pandas DataFrame df with a column 'Date'. Write a Python function that creates a new column 'Weekday' in the DataFrame.\n"
   ]
  },
  {
   "cell_type": "code",
   "execution_count": 8,
   "metadata": {},
   "outputs": [
    {
     "name": "stdout",
     "output_type": "stream",
     "text": [
      "        Date    Weekday\n",
      "0 2023-01-01     Sunday\n",
      "1 2023-01-02     Monday\n",
      "2 2023-01-03    Tuesday\n",
      "3 2023-01-04  Wednesday\n",
      "4 2023-01-05   Thursday\n"
     ]
    }
   ],
   "source": [
    "\n",
    "#A11.\n",
    "import pandas as pd\n",
    "\n",
    "def add_weekday_column(df):\n",
    "    df['Weekday'] = df['Date'].dt.day_name()\n",
    "    return df\n",
    "\n",
    "# Sample DataFrame\n",
    "data = {'Date': pd.date_range(start='2023-01-01', periods=5, freq='D')}\n",
    "df = pd.DataFrame(data)\n",
    "print(add_weekday_column(df))"
   ]
  },
  {
   "cell_type": "markdown",
   "metadata": {},
   "source": [
    "\n",
    "### Q12. Given a Pandas DataFrame df with a column 'Date' that contains timestamps, write a Python function to select all rows where the date is between '2023-01-01' and '2023-01-31'.\n"
   ]
  },
  {
   "cell_type": "code",
   "execution_count": 9,
   "metadata": {},
   "outputs": [
    {
     "name": "stdout",
     "output_type": "stream",
     "text": [
      "         Date  Value\n",
      "7  2023-01-01      7\n",
      "8  2023-01-02      8\n",
      "9  2023-01-03      9\n",
      "10 2023-01-04     10\n",
      "11 2023-01-05     11\n",
      "12 2023-01-06     12\n",
      "13 2023-01-07     13\n",
      "14 2023-01-08     14\n",
      "15 2023-01-09     15\n",
      "16 2023-01-10     16\n",
      "17 2023-01-11     17\n",
      "18 2023-01-12     18\n",
      "19 2023-01-13     19\n",
      "20 2023-01-14     20\n",
      "21 2023-01-15     21\n",
      "22 2023-01-16     22\n",
      "23 2023-01-17     23\n",
      "24 2023-01-18     24\n",
      "25 2023-01-19     25\n",
      "26 2023-01-20     26\n",
      "27 2023-01-21     27\n",
      "28 2023-01-22     28\n",
      "29 2023-01-23     29\n",
      "30 2023-01-24     30\n",
      "31 2023-01-25     31\n",
      "32 2023-01-26     32\n",
      "33 2023-01-27     33\n",
      "34 2023-01-28     34\n",
      "35 2023-01-29     35\n",
      "36 2023-01-30     36\n",
      "37 2023-01-31     37\n"
     ]
    }
   ],
   "source": [
    "\n",
    "#A12.\n",
    "import pandas as pd\n",
    "\n",
    "def filter_date_range(df):\n",
    "    start_date = '2023-01-01'\n",
    "    end_date = '2023-01-31'\n",
    "    mask = (df['Date'] >= start_date) & (df['Date'] <= end_date)\n",
    "    return df[mask]\n",
    "\n",
    "# Sample DataFrame\n",
    "data = {\n",
    "    'Date': pd.date_range(start='2022-12-25', periods=40, freq='D'),\n",
    "    'Value': range(40)\n",
    "}\n",
    "df = pd.DataFrame(data)\n",
    "print(filter_date_range(df))"
   ]
  },
  {
   "cell_type": "markdown",
   "metadata": {},
   "source": [
    "\n",
    "### Q13. To use the basic functions of pandas, what is the first and foremost necessary library that needs to be imported?\n",
    "\n",
    "A13. The first and foremost necessary library that needs to be imported is `pandas`.\n",
    "\n",
    "import pandas as pd"
   ]
  }
 ],
 "metadata": {
  "kernelspec": {
   "display_name": "Python 3",
   "language": "python",
   "name": "python3"
  },
  "language_info": {
   "codemirror_mode": {
    "name": "ipython",
    "version": 3
   },
   "file_extension": ".py",
   "mimetype": "text/x-python",
   "name": "python",
   "nbconvert_exporter": "python",
   "pygments_lexer": "ipython3",
   "version": "3.12.4"
  }
 },
 "nbformat": 4,
 "nbformat_minor": 2
}

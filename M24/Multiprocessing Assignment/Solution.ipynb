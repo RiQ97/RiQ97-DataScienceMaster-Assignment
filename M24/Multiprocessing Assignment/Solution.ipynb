{
 "cells": [
  {
   "cell_type": "markdown",
   "metadata": {},
   "source": [
    "Q1. What is multiprocessing in Python? Why is it useful?\n",
    "\n",
    "A1:Multiprocessing in Python is a module that allows us to create and manage multiple processes within a single thread. This module is a part of the Python standard library and provides a way to perform parallel execution by using separate memory spaces for each process.\n",
    "\n",
    "Main advantage of using multiprocessing:\n",
    "\n",
    "Parallelism: It allows us to run multiple tasks simultaneously, making full use of multiple CPUs or cores.\n",
    "Efficiency: It helps to bypass the Global Interpreter Lock (GIL) in Python, which is a limitation for CPU-bound tasks in multithreading.\n",
    "Resource Utilization: Better CPU utilization for compute-intensive tasks.\n",
    "\n",
    "\n",
    "Q2. What are the differences between multiprocessing and multithreading?\n",
    "\n",
    "A2. \n",
    "\n",
    "1. Multiprocessing:\n",
    "\n",
    "Memory: Each process has its own memory space.\n",
    "GIL: Does not have Global Interpreter Lock (GIL) issues since each process is independent.\n",
    "Overhead: More overhead due to creating separate memory space and context switching between processes.\n",
    "Use Case: Suitable for CPU-bound tasks.\n",
    "\n",
    "2. Multithreading:\n",
    "\n",
    "Memory: Threads share the same memory space.\n",
    "GIL: In CPython, the GIL can be a bottleneck because it allows only one thread to execute Python bytecode at a time.\n",
    "Overhead: Less overhead compared to multiprocessing as threads share the same memory.\n",
    "Use Case: Suitable for I/O-bound tasks.\n",
    "\n",
    "\n",
    "Q3. Write a Python code to create a process using the multiprocessing module.\n"
   ]
  },
  {
   "cell_type": "code",
   "execution_count": 1,
   "metadata": {},
   "outputs": [],
   "source": [
    "#A3. \n",
    "import multiprocessing\n",
    "\n",
    "def worker():\n",
    "    print(\"Worker process is running\")\n",
    "\n",
    "if __name__ == \"__main__\":\n",
    "    process = multiprocessing.Process(target=worker)\n",
    "    process.start()\n",
    "    process.join()"
   ]
  },
  {
   "cell_type": "markdown",
   "metadata": {},
   "source": [
    "Q4. What is a multiprocessing pool in Python? Why is it used?\n",
    "\n",
    "A4. Pool is one of the main components of the multiprocessing module in Python.\n",
    "It provides a convenient way to parallelize execution of a function across multiple input values.\n",
    "The key methods are apply(), apply_async(), map(), map_async(), close(), terminate(), join()\n",
    "\n",
    "it is used to-\n",
    "1. To manage and control a pool of worker processes.\n",
    "2. Simplifies the process of distributing tasks to worker processes.\n",
    "3. Efficiently utilizes multiple CPU cores for parallel execution of tasks."
   ]
  },
  {
   "cell_type": "markdown",
   "metadata": {},
   "source": [
    "Q5. How can we create a pool of worker processes in Python using the multiprocessing module?"
   ]
  },
  {
   "cell_type": "code",
   "execution_count": 1,
   "metadata": {},
   "outputs": [],
   "source": [
    "#A5.\n",
    "from multiprocessing import Pool\n",
    "\n",
    "def worker_function(x):\n",
    "    return x * x\n",
    "\n",
    "if __name__ == \"__main__\":\n",
    "    with Pool(processes=4) as pool:\n",
    "        results = pool.map(worker_function, [1, 2, 3, 4, 5])\n",
    "    print(results)"
   ]
  },
  {
   "cell_type": "markdown",
   "metadata": {},
   "source": [
    "Q6. Write a Python program to create 4 processes, each process should print a different number using the multiprocessing module in Python."
   ]
  },
  {
   "cell_type": "code",
   "execution_count": 5,
   "metadata": {},
   "outputs": [],
   "source": [
    "#A6.\n",
    "\n",
    "import multiprocessing\n",
    "\n",
    "def worker(number):\n",
    "    print(f\"Process number: {number}\")\n",
    "\n",
    "if __name__ == \"__main__\":\n",
    "    processes = []\n",
    "    for i in range(4):\n",
    "        process = multiprocessing.Process(target=worker, args=(i,))\n",
    "        processes.append(process)\n",
    "        process.start()\n",
    "\n",
    "    for process in processes:\n",
    "        process.join()"
   ]
  }
 ],
 "metadata": {
  "kernelspec": {
   "display_name": "Python 3",
   "language": "python",
   "name": "python3"
  },
  "language_info": {
   "codemirror_mode": {
    "name": "ipython",
    "version": 3
   },
   "file_extension": ".py",
   "mimetype": "text/x-python",
   "name": "python",
   "nbconvert_exporter": "python",
   "pygments_lexer": "ipython3",
   "version": "3.12.4"
  }
 },
 "nbformat": 4,
 "nbformat_minor": 2
}

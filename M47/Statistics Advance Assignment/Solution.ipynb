{
 "cells": [
  {
   "cell_type": "markdown",
   "metadata": {},
   "source": [
    "### Q1: What is the difference between a t-test and a z-test? Provide an example scenario where you would use each type of test.\n",
    "\n",
    "A1. **T-Test**:Applied when the sample size is small (typically ( n < 30  )) and/or the population standard deviation is unknown.\n",
    "**Example**: Testing whether the mean test score of a small class of students differs from the national average.\n",
    "\n",
    "**Z-Test**:Applied when the sample size is large (typically ( n <= 30 ) ) and the population standard deviation is known.\n",
    "**Example**: Testing whether the mean height of a large group of individuals differs from the known population mean.\n",
    "\n",
    "### Q2: Differentiate between one-tailed and two-tailed tests.\n",
    "\n",
    "A2. **One-Tailed Test**: Tests the hypothesis in one direction. It determines if there is a statistically significant effect in one specific direction (either greater than or less than).\n",
    "- **Example**: Testing if a new drug increases recovery rate more than the standard drug.\n",
    "\n",
    "**Two-Tailed Test**: Tests the hypothesis in both directions. It determines if there is a statistically significant effect in either direction (either greater than or less than).\n",
    "- **Example**: Testing if a new drug has a different recovery rate (either higher or lower) compared to the standard drug.\n",
    "\n",
    "### Q3: Explain the concept of Type 1 and Type 2 errors in hypothesis testing. Provide an example scenario for each type of error.\n",
    "\n",
    "A3. **Type 1 Error**: Rejecting the null hypothesis when it is actually true (false positive).\n",
    "- **Example**: Concluding that a new drug is effective when it is actually not.\n",
    "\n",
    "**Type 2 Error**: Failing to reject the null hypothesis when it is actually false (false negative).\n",
    "- **Example**: Concluding that a new drug is not effective when it actually is.\n"
   ]
  },
  {
   "cell_type": "markdown",
   "metadata": {},
   "source": [
    "\n",
    "### Q4: Explain Bayes's theorem with an example.\n",
    "\n",
    "A4. **Bayes's Theorem**:\n",
    "- **Formula**: $$  P(A|B) = \\frac{P(B|A) \\cdot P(A)}{P(B)} $$ \n",
    "- **Example**: \n",
    "**Scenario**: Testing for a rare disease where:\n",
    "$$  P(Disease) = 0.01   (prior probability of having the disease) $$\n",
    "$$ P(Positive|Disease) = 0.99   (sensitivity) $$\n",
    "$$ P(Positive|NoDisease) = 0.05   (false positive rate)  $$\n",
    "  - **Calculation**:\n",
    "$$ P(Positive) = P(Positive|Disease) \\cdot P(Disease) + P(Positive|NoDisease) \\cdot P(NoDisease) $$ \n",
    "$$ P(Disease|Positive) = \\frac{P(Positive|Disease) \\cdot P(Disease)}{P(Positive)} $$ \n"
   ]
  },
  {
   "cell_type": "markdown",
   "metadata": {},
   "source": [
    "\n",
    "### Q5: What is a confidence interval? How to calculate the confidence interval, explain with an example.\n",
    "\n",
    "A5. **Confidence Interval** is defined as the range of values within which the population parameter is expected to lie with a certain level of confidence.\n",
    "- **Formula**: $$  \\text{CI} = \\bar{x} \\pm Z_{\\alpha/2} \\left( \\frac{\\sigma}{\\sqrt{n}} \\right) $$ \n",
    "**Example**: \n",
    "$$ Sample mean (\\bar{x}) = 50, standard deviation (\\sigma) = 5, sample size (n) = 100, confidence level = 95\\%, Z_{0.025} = 1.96 $$ \n",
    "$$ CI = ( 50 \\pm 1.96 \\left( \\frac{5}{\\sqrt{100}} \\right) = 50 \\pm 0.98 = [49.02, 50.98] $$ \n"
   ]
  },
  {
   "cell_type": "markdown",
   "metadata": {},
   "source": [
    "\n",
    "### Q6. Use Bayes' Theorem to calculate the probability of an event occurring given prior knowledge of the event's probability and new evidence. Provide a sample problem and solution.\n",
    "\n",
    "A6. There is a test for a disease. The probability of having the disease (prior) is 1%. The test has a 99% chance of a positive result if the person has the disease (sensitivity), and a 5% chance of a positive result if the person does not have the disease (false positive rate).\n",
    "\n",
    "$$ P(Disease) = 0.01 $$ \n",
    "$$ P(Positive|Disease) = 0.99 $$ \n",
    "$$ P(Positive|NoDisease) = 0.05 $$ \n",
    "$$ P(NoDisease) = 0.99 $$ \n",
    "$$ P(Positive) = P(Positive|Disease) \\cdot P(Disease) + P(Positive|NoDisease) \\cdot P(NoDisease) $$ \n",
    "$$ P(Positive) = (0.99 \\cdot 0.01) + (0.05 \\cdot 0.99) = 0.0099 + 0.0495 = 0.0594 $$ \n",
    "$$ P(Disease|Positive) = \\frac{P(Positive|Disease) \\cdot P(Disease)}{P(Positive)} $$ \n",
    "$$ P(Disease|Positive) = \\frac{0.99 \\cdot 0.01}{0.0594} = 0.166 $$ \n"
   ]
  },
  {
   "cell_type": "markdown",
   "metadata": {},
   "source": [
    "\n",
    "### Q7. Calculate the 95% confidence interval for a sample of data with a mean of 50 and a standard deviation of 5. Interpret the results.\n",
    "\n",
    "A7.\n",
    "Sample mean \n",
    "$$ \n",
    "(\\bar{x}) = 50,  standard deviation (\\sigma) = 5,  sample size  (n) = 100,  Z_{0.025} = 1.96 \n",
    "$$ \n",
    "$$ \n",
    "CI = ( 50 \\pm 1.96 \\left( \\frac{5}{\\sqrt{100}} \\right) = 50 \\pm 0.98 = [49.02, 50.98] )\n",
    "$$\n",
    "\n",
    "**Interpretation**: We are 95% confident that the true population mean lies between 49.02 and 50.98.\n"
   ]
  },
  {
   "cell_type": "markdown",
   "metadata": {},
   "source": [
    "\n",
    "### Q8. What is the margin of error in a confidence interval? How does sample size affect the margin of error? Provide an example of a scenario where a larger sample size would result in a smaller margin of error.\n",
    "\n",
    "A8. **Margin of Error** is the maximum expected difference between the true population parameter and the sample estimate.\n",
    "$$  \n",
    "\\text{Margin of Error} = Z_{\\alpha/2} \\left( \\frac{\\sigma}{\\sqrt{n}} \\right)\n",
    "$$ \n",
    "- **Effect of Sample Size**: As sample size (n) increases, the margin of error decreases.\n",
    "- **Example**: A survey of 1000 people has a smaller margin of error compared to a survey of 100 people when estimating the average age of a population.\n"
   ]
  },
  {
   "cell_type": "markdown",
   "metadata": {},
   "source": [
    "\n",
    "### Q9. Calculate the z-score for a data point with a value of 75, a population mean of 70, and a population standard deviation of 5. Interpret the results.\n",
    "\n",
    "A9. \n",
    "$$ \n",
    "(Z = \\frac{X - \\mu}{\\sigma} = \\frac{75 - 70}{5} = 1 )\n",
    "$$ \n",
    "\n",
    "**Interpretation**: The data point is 1 standard deviation above the mean.\n"
   ]
  },
  {
   "cell_type": "markdown",
   "metadata": {},
   "source": [
    "\n",
    "### Q10. In a study of the effectiveness of a new weight loss drug, a sample of 50 participants lost an average of 6 pounds with a standard deviation of 2.5 pounds. Conduct a hypothesis test to determine if the drug is significantly effective at a 95% confidence level using a t-test.\n",
    "\n",
    "A10. \n",
    "Null hypothesis (H_0): The drug is not effective (\\mu = 0)\n",
    "Alternative hypothesis  (H_a): The drug is effective (\\mu > 0)\n",
    "Sample mean (\\bar{x}) = 6, standard deviation  (s) = 2.5, sample size (n) = 50\n",
    "$$\n",
    "( t = \\frac{\\bar{x} - \\mu}{s/\\sqrt{n}} = \\frac{6 - 0}{2.5/\\sqrt{50}} = 16.97 )\n",
    "$$\n",
    "Compare with critical value from t-distribution table with  df = 49  at 0.05 significance level\n"
   ]
  },
  {
   "cell_type": "markdown",
   "metadata": {},
   "source": [
    "\n",
    "### Q11. In a survey of 500 people, 65% reported being satisfied with their current job. Calculate the 95% confidence interval for the true proportion of people who are satisfied with their job.\n",
    "\n",
    "A11.\n",
    "Sample proportion  (p) = 0.65, sample size  (n) = 500\n",
    "$$ Z_{0.025} = 1.96 \n",
    "CI = ( p \\pm Z_{0.025} \\sqrt{\\frac{p(1 - p)}{n}} )\n",
    "CI = ( 0.65 \\pm 1.96 \\sqrt{\\frac{0.65 \\cdot 0.35}{500}} = 0.65 \\pm 0.043) \n",
    "CI = [0.607, 0.693]\n",
    "$$"
   ]
  },
  {
   "cell_type": "markdown",
   "metadata": {},
   "source": [
    "\n",
    "### Q12. A researcher is testing the effectiveness of two different teaching methods on student performance. Sample A has a mean score of 85 with a standard deviation of 6, while sample B has a mean score of 82 with a standard deviation of 5. Conduct a hypothesis test to determine if the two teaching methods have a significant difference in student performance using a t-test with a significance level of 0.01.\n",
    "\n",
    "A12.\n",
    "Null hypothesis  (H_0): No difference in means $$ (\\mu_A = \\mu_B ) $$\n",
    "Alternative hypothesis  (H_a): Difference in means $$ (\\mu_A \\neq \\mu_B) $$\n",
    "Sample sizes: $$ (n_A = 30), (n_B = 40) $$\n",
    "Calculate the t-statistic for two independent samples:\n",
    "  $$  t = \\frac{\\bar{x}_A - \\bar{x}_B}{\\sqrt{\\frac{s_A^2}{n_A} + \\frac{s_B^2}{n_B}}} $$ \n",
    "  $$  t = \\frac{85 - 82}{\\sqrt{\\frac{6^2}{30} + \\frac{5^2}{40}}} = 2.21 $$ \n",
    "Compare with critical value from t-distribution table with $$ df \\approx \\min(n_A - 1, n_B - 1) = 29 $$  at 0.01 significance level.\n"
   ]
  },
  {
   "cell_type": "markdown",
   "metadata": {},
   "source": [
    "\n",
    "### Q13. A population has a mean of 60 and a standard deviation of 8. A sample of 50 observations has a mean of 65. Calculate the 90% confidence interval for the true population mean.\n",
    "\n",
    "A13.\n",
    "- Population mean $$ (\\mu) = 60 $$, population standard deviation $$ (\\sigma )  = 8 $$, sample mean $$ (\\bar{x}) = 65 $$, sample size $$ (n) = 50 $$\n",
    "- $$ Z_{0.05} = 1.645 $$ \n",
    "- $$ CI = ( \\bar{x} \\pm Z_{0.05} \\left( \\frac{\\sigma}{\\sqrt{n}} \\right) $$ \n",
    "- $$ CI = ( 65 \\pm 1.645 \\left( \\frac{8}{\\sqrt{50}} \\right) = 65 \\pm 1.86 = [63.14, 66.86] $$ \n"
   ]
  },
  {
   "cell_type": "markdown",
   "metadata": {},
   "source": [
    "\n",
    "### Q14. In a study of the effects of caffeine on reaction time, a sample of 30 participants had an average reaction time of 0.25 seconds with a standard deviation of 0.05 seconds. Conduct a hypothesis test to determine if the caffeine has a significant effect on reaction time at a 90% confidence level using a t-test.\n",
    "\n",
    "A14.\n",
    "- Null hypothesis (H_0): No effect on reaction time $$ (\\mu = \\text{expected mean}) $$\n",
    "- Alternative hypothesis  (H_a): Caffeine affects reaction time $$ (\\mu \\neq \\text{expected mean}) $$\n",
    "- Sample mean $$ (\\bar{x}) = 0.25 $$ , standard deviation $$ (s) = 0.05 $$ , sample size $$ (n) = 30 $$\n",
    "- $$ t = \\frac{\\bar{x} - \\mu}{s/\\sqrt{n}} $$ \n",
    "- Compare with critical value from t-distribution table with $$ df = 29 $$  at 0.10 significance level."
   ]
  }
 ],
 "metadata": {
  "kernelspec": {
   "display_name": "Python 3",
   "language": "python",
   "name": "python3"
  },
  "language_info": {
   "codemirror_mode": {
    "name": "ipython",
    "version": 3
   },
   "file_extension": ".py",
   "mimetype": "text/x-python",
   "name": "python",
   "nbconvert_exporter": "python",
   "pygments_lexer": "ipython3",
   "version": "3.12.4"
  }
 },
 "nbformat": 4,
 "nbformat_minor": 2
}
